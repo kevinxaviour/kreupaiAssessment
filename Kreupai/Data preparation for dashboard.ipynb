{
 "cells": [
  {
   "cell_type": "code",
   "execution_count": 1,
   "id": "639f95e6-b1d9-4903-9788-4bd19d3e0985",
   "metadata": {},
   "outputs": [],
   "source": [
    "import pandas as pd\n",
    "import os\n",
    "import ast, json\n",
    "import math"
   ]
  },
  {
   "cell_type": "code",
   "execution_count": 143,
   "id": "295d4274-af0e-4cbb-a8a6-0a4d3b421619",
   "metadata": {},
   "outputs": [
    {
     "data": {
      "text/html": [
       "<div>\n",
       "<style scoped>\n",
       "    .dataframe tbody tr th:only-of-type {\n",
       "        vertical-align: middle;\n",
       "    }\n",
       "\n",
       "    .dataframe tbody tr th {\n",
       "        vertical-align: top;\n",
       "    }\n",
       "\n",
       "    .dataframe thead th {\n",
       "        text-align: right;\n",
       "    }\n",
       "</style>\n",
       "<table border=\"1\" class=\"dataframe\">\n",
       "  <thead>\n",
       "    <tr style=\"text-align: right;\">\n",
       "      <th></th>\n",
       "      <th>Unnamed: 0</th>\n",
       "      <th>id</th>\n",
       "      <th>eventId</th>\n",
       "      <th>minute</th>\n",
       "      <th>second</th>\n",
       "      <th>teamId</th>\n",
       "      <th>x</th>\n",
       "      <th>y</th>\n",
       "      <th>expandedMinute</th>\n",
       "      <th>period</th>\n",
       "      <th>...</th>\n",
       "      <th>blockedY</th>\n",
       "      <th>cardType</th>\n",
       "      <th>teamName</th>\n",
       "      <th>oppositionTeamName</th>\n",
       "      <th>shirtNo</th>\n",
       "      <th>name</th>\n",
       "      <th>position</th>\n",
       "      <th>isFirstEleven</th>\n",
       "      <th>ishome</th>\n",
       "      <th>datetime</th>\n",
       "    </tr>\n",
       "  </thead>\n",
       "  <tbody>\n",
       "    <tr>\n",
       "      <th>0</th>\n",
       "      <td>0</td>\n",
       "      <td>2.579155e+09</td>\n",
       "      <td>2</td>\n",
       "      <td>0</td>\n",
       "      <td>0.0</td>\n",
       "      <td>1799</td>\n",
       "      <td>0.0</td>\n",
       "      <td>0.0</td>\n",
       "      <td>0</td>\n",
       "      <td>1</td>\n",
       "      <td>...</td>\n",
       "      <td>NaN</td>\n",
       "      <td>NaN</td>\n",
       "      <td>Almeria</td>\n",
       "      <td>Real Madrid</td>\n",
       "      <td>NaN</td>\n",
       "      <td>NaN</td>\n",
       "      <td>NaN</td>\n",
       "      <td>NaN</td>\n",
       "      <td>1</td>\n",
       "      <td>2023-08-20 17:33:37</td>\n",
       "    </tr>\n",
       "    <tr>\n",
       "      <th>1</th>\n",
       "      <td>1</td>\n",
       "      <td>2.579155e+09</td>\n",
       "      <td>2</td>\n",
       "      <td>0</td>\n",
       "      <td>0.0</td>\n",
       "      <td>52</td>\n",
       "      <td>0.0</td>\n",
       "      <td>0.0</td>\n",
       "      <td>0</td>\n",
       "      <td>1</td>\n",
       "      <td>...</td>\n",
       "      <td>NaN</td>\n",
       "      <td>NaN</td>\n",
       "      <td>Real Madrid</td>\n",
       "      <td>Almeria</td>\n",
       "      <td>NaN</td>\n",
       "      <td>NaN</td>\n",
       "      <td>NaN</td>\n",
       "      <td>NaN</td>\n",
       "      <td>0</td>\n",
       "      <td>2023-08-20 17:33:37</td>\n",
       "    </tr>\n",
       "    <tr>\n",
       "      <th>2</th>\n",
       "      <td>2</td>\n",
       "      <td>2.579155e+09</td>\n",
       "      <td>3</td>\n",
       "      <td>0</td>\n",
       "      <td>0.0</td>\n",
       "      <td>1799</td>\n",
       "      <td>49.7</td>\n",
       "      <td>49.8</td>\n",
       "      <td>0</td>\n",
       "      <td>1</td>\n",
       "      <td>...</td>\n",
       "      <td>NaN</td>\n",
       "      <td>NaN</td>\n",
       "      <td>Almeria</td>\n",
       "      <td>Real Madrid</td>\n",
       "      <td>10.0</td>\n",
       "      <td>Adri Embarba</td>\n",
       "      <td>AMR</td>\n",
       "      <td>True</td>\n",
       "      <td>1</td>\n",
       "      <td>2023-08-20 17:33:37</td>\n",
       "    </tr>\n",
       "    <tr>\n",
       "      <th>3</th>\n",
       "      <td>3</td>\n",
       "      <td>2.579155e+09</td>\n",
       "      <td>4</td>\n",
       "      <td>0</td>\n",
       "      <td>2.0</td>\n",
       "      <td>1799</td>\n",
       "      <td>44.0</td>\n",
       "      <td>45.6</td>\n",
       "      <td>0</td>\n",
       "      <td>1</td>\n",
       "      <td>...</td>\n",
       "      <td>NaN</td>\n",
       "      <td>NaN</td>\n",
       "      <td>Almeria</td>\n",
       "      <td>Real Madrid</td>\n",
       "      <td>5.0</td>\n",
       "      <td>Lucas Robertone</td>\n",
       "      <td>DMC</td>\n",
       "      <td>True</td>\n",
       "      <td>1</td>\n",
       "      <td>2023-08-20 17:33:37</td>\n",
       "    </tr>\n",
       "    <tr>\n",
       "      <th>4</th>\n",
       "      <td>4</td>\n",
       "      <td>2.579155e+09</td>\n",
       "      <td>5</td>\n",
       "      <td>0</td>\n",
       "      <td>4.0</td>\n",
       "      <td>1799</td>\n",
       "      <td>60.3</td>\n",
       "      <td>21.9</td>\n",
       "      <td>0</td>\n",
       "      <td>1</td>\n",
       "      <td>...</td>\n",
       "      <td>NaN</td>\n",
       "      <td>NaN</td>\n",
       "      <td>Almeria</td>\n",
       "      <td>Real Madrid</td>\n",
       "      <td>7.0</td>\n",
       "      <td>Largie Ramazani</td>\n",
       "      <td>AML</td>\n",
       "      <td>True</td>\n",
       "      <td>1</td>\n",
       "      <td>2023-08-20 17:33:37</td>\n",
       "    </tr>\n",
       "  </tbody>\n",
       "</table>\n",
       "<p>5 rows × 35 columns</p>\n",
       "</div>"
      ],
      "text/plain": [
       "   Unnamed: 0            id  eventId  minute  second  teamId     x     y  \\\n",
       "0           0  2.579155e+09        2       0     0.0    1799   0.0   0.0   \n",
       "1           1  2.579155e+09        2       0     0.0      52   0.0   0.0   \n",
       "2           2  2.579155e+09        3       0     0.0    1799  49.7  49.8   \n",
       "3           3  2.579155e+09        4       0     2.0    1799  44.0  45.6   \n",
       "4           4  2.579155e+09        5       0     4.0    1799  60.3  21.9   \n",
       "\n",
       "   expandedMinute  period  ... blockedY cardType     teamName  \\\n",
       "0               0       1  ...      NaN      NaN      Almeria   \n",
       "1               0       1  ...      NaN      NaN  Real Madrid   \n",
       "2               0       1  ...      NaN      NaN      Almeria   \n",
       "3               0       1  ...      NaN      NaN      Almeria   \n",
       "4               0       1  ...      NaN      NaN      Almeria   \n",
       "\n",
       "  oppositionTeamName  shirtNo             name  position  isFirstEleven  \\\n",
       "0        Real Madrid      NaN              NaN       NaN            NaN   \n",
       "1            Almeria      NaN              NaN       NaN            NaN   \n",
       "2        Real Madrid     10.0     Adri Embarba       AMR           True   \n",
       "3        Real Madrid      5.0  Lucas Robertone       DMC           True   \n",
       "4        Real Madrid      7.0  Largie Ramazani       AML           True   \n",
       "\n",
       "   ishome             datetime  \n",
       "0       1  2023-08-20 17:33:37  \n",
       "1       0  2023-08-20 17:33:37  \n",
       "2       1  2023-08-20 17:33:37  \n",
       "3       1  2023-08-20 17:33:37  \n",
       "4       1  2023-08-20 17:33:37  \n",
       "\n",
       "[5 rows x 35 columns]"
      ]
     },
     "execution_count": 143,
     "metadata": {},
     "output_type": "execute_result"
    }
   ],
   "source": [
    "dff=pd.read_csv(r\"E:\\KreupAI\\DAta\\Event\\23-24\\Almeria vs Real Madrid.csv\")\n",
    "dff.head()"
   ]
  },
  {
   "cell_type": "code",
   "execution_count": 147,
   "id": "9e8f3370-1c22-4615-a81c-c58f1f5f0d70",
   "metadata": {},
   "outputs": [
    {
     "name": "stderr",
     "output_type": "stream",
     "text": [
      "C:\\Users\\kevin\\AppData\\Local\\Temp\\ipykernel_23208\\4224827824.py:91: FutureWarning: DataFrame.applymap has been deprecated. Use DataFrame.map instead.\n",
      "  expanded_dff = expanded_dff.applymap(convert_if_number)\n"
     ]
    }
   ],
   "source": [
    "def parse_qualifiers(q):\n",
    "    # handle NaN/None\n",
    "    if pd.isna(q):\n",
    "        return {}\n",
    "\n",
    "    # if string, try to parse it (handles single-quote Python repr and JSON double-quote)\n",
    "    if isinstance(q, str):\n",
    "        s = q.strip()\n",
    "        if s == \"\":\n",
    "            return {}\n",
    "        parsed = None\n",
    "        try:\n",
    "            parsed = ast.literal_eval(s)   # works for Python-style repr using single quotes\n",
    "        except Exception:\n",
    "            try:\n",
    "                parsed = json.loads(s)     # works for JSON-style strings\n",
    "            except Exception:\n",
    "                # cannot parse -> assume empty\n",
    "                return {}\n",
    "        q = parsed\n",
    "\n",
    "    # if a single dict, convert to list of one\n",
    "    if isinstance(q, dict):\n",
    "        q = [q]\n",
    "\n",
    "    # if still not a list, bail out\n",
    "    if not isinstance(q, list):\n",
    "        return {}\n",
    "\n",
    "    out = {}\n",
    "    for item in q:\n",
    "        if not isinstance(item, dict):\n",
    "            continue\n",
    "\n",
    "        # Get displayName\n",
    "        name = None\n",
    "        t = item.get('type')\n",
    "        if isinstance(t, dict):\n",
    "            name = t.get('displayName')\n",
    "        # fallback to top-level keys if present\n",
    "        if not name:\n",
    "            name = item.get('displayName') or item.get('name')\n",
    "\n",
    "        if not name:\n",
    "            continue\n",
    "\n",
    "        # value: if not present -> 1\n",
    "        value = item.get('value', 1)\n",
    "        if value is None or (isinstance(value, str) and value.strip() == \"\"):\n",
    "            value = 1\n",
    "\n",
    "        # If value is list/dict, stringify it\n",
    "        if isinstance(value, (list, dict)):\n",
    "            value = str(value)\n",
    "\n",
    "        # Try convert numeric strings to numbers\n",
    "        if isinstance(value, str):\n",
    "            try:\n",
    "                f = float(value)\n",
    "                # keep int when appropriate\n",
    "                if math.isclose(f, int(f)):\n",
    "                    value = int(f)\n",
    "                else:\n",
    "                    value = f\n",
    "            except Exception:\n",
    "                # leave as string (eg. 'Back')\n",
    "                pass\n",
    "\n",
    "        # keep first occurrence for duplicate displayName\n",
    "        if name in out:\n",
    "            continue\n",
    "        out[name] = value\n",
    "\n",
    "    return out\n",
    "\n",
    "# Apply to your dataframe\n",
    "expanded = dff['qualifiers'].apply(parse_qualifiers)\n",
    "expanded_dff = pd.json_normalize(expanded)   # each row -> columns\n",
    "# Optional: convert numeric-like columns to numeric types (keeps non-numeric alone)\n",
    "def convert_if_number(x):\n",
    "    try:\n",
    "        if pd.isna(x):\n",
    "            return x\n",
    "        f = float(x)\n",
    "        if math.isclose(f, int(f)):\n",
    "            return int(f)\n",
    "        return f\n",
    "    except Exception:\n",
    "        return x\n",
    "\n",
    "expanded_dff = expanded_dff.applymap(convert_if_number)\n",
    "\n",
    "# Join back to original df\n",
    "dff = pd.concat([dff, expanded_dff], axis=1)\n"
   ]
  },
  {
   "cell_type": "code",
   "execution_count": 149,
   "id": "b32361f9-1209-4331-b2af-b1c71070ca6a",
   "metadata": {},
   "outputs": [],
   "source": [
    "columns = [\n",
    "    # Identifiers & Basic Info\n",
    "    \"id\", \"eventId\", \"datetime\",\n",
    "\n",
    "    # Timing\n",
    "    \"minute\", \"expandedMinute\", \"second\", \"period\",\n",
    "\n",
    "    # Teams & Context\n",
    "    \"teamId\", \"teamName\", \"oppositionTeamName\", \"ishome\",\n",
    "\n",
    "    # Location (Ball Position)\n",
    "    \"x\", \"y\", \"endX\", \"endY\",\n",
    "\n",
    "    # Event Details\n",
    "    \"type\", \"outcomeType\", \"isTouch\", \"isShot\",\n",
    "\n",
    "    # Player Information\n",
    "    \"playerId\", \"name\", \"shirtNo\", \"JerseyNumber\",\n",
    "    \"position\", \"PlayerPosition\", \"isFirstEleven\",\n",
    "\n",
    "    # Match Flags (Goals, Cards, etc.)\n",
    "    \"isGoal\", \"OwnGoal\",\n",
    "    \"Yellow\", \"VoidYellowCard\", \"SecondYellow\", \"Red\",\n",
    "\n",
    "    # Qualifiers & Actions\n",
    "    \"Longball\", \"Cross\", \"Foul\", \"FreekickTaken\",\n",
    "    \"ShotAssist\", \"KeyPass\", \"IndividualPlay\", \"RegularPlay\",\n",
    "    \"DivingSave\", \"KeeperSaveObox\", \"KeeperSaveInTheBox\",\n",
    "    \"KeeperThrow\", \"Blocked\", \"CornerTaken\", \"HighClaim\",\"Throughball\",\"LeadingToAttempt\",\n",
    "    \"LeadingToGoal\",\"Penalty\",\"PlayerPosition\"\n",
    "\n",
    "    \"IntentionalAssist\", \"IntentionalGoalAssist\", \"GoalKick\",\n",
    "    \"FromCorner\", \"BigChanceCreated\", \"BigChance\", \"FastBreak\",\n",
    "    \"LeadingToAttempt\", \"OneOnOne\", \"SetPiece\",\n",
    "    \"KeeperSaved\", \"KeeperSaveInSixYard\",\"OutfielderBlock\"\n",
    "]\n",
    "for col in columns:\n",
    "    if col not in dff.columns:\n",
    "        dff[col] = 0\n",
    "\n",
    "# Reorder/select only the required columns\n",
    "dff = dff[columns]"
   ]
  },
  {
   "cell_type": "code",
   "execution_count": 153,
   "id": "a508a043-412a-4038-9eb6-88a6c3616719",
   "metadata": {},
   "outputs": [
    {
     "data": {
      "text/plain": [
       "array(['Start', 'Pass', 'BallRecovery', 'BallTouch', 'BlockedPass',\n",
       "       'Interception', 'Dispossessed', 'Tackle', 'TakeOn', 'Foul',\n",
       "       'KeeperPickup', 'Goal', 'SavedShot', 'Save', 'CornerAwarded',\n",
       "       'Aerial', 'MissedShots', 'Clearance', 'Challenge', 'OffsideGiven',\n",
       "       'OffsidePass', 'OffsideProvoked', 'Claim', 'End', 'Card',\n",
       "       'CrossNotClaimed', 'Error', 'SubstitutionOff', 'SubstitutionOn',\n",
       "       'FormationChange', 'ShieldBallOpp', 'FormationSet'], dtype=object)"
      ]
     },
     "execution_count": 153,
     "metadata": {},
     "output_type": "execute_result"
    }
   ],
   "source": [
    "dff['type'].unique()"
   ]
  },
  {
   "cell_type": "code",
   "execution_count": 181,
   "id": "c7a390c7-82ec-4047-8d4e-5758c13b98f3",
   "metadata": {},
   "outputs": [
    {
     "data": {
      "text/html": [
       "<div>\n",
       "<style scoped>\n",
       "    .dataframe tbody tr th:only-of-type {\n",
       "        vertical-align: middle;\n",
       "    }\n",
       "\n",
       "    .dataframe tbody tr th {\n",
       "        vertical-align: top;\n",
       "    }\n",
       "\n",
       "    .dataframe thead th {\n",
       "        text-align: right;\n",
       "    }\n",
       "</style>\n",
       "<table border=\"1\" class=\"dataframe\">\n",
       "  <thead>\n",
       "    <tr style=\"text-align: right;\">\n",
       "      <th></th>\n",
       "      <th>playerId</th>\n",
       "      <th>name</th>\n",
       "      <th>teamId</th>\n",
       "      <th>teamName</th>\n",
       "      <th>ishome</th>\n",
       "      <th>shirtNo</th>\n",
       "      <th>position</th>\n",
       "      <th>timestamp</th>\n",
       "      <th>minutes_played</th>\n",
       "      <th>shots</th>\n",
       "      <th>...</th>\n",
       "      <th>succLongball</th>\n",
       "      <th>Throughballatt</th>\n",
       "      <th>succThroughball</th>\n",
       "      <th>TotTackles</th>\n",
       "      <th>succTackles</th>\n",
       "      <th>Interceptions</th>\n",
       "      <th>Clearances</th>\n",
       "      <th>blockedshots</th>\n",
       "      <th>Fouls</th>\n",
       "      <th>Fouled</th>\n",
       "    </tr>\n",
       "  </thead>\n",
       "  <tbody>\n",
       "    <tr>\n",
       "      <th>0</th>\n",
       "      <td>135572</td>\n",
       "      <td>Adri Embarba</td>\n",
       "      <td>1799</td>\n",
       "      <td>Almeria</td>\n",
       "      <td>1</td>\n",
       "      <td>10</td>\n",
       "      <td>AMR</td>\n",
       "      <td>2023-08-20 17:33:37</td>\n",
       "      <td>90</td>\n",
       "      <td>0</td>\n",
       "      <td>...</td>\n",
       "      <td>1</td>\n",
       "      <td>0</td>\n",
       "      <td>0</td>\n",
       "      <td>4</td>\n",
       "      <td>3</td>\n",
       "      <td>0</td>\n",
       "      <td>0</td>\n",
       "      <td>0</td>\n",
       "      <td>0</td>\n",
       "      <td>1</td>\n",
       "    </tr>\n",
       "    <tr>\n",
       "      <th>1</th>\n",
       "      <td>387160</td>\n",
       "      <td>Edgar Gonzalez</td>\n",
       "      <td>1799</td>\n",
       "      <td>Almeria</td>\n",
       "      <td>1</td>\n",
       "      <td>3</td>\n",
       "      <td>DC</td>\n",
       "      <td>2023-08-20 17:33:37</td>\n",
       "      <td>90</td>\n",
       "      <td>1</td>\n",
       "      <td>...</td>\n",
       "      <td>5</td>\n",
       "      <td>0</td>\n",
       "      <td>0</td>\n",
       "      <td>3</td>\n",
       "      <td>1</td>\n",
       "      <td>1</td>\n",
       "      <td>9</td>\n",
       "      <td>1</td>\n",
       "      <td>1</td>\n",
       "      <td>0</td>\n",
       "    </tr>\n",
       "    <tr>\n",
       "      <th>2</th>\n",
       "      <td>365127</td>\n",
       "      <td>Chumi</td>\n",
       "      <td>1799</td>\n",
       "      <td>Almeria</td>\n",
       "      <td>1</td>\n",
       "      <td>21</td>\n",
       "      <td>DC</td>\n",
       "      <td>2023-08-20 17:33:37</td>\n",
       "      <td>90</td>\n",
       "      <td>0</td>\n",
       "      <td>...</td>\n",
       "      <td>0</td>\n",
       "      <td>0</td>\n",
       "      <td>0</td>\n",
       "      <td>1</td>\n",
       "      <td>1</td>\n",
       "      <td>0</td>\n",
       "      <td>5</td>\n",
       "      <td>2</td>\n",
       "      <td>3</td>\n",
       "      <td>0</td>\n",
       "    </tr>\n",
       "    <tr>\n",
       "      <th>3</th>\n",
       "      <td>402887</td>\n",
       "      <td>Luis Suarez</td>\n",
       "      <td>1799</td>\n",
       "      <td>Almeria</td>\n",
       "      <td>1</td>\n",
       "      <td>9</td>\n",
       "      <td>FW</td>\n",
       "      <td>2023-08-20 17:33:37</td>\n",
       "      <td>90</td>\n",
       "      <td>5</td>\n",
       "      <td>...</td>\n",
       "      <td>1</td>\n",
       "      <td>0</td>\n",
       "      <td>0</td>\n",
       "      <td>0</td>\n",
       "      <td>0</td>\n",
       "      <td>0</td>\n",
       "      <td>0</td>\n",
       "      <td>0</td>\n",
       "      <td>1</td>\n",
       "      <td>1</td>\n",
       "    </tr>\n",
       "    <tr>\n",
       "      <th>4</th>\n",
       "      <td>401174</td>\n",
       "      <td>Sergio Arribas</td>\n",
       "      <td>1799</td>\n",
       "      <td>Almeria</td>\n",
       "      <td>1</td>\n",
       "      <td>19</td>\n",
       "      <td>AMC</td>\n",
       "      <td>2023-08-20 17:33:37</td>\n",
       "      <td>90</td>\n",
       "      <td>1</td>\n",
       "      <td>...</td>\n",
       "      <td>3</td>\n",
       "      <td>0</td>\n",
       "      <td>0</td>\n",
       "      <td>0</td>\n",
       "      <td>0</td>\n",
       "      <td>0</td>\n",
       "      <td>0</td>\n",
       "      <td>0</td>\n",
       "      <td>1</td>\n",
       "      <td>2</td>\n",
       "    </tr>\n",
       "    <tr>\n",
       "      <th>5</th>\n",
       "      <td>361969</td>\n",
       "      <td>Luis Maximiano</td>\n",
       "      <td>1799</td>\n",
       "      <td>Almeria</td>\n",
       "      <td>1</td>\n",
       "      <td>25</td>\n",
       "      <td>GK</td>\n",
       "      <td>2023-08-20 17:33:37</td>\n",
       "      <td>90</td>\n",
       "      <td>0</td>\n",
       "      <td>...</td>\n",
       "      <td>8</td>\n",
       "      <td>0</td>\n",
       "      <td>0</td>\n",
       "      <td>0</td>\n",
       "      <td>0</td>\n",
       "      <td>0</td>\n",
       "      <td>0</td>\n",
       "      <td>0</td>\n",
       "      <td>0</td>\n",
       "      <td>0</td>\n",
       "    </tr>\n",
       "    <tr>\n",
       "      <th>6</th>\n",
       "      <td>301773</td>\n",
       "      <td>Sergio Akieme</td>\n",
       "      <td>1799</td>\n",
       "      <td>Almeria</td>\n",
       "      <td>1</td>\n",
       "      <td>15</td>\n",
       "      <td>DL</td>\n",
       "      <td>2023-08-20 17:33:37</td>\n",
       "      <td>90</td>\n",
       "      <td>0</td>\n",
       "      <td>...</td>\n",
       "      <td>6</td>\n",
       "      <td>0</td>\n",
       "      <td>0</td>\n",
       "      <td>0</td>\n",
       "      <td>0</td>\n",
       "      <td>0</td>\n",
       "      <td>2</td>\n",
       "      <td>0</td>\n",
       "      <td>0</td>\n",
       "      <td>2</td>\n",
       "    </tr>\n",
       "    <tr>\n",
       "      <th>7</th>\n",
       "      <td>381644</td>\n",
       "      <td>Iddrisu Baba</td>\n",
       "      <td>1799</td>\n",
       "      <td>Almeria</td>\n",
       "      <td>1</td>\n",
       "      <td>4</td>\n",
       "      <td>DMC</td>\n",
       "      <td>2023-08-20 17:33:37</td>\n",
       "      <td>90</td>\n",
       "      <td>1</td>\n",
       "      <td>...</td>\n",
       "      <td>3</td>\n",
       "      <td>0</td>\n",
       "      <td>0</td>\n",
       "      <td>3</td>\n",
       "      <td>2</td>\n",
       "      <td>2</td>\n",
       "      <td>1</td>\n",
       "      <td>0</td>\n",
       "      <td>0</td>\n",
       "      <td>2</td>\n",
       "    </tr>\n",
       "    <tr>\n",
       "      <th>8</th>\n",
       "      <td>323511</td>\n",
       "      <td>Lucas Robertone</td>\n",
       "      <td>1799</td>\n",
       "      <td>Almeria</td>\n",
       "      <td>1</td>\n",
       "      <td>5</td>\n",
       "      <td>DMC</td>\n",
       "      <td>2023-08-20 17:33:37</td>\n",
       "      <td>68</td>\n",
       "      <td>5</td>\n",
       "      <td>...</td>\n",
       "      <td>3</td>\n",
       "      <td>1</td>\n",
       "      <td>0</td>\n",
       "      <td>0</td>\n",
       "      <td>0</td>\n",
       "      <td>2</td>\n",
       "      <td>1</td>\n",
       "      <td>1</td>\n",
       "      <td>3</td>\n",
       "      <td>1</td>\n",
       "    </tr>\n",
       "    <tr>\n",
       "      <th>9</th>\n",
       "      <td>430148</td>\n",
       "      <td>Marc Pubill</td>\n",
       "      <td>1799</td>\n",
       "      <td>Almeria</td>\n",
       "      <td>1</td>\n",
       "      <td>18</td>\n",
       "      <td>DR</td>\n",
       "      <td>2023-08-20 17:33:37</td>\n",
       "      <td>68</td>\n",
       "      <td>0</td>\n",
       "      <td>...</td>\n",
       "      <td>2</td>\n",
       "      <td>0</td>\n",
       "      <td>0</td>\n",
       "      <td>3</td>\n",
       "      <td>0</td>\n",
       "      <td>2</td>\n",
       "      <td>2</td>\n",
       "      <td>0</td>\n",
       "      <td>1</td>\n",
       "      <td>3</td>\n",
       "    </tr>\n",
       "    <tr>\n",
       "      <th>10</th>\n",
       "      <td>388665</td>\n",
       "      <td>Largie Ramazani</td>\n",
       "      <td>1799</td>\n",
       "      <td>Almeria</td>\n",
       "      <td>1</td>\n",
       "      <td>7</td>\n",
       "      <td>AML</td>\n",
       "      <td>2023-08-20 17:33:37</td>\n",
       "      <td>60</td>\n",
       "      <td>6</td>\n",
       "      <td>...</td>\n",
       "      <td>0</td>\n",
       "      <td>0</td>\n",
       "      <td>0</td>\n",
       "      <td>0</td>\n",
       "      <td>0</td>\n",
       "      <td>4</td>\n",
       "      <td>0</td>\n",
       "      <td>1</td>\n",
       "      <td>0</td>\n",
       "      <td>1</td>\n",
       "    </tr>\n",
       "    <tr>\n",
       "      <th>11</th>\n",
       "      <td>354297</td>\n",
       "      <td>Ibrahima Kone</td>\n",
       "      <td>1799</td>\n",
       "      <td>Almeria</td>\n",
       "      <td>1</td>\n",
       "      <td>23</td>\n",
       "      <td>Sub</td>\n",
       "      <td>2023-08-20 17:33:37</td>\n",
       "      <td>30</td>\n",
       "      <td>1</td>\n",
       "      <td>...</td>\n",
       "      <td>0</td>\n",
       "      <td>0</td>\n",
       "      <td>0</td>\n",
       "      <td>0</td>\n",
       "      <td>0</td>\n",
       "      <td>0</td>\n",
       "      <td>0</td>\n",
       "      <td>0</td>\n",
       "      <td>0</td>\n",
       "      <td>0</td>\n",
       "    </tr>\n",
       "    <tr>\n",
       "      <th>12</th>\n",
       "      <td>338365</td>\n",
       "      <td>Alex Pozo</td>\n",
       "      <td>1799</td>\n",
       "      <td>Almeria</td>\n",
       "      <td>1</td>\n",
       "      <td>17</td>\n",
       "      <td>Sub</td>\n",
       "      <td>2023-08-20 17:33:37</td>\n",
       "      <td>22</td>\n",
       "      <td>0</td>\n",
       "      <td>...</td>\n",
       "      <td>4</td>\n",
       "      <td>0</td>\n",
       "      <td>0</td>\n",
       "      <td>2</td>\n",
       "      <td>1</td>\n",
       "      <td>0</td>\n",
       "      <td>0</td>\n",
       "      <td>0</td>\n",
       "      <td>0</td>\n",
       "      <td>0</td>\n",
       "    </tr>\n",
       "    <tr>\n",
       "      <th>13</th>\n",
       "      <td>261698</td>\n",
       "      <td>Gonzalo Melero</td>\n",
       "      <td>1799</td>\n",
       "      <td>Almeria</td>\n",
       "      <td>1</td>\n",
       "      <td>11</td>\n",
       "      <td>Sub</td>\n",
       "      <td>2023-08-20 17:33:37</td>\n",
       "      <td>22</td>\n",
       "      <td>0</td>\n",
       "      <td>...</td>\n",
       "      <td>0</td>\n",
       "      <td>0</td>\n",
       "      <td>0</td>\n",
       "      <td>1</td>\n",
       "      <td>1</td>\n",
       "      <td>0</td>\n",
       "      <td>0</td>\n",
       "      <td>0</td>\n",
       "      <td>0</td>\n",
       "      <td>0</td>\n",
       "    </tr>\n",
       "    <tr>\n",
       "      <th>14</th>\n",
       "      <td>388666</td>\n",
       "      <td>Arnau Puigmal</td>\n",
       "      <td>1799</td>\n",
       "      <td>Almeria</td>\n",
       "      <td>1</td>\n",
       "      <td>8</td>\n",
       "      <td>Sub</td>\n",
       "      <td>2023-08-20 17:33:37</td>\n",
       "      <td>1</td>\n",
       "      <td>0</td>\n",
       "      <td>...</td>\n",
       "      <td>1</td>\n",
       "      <td>0</td>\n",
       "      <td>0</td>\n",
       "      <td>0</td>\n",
       "      <td>0</td>\n",
       "      <td>0</td>\n",
       "      <td>0</td>\n",
       "      <td>0</td>\n",
       "      <td>0</td>\n",
       "      <td>0</td>\n",
       "    </tr>\n",
       "    <tr>\n",
       "      <th>15</th>\n",
       "      <td>402214</td>\n",
       "      <td>Lazaro</td>\n",
       "      <td>1799</td>\n",
       "      <td>Almeria</td>\n",
       "      <td>1</td>\n",
       "      <td>14</td>\n",
       "      <td>Sub</td>\n",
       "      <td>2023-08-20 17:33:37</td>\n",
       "      <td>1</td>\n",
       "      <td>0</td>\n",
       "      <td>...</td>\n",
       "      <td>0</td>\n",
       "      <td>0</td>\n",
       "      <td>0</td>\n",
       "      <td>0</td>\n",
       "      <td>0</td>\n",
       "      <td>0</td>\n",
       "      <td>0</td>\n",
       "      <td>0</td>\n",
       "      <td>0</td>\n",
       "      <td>0</td>\n",
       "    </tr>\n",
       "    <tr>\n",
       "      <th>16</th>\n",
       "      <td>422957</td>\n",
       "      <td>Fran Garcia</td>\n",
       "      <td>52</td>\n",
       "      <td>Real Madrid</td>\n",
       "      <td>0</td>\n",
       "      <td>20</td>\n",
       "      <td>DL</td>\n",
       "      <td>2023-08-20 17:33:37</td>\n",
       "      <td>90</td>\n",
       "      <td>1</td>\n",
       "      <td>...</td>\n",
       "      <td>2</td>\n",
       "      <td>0</td>\n",
       "      <td>0</td>\n",
       "      <td>0</td>\n",
       "      <td>0</td>\n",
       "      <td>1</td>\n",
       "      <td>4</td>\n",
       "      <td>0</td>\n",
       "      <td>2</td>\n",
       "      <td>0</td>\n",
       "    </tr>\n",
       "    <tr>\n",
       "      <th>17</th>\n",
       "      <td>353423</td>\n",
       "      <td>Aurelien Tchouameni</td>\n",
       "      <td>52</td>\n",
       "      <td>Real Madrid</td>\n",
       "      <td>0</td>\n",
       "      <td>18</td>\n",
       "      <td>MC</td>\n",
       "      <td>2023-08-20 17:33:37</td>\n",
       "      <td>90</td>\n",
       "      <td>2</td>\n",
       "      <td>...</td>\n",
       "      <td>4</td>\n",
       "      <td>0</td>\n",
       "      <td>0</td>\n",
       "      <td>2</td>\n",
       "      <td>1</td>\n",
       "      <td>3</td>\n",
       "      <td>1</td>\n",
       "      <td>0</td>\n",
       "      <td>1</td>\n",
       "      <td>0</td>\n",
       "    </tr>\n",
       "    <tr>\n",
       "      <th>18</th>\n",
       "      <td>104010</td>\n",
       "      <td>Antonio Rudiger</td>\n",
       "      <td>52</td>\n",
       "      <td>Real Madrid</td>\n",
       "      <td>0</td>\n",
       "      <td>22</td>\n",
       "      <td>DC</td>\n",
       "      <td>2023-08-20 17:33:37</td>\n",
       "      <td>90</td>\n",
       "      <td>0</td>\n",
       "      <td>...</td>\n",
       "      <td>0</td>\n",
       "      <td>0</td>\n",
       "      <td>0</td>\n",
       "      <td>2</td>\n",
       "      <td>1</td>\n",
       "      <td>1</td>\n",
       "      <td>3</td>\n",
       "      <td>4</td>\n",
       "      <td>0</td>\n",
       "      <td>0</td>\n",
       "    </tr>\n",
       "    <tr>\n",
       "      <th>19</th>\n",
       "      <td>106883</td>\n",
       "      <td>Dani Carvajal</td>\n",
       "      <td>52</td>\n",
       "      <td>Real Madrid</td>\n",
       "      <td>0</td>\n",
       "      <td>2</td>\n",
       "      <td>DR</td>\n",
       "      <td>2023-08-20 17:33:37</td>\n",
       "      <td>90</td>\n",
       "      <td>1</td>\n",
       "      <td>...</td>\n",
       "      <td>2</td>\n",
       "      <td>1</td>\n",
       "      <td>1</td>\n",
       "      <td>2</td>\n",
       "      <td>0</td>\n",
       "      <td>0</td>\n",
       "      <td>5</td>\n",
       "      <td>0</td>\n",
       "      <td>1</td>\n",
       "      <td>0</td>\n",
       "    </tr>\n",
       "    <tr>\n",
       "      <th>20</th>\n",
       "      <td>39722</td>\n",
       "      <td>David Alaba</td>\n",
       "      <td>52</td>\n",
       "      <td>Real Madrid</td>\n",
       "      <td>0</td>\n",
       "      <td>4</td>\n",
       "      <td>DC</td>\n",
       "      <td>2023-08-20 17:33:37</td>\n",
       "      <td>90</td>\n",
       "      <td>1</td>\n",
       "      <td>...</td>\n",
       "      <td>2</td>\n",
       "      <td>0</td>\n",
       "      <td>0</td>\n",
       "      <td>1</td>\n",
       "      <td>0</td>\n",
       "      <td>1</td>\n",
       "      <td>4</td>\n",
       "      <td>0</td>\n",
       "      <td>2</td>\n",
       "      <td>0</td>\n",
       "    </tr>\n",
       "    <tr>\n",
       "      <th>21</th>\n",
       "      <td>345031</td>\n",
       "      <td>Andrii Lunin</td>\n",
       "      <td>52</td>\n",
       "      <td>Real Madrid</td>\n",
       "      <td>0</td>\n",
       "      <td>13</td>\n",
       "      <td>GK</td>\n",
       "      <td>2023-08-20 17:33:37</td>\n",
       "      <td>90</td>\n",
       "      <td>0</td>\n",
       "      <td>...</td>\n",
       "      <td>5</td>\n",
       "      <td>0</td>\n",
       "      <td>0</td>\n",
       "      <td>0</td>\n",
       "      <td>0</td>\n",
       "      <td>0</td>\n",
       "      <td>0</td>\n",
       "      <td>0</td>\n",
       "      <td>0</td>\n",
       "      <td>0</td>\n",
       "    </tr>\n",
       "    <tr>\n",
       "      <th>22</th>\n",
       "      <td>337782</td>\n",
       "      <td>Vinicius Junior</td>\n",
       "      <td>52</td>\n",
       "      <td>Real Madrid</td>\n",
       "      <td>0</td>\n",
       "      <td>7</td>\n",
       "      <td>FW</td>\n",
       "      <td>2023-08-20 17:33:37</td>\n",
       "      <td>89</td>\n",
       "      <td>4</td>\n",
       "      <td>...</td>\n",
       "      <td>3</td>\n",
       "      <td>0</td>\n",
       "      <td>0</td>\n",
       "      <td>0</td>\n",
       "      <td>0</td>\n",
       "      <td>0</td>\n",
       "      <td>0</td>\n",
       "      <td>0</td>\n",
       "      <td>2</td>\n",
       "      <td>5</td>\n",
       "    </tr>\n",
       "    <tr>\n",
       "      <th>23</th>\n",
       "      <td>344644</td>\n",
       "      <td>Federico Valverde</td>\n",
       "      <td>52</td>\n",
       "      <td>Real Madrid</td>\n",
       "      <td>0</td>\n",
       "      <td>15</td>\n",
       "      <td>MC</td>\n",
       "      <td>2023-08-20 17:33:37</td>\n",
       "      <td>89</td>\n",
       "      <td>4</td>\n",
       "      <td>...</td>\n",
       "      <td>2</td>\n",
       "      <td>0</td>\n",
       "      <td>0</td>\n",
       "      <td>1</td>\n",
       "      <td>0</td>\n",
       "      <td>0</td>\n",
       "      <td>1</td>\n",
       "      <td>0</td>\n",
       "      <td>0</td>\n",
       "      <td>0</td>\n",
       "    </tr>\n",
       "    <tr>\n",
       "      <th>24</th>\n",
       "      <td>379868</td>\n",
       "      <td>Jude Bellingham</td>\n",
       "      <td>52</td>\n",
       "      <td>Real Madrid</td>\n",
       "      <td>0</td>\n",
       "      <td>5</td>\n",
       "      <td>AMC</td>\n",
       "      <td>2023-08-20 17:33:37</td>\n",
       "      <td>80</td>\n",
       "      <td>6</td>\n",
       "      <td>...</td>\n",
       "      <td>1</td>\n",
       "      <td>0</td>\n",
       "      <td>0</td>\n",
       "      <td>0</td>\n",
       "      <td>0</td>\n",
       "      <td>0</td>\n",
       "      <td>0</td>\n",
       "      <td>0</td>\n",
       "      <td>1</td>\n",
       "      <td>1</td>\n",
       "    </tr>\n",
       "    <tr>\n",
       "      <th>25</th>\n",
       "      <td>31772</td>\n",
       "      <td>Toni Kroos</td>\n",
       "      <td>52</td>\n",
       "      <td>Real Madrid</td>\n",
       "      <td>0</td>\n",
       "      <td>8</td>\n",
       "      <td>MC</td>\n",
       "      <td>2023-08-20 17:33:37</td>\n",
       "      <td>71</td>\n",
       "      <td>0</td>\n",
       "      <td>...</td>\n",
       "      <td>3</td>\n",
       "      <td>0</td>\n",
       "      <td>0</td>\n",
       "      <td>3</td>\n",
       "      <td>2</td>\n",
       "      <td>0</td>\n",
       "      <td>1</td>\n",
       "      <td>0</td>\n",
       "      <td>1</td>\n",
       "      <td>2</td>\n",
       "    </tr>\n",
       "    <tr>\n",
       "      <th>26</th>\n",
       "      <td>347862</td>\n",
       "      <td>Rodrygo</td>\n",
       "      <td>52</td>\n",
       "      <td>Real Madrid</td>\n",
       "      <td>0</td>\n",
       "      <td>11</td>\n",
       "      <td>FW</td>\n",
       "      <td>2023-08-20 17:33:37</td>\n",
       "      <td>71</td>\n",
       "      <td>3</td>\n",
       "      <td>...</td>\n",
       "      <td>0</td>\n",
       "      <td>0</td>\n",
       "      <td>0</td>\n",
       "      <td>0</td>\n",
       "      <td>0</td>\n",
       "      <td>0</td>\n",
       "      <td>0</td>\n",
       "      <td>0</td>\n",
       "      <td>1</td>\n",
       "      <td>1</td>\n",
       "    </tr>\n",
       "    <tr>\n",
       "      <th>27</th>\n",
       "      <td>369109</td>\n",
       "      <td>Eduardo Camavinga</td>\n",
       "      <td>52</td>\n",
       "      <td>Real Madrid</td>\n",
       "      <td>0</td>\n",
       "      <td>12</td>\n",
       "      <td>Sub</td>\n",
       "      <td>2023-08-20 17:33:37</td>\n",
       "      <td>19</td>\n",
       "      <td>0</td>\n",
       "      <td>...</td>\n",
       "      <td>0</td>\n",
       "      <td>0</td>\n",
       "      <td>0</td>\n",
       "      <td>2</td>\n",
       "      <td>2</td>\n",
       "      <td>0</td>\n",
       "      <td>0</td>\n",
       "      <td>0</td>\n",
       "      <td>0</td>\n",
       "      <td>0</td>\n",
       "    </tr>\n",
       "    <tr>\n",
       "      <th>28</th>\n",
       "      <td>20874</td>\n",
       "      <td>Luka Modric</td>\n",
       "      <td>52</td>\n",
       "      <td>Real Madrid</td>\n",
       "      <td>0</td>\n",
       "      <td>10</td>\n",
       "      <td>Sub</td>\n",
       "      <td>2023-08-20 17:33:37</td>\n",
       "      <td>19</td>\n",
       "      <td>2</td>\n",
       "      <td>...</td>\n",
       "      <td>1</td>\n",
       "      <td>0</td>\n",
       "      <td>0</td>\n",
       "      <td>0</td>\n",
       "      <td>0</td>\n",
       "      <td>3</td>\n",
       "      <td>0</td>\n",
       "      <td>0</td>\n",
       "      <td>1</td>\n",
       "      <td>0</td>\n",
       "    </tr>\n",
       "    <tr>\n",
       "      <th>29</th>\n",
       "      <td>74603</td>\n",
       "      <td>Joselu</td>\n",
       "      <td>52</td>\n",
       "      <td>Real Madrid</td>\n",
       "      <td>0</td>\n",
       "      <td>14</td>\n",
       "      <td>Sub</td>\n",
       "      <td>2023-08-20 17:33:37</td>\n",
       "      <td>10</td>\n",
       "      <td>1</td>\n",
       "      <td>...</td>\n",
       "      <td>1</td>\n",
       "      <td>0</td>\n",
       "      <td>0</td>\n",
       "      <td>0</td>\n",
       "      <td>0</td>\n",
       "      <td>1</td>\n",
       "      <td>0</td>\n",
       "      <td>0</td>\n",
       "      <td>0</td>\n",
       "      <td>0</td>\n",
       "    </tr>\n",
       "    <tr>\n",
       "      <th>30</th>\n",
       "      <td>317541</td>\n",
       "      <td>Brahim Diaz</td>\n",
       "      <td>52</td>\n",
       "      <td>Real Madrid</td>\n",
       "      <td>0</td>\n",
       "      <td>21</td>\n",
       "      <td>Sub</td>\n",
       "      <td>2023-08-20 17:33:37</td>\n",
       "      <td>1</td>\n",
       "      <td>0</td>\n",
       "      <td>...</td>\n",
       "      <td>0</td>\n",
       "      <td>0</td>\n",
       "      <td>0</td>\n",
       "      <td>1</td>\n",
       "      <td>0</td>\n",
       "      <td>0</td>\n",
       "      <td>0</td>\n",
       "      <td>0</td>\n",
       "      <td>1</td>\n",
       "      <td>0</td>\n",
       "    </tr>\n",
       "    <tr>\n",
       "      <th>31</th>\n",
       "      <td>144511</td>\n",
       "      <td>Lucas Vazquez</td>\n",
       "      <td>52</td>\n",
       "      <td>Real Madrid</td>\n",
       "      <td>0</td>\n",
       "      <td>17</td>\n",
       "      <td>Sub</td>\n",
       "      <td>2023-08-20 17:33:37</td>\n",
       "      <td>1</td>\n",
       "      <td>0</td>\n",
       "      <td>...</td>\n",
       "      <td>0</td>\n",
       "      <td>0</td>\n",
       "      <td>0</td>\n",
       "      <td>0</td>\n",
       "      <td>0</td>\n",
       "      <td>0</td>\n",
       "      <td>0</td>\n",
       "      <td>0</td>\n",
       "      <td>0</td>\n",
       "      <td>0</td>\n",
       "    </tr>\n",
       "  </tbody>\n",
       "</table>\n",
       "<p>32 rows × 33 columns</p>\n",
       "</div>"
      ],
      "text/plain": [
       "    playerId                 name  teamId     teamName  ishome  shirtNo  \\\n",
       "0     135572         Adri Embarba    1799      Almeria       1       10   \n",
       "1     387160       Edgar Gonzalez    1799      Almeria       1        3   \n",
       "2     365127                Chumi    1799      Almeria       1       21   \n",
       "3     402887          Luis Suarez    1799      Almeria       1        9   \n",
       "4     401174       Sergio Arribas    1799      Almeria       1       19   \n",
       "5     361969       Luis Maximiano    1799      Almeria       1       25   \n",
       "6     301773        Sergio Akieme    1799      Almeria       1       15   \n",
       "7     381644         Iddrisu Baba    1799      Almeria       1        4   \n",
       "8     323511      Lucas Robertone    1799      Almeria       1        5   \n",
       "9     430148          Marc Pubill    1799      Almeria       1       18   \n",
       "10    388665      Largie Ramazani    1799      Almeria       1        7   \n",
       "11    354297        Ibrahima Kone    1799      Almeria       1       23   \n",
       "12    338365            Alex Pozo    1799      Almeria       1       17   \n",
       "13    261698       Gonzalo Melero    1799      Almeria       1       11   \n",
       "14    388666        Arnau Puigmal    1799      Almeria       1        8   \n",
       "15    402214               Lazaro    1799      Almeria       1       14   \n",
       "16    422957          Fran Garcia      52  Real Madrid       0       20   \n",
       "17    353423  Aurelien Tchouameni      52  Real Madrid       0       18   \n",
       "18    104010      Antonio Rudiger      52  Real Madrid       0       22   \n",
       "19    106883        Dani Carvajal      52  Real Madrid       0        2   \n",
       "20     39722          David Alaba      52  Real Madrid       0        4   \n",
       "21    345031         Andrii Lunin      52  Real Madrid       0       13   \n",
       "22    337782      Vinicius Junior      52  Real Madrid       0        7   \n",
       "23    344644    Federico Valverde      52  Real Madrid       0       15   \n",
       "24    379868      Jude Bellingham      52  Real Madrid       0        5   \n",
       "25     31772           Toni Kroos      52  Real Madrid       0        8   \n",
       "26    347862              Rodrygo      52  Real Madrid       0       11   \n",
       "27    369109    Eduardo Camavinga      52  Real Madrid       0       12   \n",
       "28     20874          Luka Modric      52  Real Madrid       0       10   \n",
       "29     74603               Joselu      52  Real Madrid       0       14   \n",
       "30    317541          Brahim Diaz      52  Real Madrid       0       21   \n",
       "31    144511        Lucas Vazquez      52  Real Madrid       0       17   \n",
       "\n",
       "   position            timestamp  minutes_played  shots  ...  succLongball  \\\n",
       "0       AMR  2023-08-20 17:33:37              90      0  ...             1   \n",
       "1        DC  2023-08-20 17:33:37              90      1  ...             5   \n",
       "2        DC  2023-08-20 17:33:37              90      0  ...             0   \n",
       "3        FW  2023-08-20 17:33:37              90      5  ...             1   \n",
       "4       AMC  2023-08-20 17:33:37              90      1  ...             3   \n",
       "5        GK  2023-08-20 17:33:37              90      0  ...             8   \n",
       "6        DL  2023-08-20 17:33:37              90      0  ...             6   \n",
       "7       DMC  2023-08-20 17:33:37              90      1  ...             3   \n",
       "8       DMC  2023-08-20 17:33:37              68      5  ...             3   \n",
       "9        DR  2023-08-20 17:33:37              68      0  ...             2   \n",
       "10      AML  2023-08-20 17:33:37              60      6  ...             0   \n",
       "11      Sub  2023-08-20 17:33:37              30      1  ...             0   \n",
       "12      Sub  2023-08-20 17:33:37              22      0  ...             4   \n",
       "13      Sub  2023-08-20 17:33:37              22      0  ...             0   \n",
       "14      Sub  2023-08-20 17:33:37               1      0  ...             1   \n",
       "15      Sub  2023-08-20 17:33:37               1      0  ...             0   \n",
       "16       DL  2023-08-20 17:33:37              90      1  ...             2   \n",
       "17       MC  2023-08-20 17:33:37              90      2  ...             4   \n",
       "18       DC  2023-08-20 17:33:37              90      0  ...             0   \n",
       "19       DR  2023-08-20 17:33:37              90      1  ...             2   \n",
       "20       DC  2023-08-20 17:33:37              90      1  ...             2   \n",
       "21       GK  2023-08-20 17:33:37              90      0  ...             5   \n",
       "22       FW  2023-08-20 17:33:37              89      4  ...             3   \n",
       "23       MC  2023-08-20 17:33:37              89      4  ...             2   \n",
       "24      AMC  2023-08-20 17:33:37              80      6  ...             1   \n",
       "25       MC  2023-08-20 17:33:37              71      0  ...             3   \n",
       "26       FW  2023-08-20 17:33:37              71      3  ...             0   \n",
       "27      Sub  2023-08-20 17:33:37              19      0  ...             0   \n",
       "28      Sub  2023-08-20 17:33:37              19      2  ...             1   \n",
       "29      Sub  2023-08-20 17:33:37              10      1  ...             1   \n",
       "30      Sub  2023-08-20 17:33:37               1      0  ...             0   \n",
       "31      Sub  2023-08-20 17:33:37               1      0  ...             0   \n",
       "\n",
       "    Throughballatt  succThroughball  TotTackles  succTackles  Interceptions  \\\n",
       "0                0                0           4            3              0   \n",
       "1                0                0           3            1              1   \n",
       "2                0                0           1            1              0   \n",
       "3                0                0           0            0              0   \n",
       "4                0                0           0            0              0   \n",
       "5                0                0           0            0              0   \n",
       "6                0                0           0            0              0   \n",
       "7                0                0           3            2              2   \n",
       "8                1                0           0            0              2   \n",
       "9                0                0           3            0              2   \n",
       "10               0                0           0            0              4   \n",
       "11               0                0           0            0              0   \n",
       "12               0                0           2            1              0   \n",
       "13               0                0           1            1              0   \n",
       "14               0                0           0            0              0   \n",
       "15               0                0           0            0              0   \n",
       "16               0                0           0            0              1   \n",
       "17               0                0           2            1              3   \n",
       "18               0                0           2            1              1   \n",
       "19               1                1           2            0              0   \n",
       "20               0                0           1            0              1   \n",
       "21               0                0           0            0              0   \n",
       "22               0                0           0            0              0   \n",
       "23               0                0           1            0              0   \n",
       "24               0                0           0            0              0   \n",
       "25               0                0           3            2              0   \n",
       "26               0                0           0            0              0   \n",
       "27               0                0           2            2              0   \n",
       "28               0                0           0            0              3   \n",
       "29               0                0           0            0              1   \n",
       "30               0                0           1            0              0   \n",
       "31               0                0           0            0              0   \n",
       "\n",
       "    Clearances  blockedshots  Fouls  Fouled  \n",
       "0            0             0      0       1  \n",
       "1            9             1      1       0  \n",
       "2            5             2      3       0  \n",
       "3            0             0      1       1  \n",
       "4            0             0      1       2  \n",
       "5            0             0      0       0  \n",
       "6            2             0      0       2  \n",
       "7            1             0      0       2  \n",
       "8            1             1      3       1  \n",
       "9            2             0      1       3  \n",
       "10           0             1      0       1  \n",
       "11           0             0      0       0  \n",
       "12           0             0      0       0  \n",
       "13           0             0      0       0  \n",
       "14           0             0      0       0  \n",
       "15           0             0      0       0  \n",
       "16           4             0      2       0  \n",
       "17           1             0      1       0  \n",
       "18           3             4      0       0  \n",
       "19           5             0      1       0  \n",
       "20           4             0      2       0  \n",
       "21           0             0      0       0  \n",
       "22           0             0      2       5  \n",
       "23           1             0      0       0  \n",
       "24           0             0      1       1  \n",
       "25           1             0      1       2  \n",
       "26           0             0      1       1  \n",
       "27           0             0      0       0  \n",
       "28           0             0      1       0  \n",
       "29           0             0      0       0  \n",
       "30           0             0      1       0  \n",
       "31           0             0      0       0  \n",
       "\n",
       "[32 rows x 33 columns]"
      ]
     },
     "execution_count": 181,
     "metadata": {},
     "output_type": "execute_result"
    }
   ],
   "source": [
    "\n",
    "\n",
    "full_time = 90\n",
    "\n",
    "# Unique player entries (team, position info)\n",
    "player_keys = dff[['name', 'teamId', 'teamName', 'shirtNo', 'position','playerId','ishome','datetime']].drop_duplicates() #'PlayerPosition',\n",
    "player_keys = player_keys.dropna(subset=['name']).reset_index(drop=True)\n",
    "\n",
    "rows = []\n",
    "for _, r in player_keys.iterrows():\n",
    "    name, team_id, team_name, shirt, position,playerid,ishome,timestamp = (\n",
    "        r['name'], r['teamId'], r['teamName'], r['shirtNo'], r['position'],r['playerId'],r['ishome'],r['datetime']\n",
    "    )\n",
    "    pe = dff[\n",
    "        (dff['name'] == name)\n",
    "        & (dff['teamId'] == team_id)\n",
    "        & (dff['shirtNo'] == shirt)\n",
    "    ]\n",
    "    touches=(pe['isTouch'] == True).sum()\n",
    "    shots=(pe['isShot'] == True).sum()\n",
    "    goals=((pe['type'] == 'Goal')& (pe['OwnGoal'] !=1)).sum() \n",
    "    pengoals=((pe['type'] == 'Goal')& (pe['Penalty'] ==1)).sum()\n",
    "    missedpens=((pe['type'] != 'Goal')& (pe['Penalty'] ==1)).sum()\n",
    "    # === Passing stats ===\n",
    "    assists=(pe['IntentionalGoalAssist'] == 1).sum()\n",
    "    keypass=(pe['KeyPass'] == 1).sum()\n",
    "    \n",
    "    bcc=(pe['BigChanceCreated'] == 1).sum()\n",
    "    disp = (pe['type'] == 'Dispossessed').sum()\n",
    "    \n",
    "    passatt = (pe['type'] == 'Pass').sum()\n",
    "    succpass = ((pe['type'] == 'Pass') & (pe['outcomeType'] == 'Successful')).sum()\n",
    "    \n",
    "    dribbles = (pe['type'] == 'TakeOn').sum()\n",
    "    succdrib = ((pe['type'] == 'TakeOn') & (pe['outcomeType'] == 'Successful')).sum()\n",
    "    \n",
    "    errors = (pe['type'] == 'Error').sum()\n",
    "    # === Cross stats ===\n",
    "    crossesatt = ((pe['Cross'] == 1)&(pe['type'] == 'Pass')).sum()\n",
    "    succcross = ((pe['type'] == 'Pass') &(pe['Cross'] == 1) & (pe['outcomeType'] == 'Successful')).sum()\n",
    "    \n",
    "    # === Long ball stats ===\n",
    "    longballatt = ((pe['Longball'] == 1)&(pe['type'] == 'Pass')).sum()\n",
    "    succlongball = ((pe['type'] == 'Pass')&(pe['Longball'] == 1) & (pe['outcomeType'] == 'Successful')).sum()\n",
    "    throughballatt = ((pe['Throughball'] == 1)&(pe['type'] == 'Pass')).sum()\n",
    "    succthroughball = ((pe['type'] == 'Pass')&(pe['Throughball'] == 1) & (pe['outcomeType'] == 'Successful')).sum()\n",
    "    \n",
    "    tackles = (pe['type'] == 'Tackle').sum()\n",
    "    succtackles = ((pe['type'] == 'Tackle')& (pe['outcomeType'] == 'Unsuccessful')).sum()\n",
    "    interceptions = (pe['type'] == 'Interception').sum()\n",
    "    clearances = (pe['type'] == 'Clearance').sum()\n",
    "    fouls = ((pe['type'] == 'Foul')& (pe['outcomeType'] == 'Unsuccessful')).sum()\n",
    "    fouled = ((pe['type'] == 'Foul')& (pe['outcomeType'] == 'Successful')).sum()\n",
    "    blockedshots = ((pe['type'] == 'Save')& (pe['OutfielderBlock'] == 1)).sum()\n",
    "    \n",
    "    # Substitution info\n",
    "    subs_on_vals = pe.loc[pe['type'] == 'SubstitutionOn', 'minute']\n",
    "    subs_off_vals = pe.loc[pe['type'] == 'SubstitutionOff', 'minute']\n",
    "    subs_on_min = subs_on_vals.min() if not subs_on_vals.empty else None\n",
    "    subs_off_min = subs_off_vals.min() if not subs_off_vals.empty else None\n",
    "\n",
    "    # === Minutes played calculation ===\n",
    "    if pd.notna(subs_on_min):\n",
    "        start = int(subs_on_min)\n",
    "        if start >= full_time:\n",
    "            mins = 1\n",
    "        else:\n",
    "            end = int(subs_off_min) if pd.notna(subs_off_min) else full_time\n",
    "            end = min(end, full_time)\n",
    "            mins = end - start\n",
    "            if mins < 1:\n",
    "                mins = 1\n",
    "    elif pe['isFirstEleven'].any():\n",
    "        end = int(subs_off_min) if pd.notna(subs_off_min) else full_time\n",
    "        end = min(end, full_time)\n",
    "        mins = end\n",
    "        if mins < 0:\n",
    "            mins = 0\n",
    "    else:\n",
    "        mins = 0\n",
    "\n",
    "    rows.append({\n",
    "        'playerId':int(playerid),\n",
    "        'name': name,\n",
    "        'teamId': int(team_id),\n",
    "        'teamName': team_name,\n",
    "        'ishome':ishome,\n",
    "        'shirtNo': int(shirt),\n",
    "        'position': position,\n",
    "       'timestamp':timestamp,\n",
    "        'minutes_played': int(mins),\n",
    "        'shots':shots,\n",
    "        'goals':goals,\n",
    "        'assists':assists,\n",
    "        'keypass':keypass,\n",
    "        'bcc':bcc,\n",
    "        'Touches':touches,\n",
    "        'dribbles':dribbles,\n",
    "        'disp':disp,\n",
    "        'succdrib':succdrib,\n",
    "        'Passatt': int(passatt),\n",
    "        'succPass': int(succpass),\n",
    "        'Crossesatt': int(crossesatt),\n",
    "        'succCross': int(succcross),\n",
    "        'Longballatt': int(longballatt),\n",
    "        'succLongball': int(succlongball),\n",
    "        'Throughballatt':int(throughballatt),\n",
    "        'succThroughball':int(succthroughball),\n",
    "        'TotTackles':int(tackles),\n",
    "        'succTackles':int(succtackles),\n",
    "        'Interceptions':int(interceptions),\n",
    "        'Clearances':clearances,\n",
    "        'blockedshots':blockedshots,\n",
    "        'Fouls':fouls,\n",
    "        'Fouled':fouled\n",
    "    })\n",
    "\n",
    "stats_df = (\n",
    "    pd.DataFrame(rows)\n",
    "    .sort_values(['teamName', 'minutes_played'], ascending=[True, False])\n",
    "    .reset_index(drop=True)\n",
    ")\n",
    "stats_df.to_csv(\"testing.csv\")\n",
    "stats_df\n"
   ]
  },
  {
   "cell_type": "code",
   "execution_count": 183,
   "id": "1ea54324-206a-442e-a4bc-fa4f6a94cbf0",
   "metadata": {},
   "outputs": [
    {
     "data": {
      "text/html": [
       "<div>\n",
       "<style scoped>\n",
       "    .dataframe tbody tr th:only-of-type {\n",
       "        vertical-align: middle;\n",
       "    }\n",
       "\n",
       "    .dataframe tbody tr th {\n",
       "        vertical-align: top;\n",
       "    }\n",
       "\n",
       "    .dataframe thead th {\n",
       "        text-align: right;\n",
       "    }\n",
       "</style>\n",
       "<table border=\"1\" class=\"dataframe\">\n",
       "  <thead>\n",
       "    <tr style=\"text-align: right;\">\n",
       "      <th></th>\n",
       "      <th>Unnamed: 0</th>\n",
       "      <th>incidents</th>\n",
       "      <th>playedPositionsShort</th>\n",
       "      <th>height</th>\n",
       "      <th>weight</th>\n",
       "      <th>age</th>\n",
       "      <th>isManOfTheMatch</th>\n",
       "      <th>isActive</th>\n",
       "      <th>playedPositions</th>\n",
       "      <th>teamRegionId</th>\n",
       "      <th>...</th>\n",
       "      <th>turnover</th>\n",
       "      <th>dispossessed</th>\n",
       "      <th>duelAerialWon</th>\n",
       "      <th>totalAccuratePasses</th>\n",
       "      <th>totalPasses</th>\n",
       "      <th>passSuccess</th>\n",
       "      <th>ranking</th>\n",
       "      <th>teamname</th>\n",
       "      <th>ishome</th>\n",
       "      <th>datetime</th>\n",
       "    </tr>\n",
       "  </thead>\n",
       "  <tbody>\n",
       "    <tr>\n",
       "      <th>0</th>\n",
       "      <td>0</td>\n",
       "      <td>[{'id': 2579237165.0, 'eventId': 499, 'minute'...</td>\n",
       "      <td>GK</td>\n",
       "      <td>0</td>\n",
       "      <td>0</td>\n",
       "      <td>26</td>\n",
       "      <td>False</td>\n",
       "      <td>True</td>\n",
       "      <td>NaN</td>\n",
       "      <td>0</td>\n",
       "      <td>...</td>\n",
       "      <td>0.0</td>\n",
       "      <td>0.0</td>\n",
       "      <td>0.0</td>\n",
       "      <td>0.0</td>\n",
       "      <td>29.0</td>\n",
       "      <td>0.0</td>\n",
       "      <td>0</td>\n",
       "      <td>Almeria</td>\n",
       "      <td>1</td>\n",
       "      <td>2023-08-20 17:33:37</td>\n",
       "    </tr>\n",
       "    <tr>\n",
       "      <th>1</th>\n",
       "      <td>1</td>\n",
       "      <td>[{'id': 2579245725.0, 'eventId': 563, 'minute'...</td>\n",
       "      <td>DR</td>\n",
       "      <td>0</td>\n",
       "      <td>0</td>\n",
       "      <td>22</td>\n",
       "      <td>False</td>\n",
       "      <td>True</td>\n",
       "      <td>NaN</td>\n",
       "      <td>0</td>\n",
       "      <td>...</td>\n",
       "      <td>0.0</td>\n",
       "      <td>1.0</td>\n",
       "      <td>0.0</td>\n",
       "      <td>0.0</td>\n",
       "      <td>31.0</td>\n",
       "      <td>0.0</td>\n",
       "      <td>0</td>\n",
       "      <td>Almeria</td>\n",
       "      <td>1</td>\n",
       "      <td>2023-08-20 17:33:37</td>\n",
       "    </tr>\n",
       "    <tr>\n",
       "      <th>2</th>\n",
       "      <td>2</td>\n",
       "      <td>[]</td>\n",
       "      <td>DC</td>\n",
       "      <td>0</td>\n",
       "      <td>0</td>\n",
       "      <td>28</td>\n",
       "      <td>False</td>\n",
       "      <td>True</td>\n",
       "      <td>NaN</td>\n",
       "      <td>0</td>\n",
       "      <td>...</td>\n",
       "      <td>0.0</td>\n",
       "      <td>1.0</td>\n",
       "      <td>1.0</td>\n",
       "      <td>0.0</td>\n",
       "      <td>47.0</td>\n",
       "      <td>0.0</td>\n",
       "      <td>0</td>\n",
       "      <td>Almeria</td>\n",
       "      <td>1</td>\n",
       "      <td>2023-08-20 17:33:37</td>\n",
       "    </tr>\n",
       "    <tr>\n",
       "      <th>3</th>\n",
       "      <td>3</td>\n",
       "      <td>[{'id': 2579236533.0, 'eventId': 497, 'minute'...</td>\n",
       "      <td>DC</td>\n",
       "      <td>0</td>\n",
       "      <td>0</td>\n",
       "      <td>26</td>\n",
       "      <td>False</td>\n",
       "      <td>True</td>\n",
       "      <td>NaN</td>\n",
       "      <td>0</td>\n",
       "      <td>...</td>\n",
       "      <td>1.0</td>\n",
       "      <td>0.0</td>\n",
       "      <td>0.0</td>\n",
       "      <td>0.0</td>\n",
       "      <td>33.0</td>\n",
       "      <td>0.0</td>\n",
       "      <td>0</td>\n",
       "      <td>Almeria</td>\n",
       "      <td>1</td>\n",
       "      <td>2023-08-20 17:33:37</td>\n",
       "    </tr>\n",
       "    <tr>\n",
       "      <th>4</th>\n",
       "      <td>4</td>\n",
       "      <td>[]</td>\n",
       "      <td>DL</td>\n",
       "      <td>0</td>\n",
       "      <td>0</td>\n",
       "      <td>27</td>\n",
       "      <td>False</td>\n",
       "      <td>True</td>\n",
       "      <td>NaN</td>\n",
       "      <td>0</td>\n",
       "      <td>...</td>\n",
       "      <td>0.0</td>\n",
       "      <td>0.0</td>\n",
       "      <td>0.0</td>\n",
       "      <td>0.0</td>\n",
       "      <td>42.0</td>\n",
       "      <td>0.0</td>\n",
       "      <td>0</td>\n",
       "      <td>Almeria</td>\n",
       "      <td>1</td>\n",
       "      <td>2023-08-20 17:33:37</td>\n",
       "    </tr>\n",
       "    <tr>\n",
       "      <th>5</th>\n",
       "      <td>5</td>\n",
       "      <td>[{'id': 2579157213.0, 'eventId': 22, 'minute':...</td>\n",
       "      <td>DMC</td>\n",
       "      <td>0</td>\n",
       "      <td>0</td>\n",
       "      <td>28</td>\n",
       "      <td>False</td>\n",
       "      <td>True</td>\n",
       "      <td>NaN</td>\n",
       "      <td>0</td>\n",
       "      <td>...</td>\n",
       "      <td>1.0</td>\n",
       "      <td>0.0</td>\n",
       "      <td>1.0</td>\n",
       "      <td>0.0</td>\n",
       "      <td>39.0</td>\n",
       "      <td>0.0</td>\n",
       "      <td>0</td>\n",
       "      <td>Almeria</td>\n",
       "      <td>1</td>\n",
       "      <td>2023-08-20 17:33:37</td>\n",
       "    </tr>\n",
       "    <tr>\n",
       "      <th>6</th>\n",
       "      <td>6</td>\n",
       "      <td>[{'id': 2579269847.0, 'eventId': 728, 'minute'...</td>\n",
       "      <td>DMC</td>\n",
       "      <td>0</td>\n",
       "      <td>0</td>\n",
       "      <td>29</td>\n",
       "      <td>False</td>\n",
       "      <td>True</td>\n",
       "      <td>NaN</td>\n",
       "      <td>0</td>\n",
       "      <td>...</td>\n",
       "      <td>0.0</td>\n",
       "      <td>0.0</td>\n",
       "      <td>2.0</td>\n",
       "      <td>0.0</td>\n",
       "      <td>46.0</td>\n",
       "      <td>0.0</td>\n",
       "      <td>0</td>\n",
       "      <td>Almeria</td>\n",
       "      <td>1</td>\n",
       "      <td>2023-08-20 17:33:37</td>\n",
       "    </tr>\n",
       "    <tr>\n",
       "      <th>7</th>\n",
       "      <td>7</td>\n",
       "      <td>[]</td>\n",
       "      <td>AMR</td>\n",
       "      <td>0</td>\n",
       "      <td>0</td>\n",
       "      <td>33</td>\n",
       "      <td>False</td>\n",
       "      <td>True</td>\n",
       "      <td>NaN</td>\n",
       "      <td>0</td>\n",
       "      <td>...</td>\n",
       "      <td>3.0</td>\n",
       "      <td>0.0</td>\n",
       "      <td>3.0</td>\n",
       "      <td>0.0</td>\n",
       "      <td>47.0</td>\n",
       "      <td>0.0</td>\n",
       "      <td>0</td>\n",
       "      <td>Almeria</td>\n",
       "      <td>1</td>\n",
       "      <td>2023-08-20 17:33:37</td>\n",
       "    </tr>\n",
       "    <tr>\n",
       "      <th>8</th>\n",
       "      <td>8</td>\n",
       "      <td>[{'id': 2579157215.0, 'eventId': 23, 'minute':...</td>\n",
       "      <td>AMC</td>\n",
       "      <td>0</td>\n",
       "      <td>0</td>\n",
       "      <td>23</td>\n",
       "      <td>False</td>\n",
       "      <td>True</td>\n",
       "      <td>NaN</td>\n",
       "      <td>0</td>\n",
       "      <td>...</td>\n",
       "      <td>0.0</td>\n",
       "      <td>1.0</td>\n",
       "      <td>0.0</td>\n",
       "      <td>0.0</td>\n",
       "      <td>22.0</td>\n",
       "      <td>0.0</td>\n",
       "      <td>0</td>\n",
       "      <td>Almeria</td>\n",
       "      <td>1</td>\n",
       "      <td>2023-08-20 17:33:37</td>\n",
       "    </tr>\n",
       "    <tr>\n",
       "      <th>9</th>\n",
       "      <td>9</td>\n",
       "      <td>[{'id': 2579238713.0, 'eventId': 510, 'minute'...</td>\n",
       "      <td>AML</td>\n",
       "      <td>0</td>\n",
       "      <td>0</td>\n",
       "      <td>24</td>\n",
       "      <td>False</td>\n",
       "      <td>True</td>\n",
       "      <td>NaN</td>\n",
       "      <td>0</td>\n",
       "      <td>...</td>\n",
       "      <td>1.0</td>\n",
       "      <td>1.0</td>\n",
       "      <td>0.0</td>\n",
       "      <td>0.0</td>\n",
       "      <td>13.0</td>\n",
       "      <td>0.0</td>\n",
       "      <td>0</td>\n",
       "      <td>Almeria</td>\n",
       "      <td>1</td>\n",
       "      <td>2023-08-20 17:33:37</td>\n",
       "    </tr>\n",
       "    <tr>\n",
       "      <th>10</th>\n",
       "      <td>10</td>\n",
       "      <td>[]</td>\n",
       "      <td>FW</td>\n",
       "      <td>0</td>\n",
       "      <td>0</td>\n",
       "      <td>27</td>\n",
       "      <td>False</td>\n",
       "      <td>True</td>\n",
       "      <td>NaN</td>\n",
       "      <td>0</td>\n",
       "      <td>...</td>\n",
       "      <td>1.0</td>\n",
       "      <td>1.0</td>\n",
       "      <td>2.0</td>\n",
       "      <td>0.0</td>\n",
       "      <td>19.0</td>\n",
       "      <td>0.0</td>\n",
       "      <td>0</td>\n",
       "      <td>Almeria</td>\n",
       "      <td>1</td>\n",
       "      <td>2023-08-20 17:33:37</td>\n",
       "    </tr>\n",
       "    <tr>\n",
       "      <th>11</th>\n",
       "      <td>11</td>\n",
       "      <td>[{'id': 2579269851.0, 'eventId': 729, 'minute'...</td>\n",
       "      <td>Sub</td>\n",
       "      <td>0</td>\n",
       "      <td>0</td>\n",
       "      <td>23</td>\n",
       "      <td>False</td>\n",
       "      <td>True</td>\n",
       "      <td>NaN</td>\n",
       "      <td>0</td>\n",
       "      <td>...</td>\n",
       "      <td>0.0</td>\n",
       "      <td>0.0</td>\n",
       "      <td>1.0</td>\n",
       "      <td>0.0</td>\n",
       "      <td>4.0</td>\n",
       "      <td>0.0</td>\n",
       "      <td>0</td>\n",
       "      <td>Almeria</td>\n",
       "      <td>1</td>\n",
       "      <td>2023-08-20 17:33:37</td>\n",
       "    </tr>\n",
       "    <tr>\n",
       "      <th>12</th>\n",
       "      <td>12</td>\n",
       "      <td>[{'id': 2579238723.0, 'eventId': 511, 'minute'...</td>\n",
       "      <td>Sub</td>\n",
       "      <td>0</td>\n",
       "      <td>0</td>\n",
       "      <td>26</td>\n",
       "      <td>False</td>\n",
       "      <td>True</td>\n",
       "      <td>NaN</td>\n",
       "      <td>0</td>\n",
       "      <td>...</td>\n",
       "      <td>0.0</td>\n",
       "      <td>0.0</td>\n",
       "      <td>0.0</td>\n",
       "      <td>0.0</td>\n",
       "      <td>7.0</td>\n",
       "      <td>0.0</td>\n",
       "      <td>0</td>\n",
       "      <td>Almeria</td>\n",
       "      <td>1</td>\n",
       "      <td>2023-08-20 17:33:37</td>\n",
       "    </tr>\n",
       "    <tr>\n",
       "      <th>13</th>\n",
       "      <td>13</td>\n",
       "      <td>[{'id': 2579269561.0, 'eventId': 727, 'minute'...</td>\n",
       "      <td>Sub</td>\n",
       "      <td>0</td>\n",
       "      <td>0</td>\n",
       "      <td>24</td>\n",
       "      <td>False</td>\n",
       "      <td>True</td>\n",
       "      <td>NaN</td>\n",
       "      <td>0</td>\n",
       "      <td>...</td>\n",
       "      <td>0.0</td>\n",
       "      <td>1.0</td>\n",
       "      <td>0.0</td>\n",
       "      <td>0.0</td>\n",
       "      <td>5.0</td>\n",
       "      <td>0.0</td>\n",
       "      <td>0</td>\n",
       "      <td>Almeria</td>\n",
       "      <td>1</td>\n",
       "      <td>2023-08-20 17:33:37</td>\n",
       "    </tr>\n",
       "    <tr>\n",
       "      <th>14</th>\n",
       "      <td>14</td>\n",
       "      <td>[{'id': 2579245729.0, 'eventId': 564, 'minute'...</td>\n",
       "      <td>Sub</td>\n",
       "      <td>0</td>\n",
       "      <td>0</td>\n",
       "      <td>26</td>\n",
       "      <td>False</td>\n",
       "      <td>True</td>\n",
       "      <td>NaN</td>\n",
       "      <td>0</td>\n",
       "      <td>...</td>\n",
       "      <td>0.0</td>\n",
       "      <td>0.0</td>\n",
       "      <td>0.0</td>\n",
       "      <td>0.0</td>\n",
       "      <td>30.0</td>\n",
       "      <td>0.0</td>\n",
       "      <td>0</td>\n",
       "      <td>Almeria</td>\n",
       "      <td>1</td>\n",
       "      <td>2023-08-20 17:33:37</td>\n",
       "    </tr>\n",
       "    <tr>\n",
       "      <th>15</th>\n",
       "      <td>15</td>\n",
       "      <td>[{'id': 2579245969.0, 'eventId': 566, 'minute'...</td>\n",
       "      <td>Sub</td>\n",
       "      <td>0</td>\n",
       "      <td>0</td>\n",
       "      <td>31</td>\n",
       "      <td>False</td>\n",
       "      <td>True</td>\n",
       "      <td>NaN</td>\n",
       "      <td>0</td>\n",
       "      <td>...</td>\n",
       "      <td>0.0</td>\n",
       "      <td>0.0</td>\n",
       "      <td>0.0</td>\n",
       "      <td>0.0</td>\n",
       "      <td>14.0</td>\n",
       "      <td>0.0</td>\n",
       "      <td>0</td>\n",
       "      <td>Almeria</td>\n",
       "      <td>1</td>\n",
       "      <td>2023-08-20 17:33:37</td>\n",
       "    </tr>\n",
       "    <tr>\n",
       "      <th>16</th>\n",
       "      <td>16</td>\n",
       "      <td>[]</td>\n",
       "      <td>Sub</td>\n",
       "      <td>0</td>\n",
       "      <td>0</td>\n",
       "      <td>21</td>\n",
       "      <td>False</td>\n",
       "      <td>True</td>\n",
       "      <td>NaN</td>\n",
       "      <td>0</td>\n",
       "      <td>...</td>\n",
       "      <td>0.0</td>\n",
       "      <td>0.0</td>\n",
       "      <td>0.0</td>\n",
       "      <td>0.0</td>\n",
       "      <td>0.0</td>\n",
       "      <td>0.0</td>\n",
       "      <td>0</td>\n",
       "      <td>Almeria</td>\n",
       "      <td>1</td>\n",
       "      <td>2023-08-20 17:33:37</td>\n",
       "    </tr>\n",
       "    <tr>\n",
       "      <th>17</th>\n",
       "      <td>17</td>\n",
       "      <td>[]</td>\n",
       "      <td>Sub</td>\n",
       "      <td>0</td>\n",
       "      <td>0</td>\n",
       "      <td>23</td>\n",
       "      <td>False</td>\n",
       "      <td>True</td>\n",
       "      <td>NaN</td>\n",
       "      <td>0</td>\n",
       "      <td>...</td>\n",
       "      <td>0.0</td>\n",
       "      <td>0.0</td>\n",
       "      <td>0.0</td>\n",
       "      <td>0.0</td>\n",
       "      <td>0.0</td>\n",
       "      <td>0.0</td>\n",
       "      <td>0</td>\n",
       "      <td>Almeria</td>\n",
       "      <td>1</td>\n",
       "      <td>2023-08-20 17:33:37</td>\n",
       "    </tr>\n",
       "    <tr>\n",
       "      <th>18</th>\n",
       "      <td>18</td>\n",
       "      <td>[]</td>\n",
       "      <td>Sub</td>\n",
       "      <td>0</td>\n",
       "      <td>0</td>\n",
       "      <td>26</td>\n",
       "      <td>False</td>\n",
       "      <td>True</td>\n",
       "      <td>NaN</td>\n",
       "      <td>0</td>\n",
       "      <td>...</td>\n",
       "      <td>0.0</td>\n",
       "      <td>0.0</td>\n",
       "      <td>0.0</td>\n",
       "      <td>0.0</td>\n",
       "      <td>0.0</td>\n",
       "      <td>0.0</td>\n",
       "      <td>0</td>\n",
       "      <td>Almeria</td>\n",
       "      <td>1</td>\n",
       "      <td>2023-08-20 17:33:37</td>\n",
       "    </tr>\n",
       "    <tr>\n",
       "      <th>19</th>\n",
       "      <td>19</td>\n",
       "      <td>[]</td>\n",
       "      <td>Sub</td>\n",
       "      <td>0</td>\n",
       "      <td>0</td>\n",
       "      <td>35</td>\n",
       "      <td>False</td>\n",
       "      <td>True</td>\n",
       "      <td>NaN</td>\n",
       "      <td>0</td>\n",
       "      <td>...</td>\n",
       "      <td>0.0</td>\n",
       "      <td>0.0</td>\n",
       "      <td>0.0</td>\n",
       "      <td>0.0</td>\n",
       "      <td>0.0</td>\n",
       "      <td>0.0</td>\n",
       "      <td>0</td>\n",
       "      <td>Almeria</td>\n",
       "      <td>1</td>\n",
       "      <td>2023-08-20 17:33:37</td>\n",
       "    </tr>\n",
       "    <tr>\n",
       "      <th>20</th>\n",
       "      <td>20</td>\n",
       "      <td>[]</td>\n",
       "      <td>Sub</td>\n",
       "      <td>0</td>\n",
       "      <td>0</td>\n",
       "      <td>35</td>\n",
       "      <td>False</td>\n",
       "      <td>True</td>\n",
       "      <td>NaN</td>\n",
       "      <td>0</td>\n",
       "      <td>...</td>\n",
       "      <td>0.0</td>\n",
       "      <td>0.0</td>\n",
       "      <td>0.0</td>\n",
       "      <td>0.0</td>\n",
       "      <td>0.0</td>\n",
       "      <td>0.0</td>\n",
       "      <td>0</td>\n",
       "      <td>Almeria</td>\n",
       "      <td>1</td>\n",
       "      <td>2023-08-20 17:33:37</td>\n",
       "    </tr>\n",
       "    <tr>\n",
       "      <th>21</th>\n",
       "      <td>21</td>\n",
       "      <td>[]</td>\n",
       "      <td>Sub</td>\n",
       "      <td>0</td>\n",
       "      <td>0</td>\n",
       "      <td>24</td>\n",
       "      <td>False</td>\n",
       "      <td>True</td>\n",
       "      <td>NaN</td>\n",
       "      <td>0</td>\n",
       "      <td>...</td>\n",
       "      <td>0.0</td>\n",
       "      <td>0.0</td>\n",
       "      <td>0.0</td>\n",
       "      <td>0.0</td>\n",
       "      <td>0.0</td>\n",
       "      <td>0.0</td>\n",
       "      <td>0</td>\n",
       "      <td>Almeria</td>\n",
       "      <td>1</td>\n",
       "      <td>2023-08-20 17:33:37</td>\n",
       "    </tr>\n",
       "    <tr>\n",
       "      <th>22</th>\n",
       "      <td>22</td>\n",
       "      <td>[]</td>\n",
       "      <td>Sub</td>\n",
       "      <td>0</td>\n",
       "      <td>0</td>\n",
       "      <td>23</td>\n",
       "      <td>False</td>\n",
       "      <td>True</td>\n",
       "      <td>NaN</td>\n",
       "      <td>0</td>\n",
       "      <td>...</td>\n",
       "      <td>0.0</td>\n",
       "      <td>0.0</td>\n",
       "      <td>0.0</td>\n",
       "      <td>0.0</td>\n",
       "      <td>0.0</td>\n",
       "      <td>0.0</td>\n",
       "      <td>0</td>\n",
       "      <td>Almeria</td>\n",
       "      <td>1</td>\n",
       "      <td>2023-08-20 17:33:37</td>\n",
       "    </tr>\n",
       "    <tr>\n",
       "      <th>23</th>\n",
       "      <td>23</td>\n",
       "      <td>[]</td>\n",
       "      <td>GK</td>\n",
       "      <td>0</td>\n",
       "      <td>0</td>\n",
       "      <td>26</td>\n",
       "      <td>False</td>\n",
       "      <td>True</td>\n",
       "      <td>NaN</td>\n",
       "      <td>0</td>\n",
       "      <td>...</td>\n",
       "      <td>0.0</td>\n",
       "      <td>0.0</td>\n",
       "      <td>0.0</td>\n",
       "      <td>0.0</td>\n",
       "      <td>20.0</td>\n",
       "      <td>0.0</td>\n",
       "      <td>0</td>\n",
       "      <td>Real Madrid</td>\n",
       "      <td>0</td>\n",
       "      <td>2023-08-20 17:33:37</td>\n",
       "    </tr>\n",
       "    <tr>\n",
       "      <th>24</th>\n",
       "      <td>24</td>\n",
       "      <td>[]</td>\n",
       "      <td>DR</td>\n",
       "      <td>0</td>\n",
       "      <td>0</td>\n",
       "      <td>33</td>\n",
       "      <td>False</td>\n",
       "      <td>True</td>\n",
       "      <td>NaN</td>\n",
       "      <td>0</td>\n",
       "      <td>...</td>\n",
       "      <td>2.0</td>\n",
       "      <td>0.0</td>\n",
       "      <td>0.0</td>\n",
       "      <td>0.0</td>\n",
       "      <td>45.0</td>\n",
       "      <td>0.0</td>\n",
       "      <td>0</td>\n",
       "      <td>Real Madrid</td>\n",
       "      <td>0</td>\n",
       "      <td>2023-08-20 17:33:37</td>\n",
       "    </tr>\n",
       "    <tr>\n",
       "      <th>25</th>\n",
       "      <td>25</td>\n",
       "      <td>[]</td>\n",
       "      <td>DC</td>\n",
       "      <td>0</td>\n",
       "      <td>0</td>\n",
       "      <td>33</td>\n",
       "      <td>False</td>\n",
       "      <td>True</td>\n",
       "      <td>NaN</td>\n",
       "      <td>0</td>\n",
       "      <td>...</td>\n",
       "      <td>0.0</td>\n",
       "      <td>0.0</td>\n",
       "      <td>0.0</td>\n",
       "      <td>0.0</td>\n",
       "      <td>45.0</td>\n",
       "      <td>0.0</td>\n",
       "      <td>0</td>\n",
       "      <td>Real Madrid</td>\n",
       "      <td>0</td>\n",
       "      <td>2023-08-20 17:33:37</td>\n",
       "    </tr>\n",
       "    <tr>\n",
       "      <th>26</th>\n",
       "      <td>26</td>\n",
       "      <td>[]</td>\n",
       "      <td>DC</td>\n",
       "      <td>0</td>\n",
       "      <td>0</td>\n",
       "      <td>32</td>\n",
       "      <td>False</td>\n",
       "      <td>True</td>\n",
       "      <td>NaN</td>\n",
       "      <td>0</td>\n",
       "      <td>...</td>\n",
       "      <td>0.0</td>\n",
       "      <td>0.0</td>\n",
       "      <td>2.0</td>\n",
       "      <td>0.0</td>\n",
       "      <td>45.0</td>\n",
       "      <td>0.0</td>\n",
       "      <td>0</td>\n",
       "      <td>Real Madrid</td>\n",
       "      <td>0</td>\n",
       "      <td>2023-08-20 17:33:37</td>\n",
       "    </tr>\n",
       "    <tr>\n",
       "      <th>27</th>\n",
       "      <td>27</td>\n",
       "      <td>[]</td>\n",
       "      <td>DL</td>\n",
       "      <td>0</td>\n",
       "      <td>0</td>\n",
       "      <td>26</td>\n",
       "      <td>False</td>\n",
       "      <td>True</td>\n",
       "      <td>NaN</td>\n",
       "      <td>0</td>\n",
       "      <td>...</td>\n",
       "      <td>3.0</td>\n",
       "      <td>0.0</td>\n",
       "      <td>1.0</td>\n",
       "      <td>0.0</td>\n",
       "      <td>50.0</td>\n",
       "      <td>0.0</td>\n",
       "      <td>0</td>\n",
       "      <td>Real Madrid</td>\n",
       "      <td>0</td>\n",
       "      <td>2023-08-20 17:33:37</td>\n",
       "    </tr>\n",
       "    <tr>\n",
       "      <th>28</th>\n",
       "      <td>28</td>\n",
       "      <td>[]</td>\n",
       "      <td>MC</td>\n",
       "      <td>0</td>\n",
       "      <td>0</td>\n",
       "      <td>25</td>\n",
       "      <td>False</td>\n",
       "      <td>True</td>\n",
       "      <td>NaN</td>\n",
       "      <td>0</td>\n",
       "      <td>...</td>\n",
       "      <td>0.0</td>\n",
       "      <td>0.0</td>\n",
       "      <td>4.0</td>\n",
       "      <td>0.0</td>\n",
       "      <td>73.0</td>\n",
       "      <td>0.0</td>\n",
       "      <td>0</td>\n",
       "      <td>Real Madrid</td>\n",
       "      <td>0</td>\n",
       "      <td>2023-08-20 17:33:37</td>\n",
       "    </tr>\n",
       "    <tr>\n",
       "      <th>29</th>\n",
       "      <td>29</td>\n",
       "      <td>[{'id': 2579237133.0, 'eventId': 619, 'minute'...</td>\n",
       "      <td>MC</td>\n",
       "      <td>0</td>\n",
       "      <td>0</td>\n",
       "      <td>35</td>\n",
       "      <td>False</td>\n",
       "      <td>True</td>\n",
       "      <td>NaN</td>\n",
       "      <td>0</td>\n",
       "      <td>...</td>\n",
       "      <td>0.0</td>\n",
       "      <td>0.0</td>\n",
       "      <td>0.0</td>\n",
       "      <td>0.0</td>\n",
       "      <td>63.0</td>\n",
       "      <td>0.0</td>\n",
       "      <td>0</td>\n",
       "      <td>Real Madrid</td>\n",
       "      <td>0</td>\n",
       "      <td>2023-08-20 17:33:37</td>\n",
       "    </tr>\n",
       "    <tr>\n",
       "      <th>30</th>\n",
       "      <td>30</td>\n",
       "      <td>[{'id': 2579268197.0, 'eventId': 875, 'minute'...</td>\n",
       "      <td>MC</td>\n",
       "      <td>0</td>\n",
       "      <td>0</td>\n",
       "      <td>27</td>\n",
       "      <td>False</td>\n",
       "      <td>True</td>\n",
       "      <td>NaN</td>\n",
       "      <td>0</td>\n",
       "      <td>...</td>\n",
       "      <td>0.0</td>\n",
       "      <td>0.0</td>\n",
       "      <td>1.0</td>\n",
       "      <td>0.0</td>\n",
       "      <td>67.0</td>\n",
       "      <td>0.0</td>\n",
       "      <td>0</td>\n",
       "      <td>Real Madrid</td>\n",
       "      <td>0</td>\n",
       "      <td>2023-08-20 17:33:37</td>\n",
       "    </tr>\n",
       "    <tr>\n",
       "      <th>31</th>\n",
       "      <td>31</td>\n",
       "      <td>[{'id': 2579173003.0, 'eventId': 204, 'minute'...</td>\n",
       "      <td>AMC</td>\n",
       "      <td>0</td>\n",
       "      <td>0</td>\n",
       "      <td>22</td>\n",
       "      <td>True</td>\n",
       "      <td>True</td>\n",
       "      <td>NaN</td>\n",
       "      <td>0</td>\n",
       "      <td>...</td>\n",
       "      <td>0.0</td>\n",
       "      <td>2.0</td>\n",
       "      <td>0.0</td>\n",
       "      <td>0.0</td>\n",
       "      <td>44.0</td>\n",
       "      <td>0.0</td>\n",
       "      <td>0</td>\n",
       "      <td>Real Madrid</td>\n",
       "      <td>0</td>\n",
       "      <td>2023-08-20 17:33:37</td>\n",
       "    </tr>\n",
       "    <tr>\n",
       "      <th>32</th>\n",
       "      <td>32</td>\n",
       "      <td>[{'id': 2579249593.0, 'eventId': 731, 'minute'...</td>\n",
       "      <td>FW</td>\n",
       "      <td>0</td>\n",
       "      <td>0</td>\n",
       "      <td>25</td>\n",
       "      <td>False</td>\n",
       "      <td>True</td>\n",
       "      <td>NaN</td>\n",
       "      <td>0</td>\n",
       "      <td>...</td>\n",
       "      <td>2.0</td>\n",
       "      <td>2.0</td>\n",
       "      <td>0.0</td>\n",
       "      <td>0.0</td>\n",
       "      <td>31.0</td>\n",
       "      <td>0.0</td>\n",
       "      <td>0</td>\n",
       "      <td>Real Madrid</td>\n",
       "      <td>0</td>\n",
       "      <td>2023-08-20 17:33:37</td>\n",
       "    </tr>\n",
       "    <tr>\n",
       "      <th>33</th>\n",
       "      <td>33</td>\n",
       "      <td>[{'id': 2579248155.0, 'eventId': 711, 'minute'...</td>\n",
       "      <td>FW</td>\n",
       "      <td>0</td>\n",
       "      <td>0</td>\n",
       "      <td>24</td>\n",
       "      <td>False</td>\n",
       "      <td>True</td>\n",
       "      <td>NaN</td>\n",
       "      <td>0</td>\n",
       "      <td>...</td>\n",
       "      <td>2.0</td>\n",
       "      <td>1.0</td>\n",
       "      <td>0.0</td>\n",
       "      <td>0.0</td>\n",
       "      <td>27.0</td>\n",
       "      <td>0.0</td>\n",
       "      <td>0</td>\n",
       "      <td>Real Madrid</td>\n",
       "      <td>0</td>\n",
       "      <td>2023-08-20 17:33:37</td>\n",
       "    </tr>\n",
       "    <tr>\n",
       "      <th>34</th>\n",
       "      <td>34</td>\n",
       "      <td>[{'id': 2579248157.0, 'eventId': 712, 'minute'...</td>\n",
       "      <td>Sub</td>\n",
       "      <td>0</td>\n",
       "      <td>0</td>\n",
       "      <td>40</td>\n",
       "      <td>False</td>\n",
       "      <td>True</td>\n",
       "      <td>NaN</td>\n",
       "      <td>0</td>\n",
       "      <td>...</td>\n",
       "      <td>0.0</td>\n",
       "      <td>0.0</td>\n",
       "      <td>0.0</td>\n",
       "      <td>0.0</td>\n",
       "      <td>25.0</td>\n",
       "      <td>0.0</td>\n",
       "      <td>0</td>\n",
       "      <td>Real Madrid</td>\n",
       "      <td>0</td>\n",
       "      <td>2023-08-20 17:33:37</td>\n",
       "    </tr>\n",
       "    <tr>\n",
       "      <th>35</th>\n",
       "      <td>35</td>\n",
       "      <td>[{'id': 2579248269.0, 'eventId': 714, 'minute'...</td>\n",
       "      <td>Sub</td>\n",
       "      <td>0</td>\n",
       "      <td>0</td>\n",
       "      <td>22</td>\n",
       "      <td>False</td>\n",
       "      <td>True</td>\n",
       "      <td>NaN</td>\n",
       "      <td>0</td>\n",
       "      <td>...</td>\n",
       "      <td>0.0</td>\n",
       "      <td>1.0</td>\n",
       "      <td>0.0</td>\n",
       "      <td>0.0</td>\n",
       "      <td>11.0</td>\n",
       "      <td>0.0</td>\n",
       "      <td>0</td>\n",
       "      <td>Real Madrid</td>\n",
       "      <td>0</td>\n",
       "      <td>2023-08-20 17:33:37</td>\n",
       "    </tr>\n",
       "    <tr>\n",
       "      <th>36</th>\n",
       "      <td>36</td>\n",
       "      <td>[{'id': 2579268287.0, 'eventId': 878, 'minute'...</td>\n",
       "      <td>Sub</td>\n",
       "      <td>0</td>\n",
       "      <td>0</td>\n",
       "      <td>26</td>\n",
       "      <td>False</td>\n",
       "      <td>True</td>\n",
       "      <td>NaN</td>\n",
       "      <td>0</td>\n",
       "      <td>...</td>\n",
       "      <td>0.0</td>\n",
       "      <td>0.0</td>\n",
       "      <td>0.0</td>\n",
       "      <td>0.0</td>\n",
       "      <td>9.0</td>\n",
       "      <td>0.0</td>\n",
       "      <td>0</td>\n",
       "      <td>Real Madrid</td>\n",
       "      <td>0</td>\n",
       "      <td>2023-08-20 17:33:37</td>\n",
       "    </tr>\n",
       "    <tr>\n",
       "      <th>37</th>\n",
       "      <td>37</td>\n",
       "      <td>[{'id': 2579268205.0, 'eventId': 876, 'minute'...</td>\n",
       "      <td>Sub</td>\n",
       "      <td>0</td>\n",
       "      <td>0</td>\n",
       "      <td>34</td>\n",
       "      <td>False</td>\n",
       "      <td>True</td>\n",
       "      <td>NaN</td>\n",
       "      <td>0</td>\n",
       "      <td>...</td>\n",
       "      <td>0.0</td>\n",
       "      <td>0.0</td>\n",
       "      <td>0.0</td>\n",
       "      <td>0.0</td>\n",
       "      <td>5.0</td>\n",
       "      <td>0.0</td>\n",
       "      <td>0</td>\n",
       "      <td>Real Madrid</td>\n",
       "      <td>0</td>\n",
       "      <td>2023-08-20 17:33:37</td>\n",
       "    </tr>\n",
       "    <tr>\n",
       "      <th>38</th>\n",
       "      <td>38</td>\n",
       "      <td>[{'id': 2579258091.0, 'eventId': 780, 'minute'...</td>\n",
       "      <td>Sub</td>\n",
       "      <td>0</td>\n",
       "      <td>0</td>\n",
       "      <td>35</td>\n",
       "      <td>False</td>\n",
       "      <td>True</td>\n",
       "      <td>NaN</td>\n",
       "      <td>0</td>\n",
       "      <td>...</td>\n",
       "      <td>0.0</td>\n",
       "      <td>0.0</td>\n",
       "      <td>0.0</td>\n",
       "      <td>0.0</td>\n",
       "      <td>7.0</td>\n",
       "      <td>0.0</td>\n",
       "      <td>0</td>\n",
       "      <td>Real Madrid</td>\n",
       "      <td>0</td>\n",
       "      <td>2023-08-20 17:33:37</td>\n",
       "    </tr>\n",
       "    <tr>\n",
       "      <th>39</th>\n",
       "      <td>39</td>\n",
       "      <td>[]</td>\n",
       "      <td>Sub</td>\n",
       "      <td>0</td>\n",
       "      <td>0</td>\n",
       "      <td>35</td>\n",
       "      <td>False</td>\n",
       "      <td>True</td>\n",
       "      <td>NaN</td>\n",
       "      <td>0</td>\n",
       "      <td>...</td>\n",
       "      <td>0.0</td>\n",
       "      <td>0.0</td>\n",
       "      <td>0.0</td>\n",
       "      <td>0.0</td>\n",
       "      <td>0.0</td>\n",
       "      <td>0.0</td>\n",
       "      <td>0</td>\n",
       "      <td>Real Madrid</td>\n",
       "      <td>0</td>\n",
       "      <td>2023-08-20 17:33:37</td>\n",
       "    </tr>\n",
       "    <tr>\n",
       "      <th>40</th>\n",
       "      <td>40</td>\n",
       "      <td>[]</td>\n",
       "      <td>Sub</td>\n",
       "      <td>0</td>\n",
       "      <td>0</td>\n",
       "      <td>30</td>\n",
       "      <td>False</td>\n",
       "      <td>True</td>\n",
       "      <td>NaN</td>\n",
       "      <td>0</td>\n",
       "      <td>...</td>\n",
       "      <td>0.0</td>\n",
       "      <td>0.0</td>\n",
       "      <td>0.0</td>\n",
       "      <td>0.0</td>\n",
       "      <td>0.0</td>\n",
       "      <td>0.0</td>\n",
       "      <td>0</td>\n",
       "      <td>Real Madrid</td>\n",
       "      <td>0</td>\n",
       "      <td>2023-08-20 17:33:37</td>\n",
       "    </tr>\n",
       "    <tr>\n",
       "      <th>41</th>\n",
       "      <td>41</td>\n",
       "      <td>[]</td>\n",
       "      <td>Sub</td>\n",
       "      <td>0</td>\n",
       "      <td>0</td>\n",
       "      <td>21</td>\n",
       "      <td>False</td>\n",
       "      <td>True</td>\n",
       "      <td>NaN</td>\n",
       "      <td>0</td>\n",
       "      <td>...</td>\n",
       "      <td>0.0</td>\n",
       "      <td>0.0</td>\n",
       "      <td>0.0</td>\n",
       "      <td>0.0</td>\n",
       "      <td>0.0</td>\n",
       "      <td>0.0</td>\n",
       "      <td>0</td>\n",
       "      <td>Real Madrid</td>\n",
       "      <td>0</td>\n",
       "      <td>2023-08-20 17:33:37</td>\n",
       "    </tr>\n",
       "    <tr>\n",
       "      <th>42</th>\n",
       "      <td>42</td>\n",
       "      <td>[]</td>\n",
       "      <td>Sub</td>\n",
       "      <td>0</td>\n",
       "      <td>0</td>\n",
       "      <td>20</td>\n",
       "      <td>False</td>\n",
       "      <td>True</td>\n",
       "      <td>NaN</td>\n",
       "      <td>0</td>\n",
       "      <td>...</td>\n",
       "      <td>0.0</td>\n",
       "      <td>0.0</td>\n",
       "      <td>0.0</td>\n",
       "      <td>0.0</td>\n",
       "      <td>0.0</td>\n",
       "      <td>0.0</td>\n",
       "      <td>0</td>\n",
       "      <td>Real Madrid</td>\n",
       "      <td>0</td>\n",
       "      <td>2023-08-20 17:33:37</td>\n",
       "    </tr>\n",
       "  </tbody>\n",
       "</table>\n",
       "<p>43 rows × 195 columns</p>\n",
       "</div>"
      ],
      "text/plain": [
       "    Unnamed: 0                                          incidents  \\\n",
       "0            0  [{'id': 2579237165.0, 'eventId': 499, 'minute'...   \n",
       "1            1  [{'id': 2579245725.0, 'eventId': 563, 'minute'...   \n",
       "2            2                                                 []   \n",
       "3            3  [{'id': 2579236533.0, 'eventId': 497, 'minute'...   \n",
       "4            4                                                 []   \n",
       "5            5  [{'id': 2579157213.0, 'eventId': 22, 'minute':...   \n",
       "6            6  [{'id': 2579269847.0, 'eventId': 728, 'minute'...   \n",
       "7            7                                                 []   \n",
       "8            8  [{'id': 2579157215.0, 'eventId': 23, 'minute':...   \n",
       "9            9  [{'id': 2579238713.0, 'eventId': 510, 'minute'...   \n",
       "10          10                                                 []   \n",
       "11          11  [{'id': 2579269851.0, 'eventId': 729, 'minute'...   \n",
       "12          12  [{'id': 2579238723.0, 'eventId': 511, 'minute'...   \n",
       "13          13  [{'id': 2579269561.0, 'eventId': 727, 'minute'...   \n",
       "14          14  [{'id': 2579245729.0, 'eventId': 564, 'minute'...   \n",
       "15          15  [{'id': 2579245969.0, 'eventId': 566, 'minute'...   \n",
       "16          16                                                 []   \n",
       "17          17                                                 []   \n",
       "18          18                                                 []   \n",
       "19          19                                                 []   \n",
       "20          20                                                 []   \n",
       "21          21                                                 []   \n",
       "22          22                                                 []   \n",
       "23          23                                                 []   \n",
       "24          24                                                 []   \n",
       "25          25                                                 []   \n",
       "26          26                                                 []   \n",
       "27          27                                                 []   \n",
       "28          28                                                 []   \n",
       "29          29  [{'id': 2579237133.0, 'eventId': 619, 'minute'...   \n",
       "30          30  [{'id': 2579268197.0, 'eventId': 875, 'minute'...   \n",
       "31          31  [{'id': 2579173003.0, 'eventId': 204, 'minute'...   \n",
       "32          32  [{'id': 2579249593.0, 'eventId': 731, 'minute'...   \n",
       "33          33  [{'id': 2579248155.0, 'eventId': 711, 'minute'...   \n",
       "34          34  [{'id': 2579248157.0, 'eventId': 712, 'minute'...   \n",
       "35          35  [{'id': 2579248269.0, 'eventId': 714, 'minute'...   \n",
       "36          36  [{'id': 2579268287.0, 'eventId': 878, 'minute'...   \n",
       "37          37  [{'id': 2579268205.0, 'eventId': 876, 'minute'...   \n",
       "38          38  [{'id': 2579258091.0, 'eventId': 780, 'minute'...   \n",
       "39          39                                                 []   \n",
       "40          40                                                 []   \n",
       "41          41                                                 []   \n",
       "42          42                                                 []   \n",
       "\n",
       "   playedPositionsShort  height  weight  age  isManOfTheMatch  isActive  \\\n",
       "0                    GK       0       0   26            False      True   \n",
       "1                    DR       0       0   22            False      True   \n",
       "2                    DC       0       0   28            False      True   \n",
       "3                    DC       0       0   26            False      True   \n",
       "4                    DL       0       0   27            False      True   \n",
       "5                   DMC       0       0   28            False      True   \n",
       "6                   DMC       0       0   29            False      True   \n",
       "7                   AMR       0       0   33            False      True   \n",
       "8                   AMC       0       0   23            False      True   \n",
       "9                   AML       0       0   24            False      True   \n",
       "10                   FW       0       0   27            False      True   \n",
       "11                  Sub       0       0   23            False      True   \n",
       "12                  Sub       0       0   26            False      True   \n",
       "13                  Sub       0       0   24            False      True   \n",
       "14                  Sub       0       0   26            False      True   \n",
       "15                  Sub       0       0   31            False      True   \n",
       "16                  Sub       0       0   21            False      True   \n",
       "17                  Sub       0       0   23            False      True   \n",
       "18                  Sub       0       0   26            False      True   \n",
       "19                  Sub       0       0   35            False      True   \n",
       "20                  Sub       0       0   35            False      True   \n",
       "21                  Sub       0       0   24            False      True   \n",
       "22                  Sub       0       0   23            False      True   \n",
       "23                   GK       0       0   26            False      True   \n",
       "24                   DR       0       0   33            False      True   \n",
       "25                   DC       0       0   33            False      True   \n",
       "26                   DC       0       0   32            False      True   \n",
       "27                   DL       0       0   26            False      True   \n",
       "28                   MC       0       0   25            False      True   \n",
       "29                   MC       0       0   35            False      True   \n",
       "30                   MC       0       0   27            False      True   \n",
       "31                  AMC       0       0   22             True      True   \n",
       "32                   FW       0       0   25            False      True   \n",
       "33                   FW       0       0   24            False      True   \n",
       "34                  Sub       0       0   40            False      True   \n",
       "35                  Sub       0       0   22            False      True   \n",
       "36                  Sub       0       0   26            False      True   \n",
       "37                  Sub       0       0   34            False      True   \n",
       "38                  Sub       0       0   35            False      True   \n",
       "39                  Sub       0       0   35            False      True   \n",
       "40                  Sub       0       0   30            False      True   \n",
       "41                  Sub       0       0   21            False      True   \n",
       "42                  Sub       0       0   20            False      True   \n",
       "\n",
       "    playedPositions  teamRegionId  ...  turnover dispossessed  duelAerialWon  \\\n",
       "0               NaN             0  ...       0.0          0.0            0.0   \n",
       "1               NaN             0  ...       0.0          1.0            0.0   \n",
       "2               NaN             0  ...       0.0          1.0            1.0   \n",
       "3               NaN             0  ...       1.0          0.0            0.0   \n",
       "4               NaN             0  ...       0.0          0.0            0.0   \n",
       "5               NaN             0  ...       1.0          0.0            1.0   \n",
       "6               NaN             0  ...       0.0          0.0            2.0   \n",
       "7               NaN             0  ...       3.0          0.0            3.0   \n",
       "8               NaN             0  ...       0.0          1.0            0.0   \n",
       "9               NaN             0  ...       1.0          1.0            0.0   \n",
       "10              NaN             0  ...       1.0          1.0            2.0   \n",
       "11              NaN             0  ...       0.0          0.0            1.0   \n",
       "12              NaN             0  ...       0.0          0.0            0.0   \n",
       "13              NaN             0  ...       0.0          1.0            0.0   \n",
       "14              NaN             0  ...       0.0          0.0            0.0   \n",
       "15              NaN             0  ...       0.0          0.0            0.0   \n",
       "16              NaN             0  ...       0.0          0.0            0.0   \n",
       "17              NaN             0  ...       0.0          0.0            0.0   \n",
       "18              NaN             0  ...       0.0          0.0            0.0   \n",
       "19              NaN             0  ...       0.0          0.0            0.0   \n",
       "20              NaN             0  ...       0.0          0.0            0.0   \n",
       "21              NaN             0  ...       0.0          0.0            0.0   \n",
       "22              NaN             0  ...       0.0          0.0            0.0   \n",
       "23              NaN             0  ...       0.0          0.0            0.0   \n",
       "24              NaN             0  ...       2.0          0.0            0.0   \n",
       "25              NaN             0  ...       0.0          0.0            0.0   \n",
       "26              NaN             0  ...       0.0          0.0            2.0   \n",
       "27              NaN             0  ...       3.0          0.0            1.0   \n",
       "28              NaN             0  ...       0.0          0.0            4.0   \n",
       "29              NaN             0  ...       0.0          0.0            0.0   \n",
       "30              NaN             0  ...       0.0          0.0            1.0   \n",
       "31              NaN             0  ...       0.0          2.0            0.0   \n",
       "32              NaN             0  ...       2.0          2.0            0.0   \n",
       "33              NaN             0  ...       2.0          1.0            0.0   \n",
       "34              NaN             0  ...       0.0          0.0            0.0   \n",
       "35              NaN             0  ...       0.0          1.0            0.0   \n",
       "36              NaN             0  ...       0.0          0.0            0.0   \n",
       "37              NaN             0  ...       0.0          0.0            0.0   \n",
       "38              NaN             0  ...       0.0          0.0            0.0   \n",
       "39              NaN             0  ...       0.0          0.0            0.0   \n",
       "40              NaN             0  ...       0.0          0.0            0.0   \n",
       "41              NaN             0  ...       0.0          0.0            0.0   \n",
       "42              NaN             0  ...       0.0          0.0            0.0   \n",
       "\n",
       "    totalAccuratePasses  totalPasses  passSuccess  ranking     teamname  \\\n",
       "0                   0.0         29.0          0.0        0      Almeria   \n",
       "1                   0.0         31.0          0.0        0      Almeria   \n",
       "2                   0.0         47.0          0.0        0      Almeria   \n",
       "3                   0.0         33.0          0.0        0      Almeria   \n",
       "4                   0.0         42.0          0.0        0      Almeria   \n",
       "5                   0.0         39.0          0.0        0      Almeria   \n",
       "6                   0.0         46.0          0.0        0      Almeria   \n",
       "7                   0.0         47.0          0.0        0      Almeria   \n",
       "8                   0.0         22.0          0.0        0      Almeria   \n",
       "9                   0.0         13.0          0.0        0      Almeria   \n",
       "10                  0.0         19.0          0.0        0      Almeria   \n",
       "11                  0.0          4.0          0.0        0      Almeria   \n",
       "12                  0.0          7.0          0.0        0      Almeria   \n",
       "13                  0.0          5.0          0.0        0      Almeria   \n",
       "14                  0.0         30.0          0.0        0      Almeria   \n",
       "15                  0.0         14.0          0.0        0      Almeria   \n",
       "16                  0.0          0.0          0.0        0      Almeria   \n",
       "17                  0.0          0.0          0.0        0      Almeria   \n",
       "18                  0.0          0.0          0.0        0      Almeria   \n",
       "19                  0.0          0.0          0.0        0      Almeria   \n",
       "20                  0.0          0.0          0.0        0      Almeria   \n",
       "21                  0.0          0.0          0.0        0      Almeria   \n",
       "22                  0.0          0.0          0.0        0      Almeria   \n",
       "23                  0.0         20.0          0.0        0  Real Madrid   \n",
       "24                  0.0         45.0          0.0        0  Real Madrid   \n",
       "25                  0.0         45.0          0.0        0  Real Madrid   \n",
       "26                  0.0         45.0          0.0        0  Real Madrid   \n",
       "27                  0.0         50.0          0.0        0  Real Madrid   \n",
       "28                  0.0         73.0          0.0        0  Real Madrid   \n",
       "29                  0.0         63.0          0.0        0  Real Madrid   \n",
       "30                  0.0         67.0          0.0        0  Real Madrid   \n",
       "31                  0.0         44.0          0.0        0  Real Madrid   \n",
       "32                  0.0         31.0          0.0        0  Real Madrid   \n",
       "33                  0.0         27.0          0.0        0  Real Madrid   \n",
       "34                  0.0         25.0          0.0        0  Real Madrid   \n",
       "35                  0.0         11.0          0.0        0  Real Madrid   \n",
       "36                  0.0          9.0          0.0        0  Real Madrid   \n",
       "37                  0.0          5.0          0.0        0  Real Madrid   \n",
       "38                  0.0          7.0          0.0        0  Real Madrid   \n",
       "39                  0.0          0.0          0.0        0  Real Madrid   \n",
       "40                  0.0          0.0          0.0        0  Real Madrid   \n",
       "41                  0.0          0.0          0.0        0  Real Madrid   \n",
       "42                  0.0          0.0          0.0        0  Real Madrid   \n",
       "\n",
       "    ishome             datetime  \n",
       "0        1  2023-08-20 17:33:37  \n",
       "1        1  2023-08-20 17:33:37  \n",
       "2        1  2023-08-20 17:33:37  \n",
       "3        1  2023-08-20 17:33:37  \n",
       "4        1  2023-08-20 17:33:37  \n",
       "5        1  2023-08-20 17:33:37  \n",
       "6        1  2023-08-20 17:33:37  \n",
       "7        1  2023-08-20 17:33:37  \n",
       "8        1  2023-08-20 17:33:37  \n",
       "9        1  2023-08-20 17:33:37  \n",
       "10       1  2023-08-20 17:33:37  \n",
       "11       1  2023-08-20 17:33:37  \n",
       "12       1  2023-08-20 17:33:37  \n",
       "13       1  2023-08-20 17:33:37  \n",
       "14       1  2023-08-20 17:33:37  \n",
       "15       1  2023-08-20 17:33:37  \n",
       "16       1  2023-08-20 17:33:37  \n",
       "17       1  2023-08-20 17:33:37  \n",
       "18       1  2023-08-20 17:33:37  \n",
       "19       1  2023-08-20 17:33:37  \n",
       "20       1  2023-08-20 17:33:37  \n",
       "21       1  2023-08-20 17:33:37  \n",
       "22       1  2023-08-20 17:33:37  \n",
       "23       0  2023-08-20 17:33:37  \n",
       "24       0  2023-08-20 17:33:37  \n",
       "25       0  2023-08-20 17:33:37  \n",
       "26       0  2023-08-20 17:33:37  \n",
       "27       0  2023-08-20 17:33:37  \n",
       "28       0  2023-08-20 17:33:37  \n",
       "29       0  2023-08-20 17:33:37  \n",
       "30       0  2023-08-20 17:33:37  \n",
       "31       0  2023-08-20 17:33:37  \n",
       "32       0  2023-08-20 17:33:37  \n",
       "33       0  2023-08-20 17:33:37  \n",
       "34       0  2023-08-20 17:33:37  \n",
       "35       0  2023-08-20 17:33:37  \n",
       "36       0  2023-08-20 17:33:37  \n",
       "37       0  2023-08-20 17:33:37  \n",
       "38       0  2023-08-20 17:33:37  \n",
       "39       0  2023-08-20 17:33:37  \n",
       "40       0  2023-08-20 17:33:37  \n",
       "41       0  2023-08-20 17:33:37  \n",
       "42       0  2023-08-20 17:33:37  \n",
       "\n",
       "[43 rows x 195 columns]"
      ]
     },
     "execution_count": 183,
     "metadata": {},
     "output_type": "execute_result"
    }
   ],
   "source": [
    "df=pd.read_csv(r\"E:\\KreupAI\\DAta\\PlayerStat\\23-24\\Almeria vs Real Madrid.csv\")\n",
    "df"
   ]
  },
  {
   "cell_type": "code",
   "execution_count": 185,
   "id": "8315fdf7-fca3-4b9e-9276-ba7ea4c25294",
   "metadata": {},
   "outputs": [],
   "source": [
    "import pandas as pd\n",
    "import os\n",
    "import ast, json\n",
    "import math\n",
    "\n",
    "# === CONFIGURATION ===\n",
    "events_dir = r\"E:\\KreupAI\\DAta\\Event\\23-24\"\n",
    "stats_dir = r\"E:\\KreupAI\\DAta\\PlayerStat\\23-24.csv\"  # PlayerStat folder or CSV files\n",
    "output_dir = r\"E:\\KreupAI\\DAta\\ownplayerstat\"\n",
    "full_time = 90\n",
    "\n",
    "os.makedirs(output_dir, exist_ok=True)\n",
    "\n",
    "# --- Helper to parse qualifiers ---\n",
    "def parse_qualifiers(q):\n",
    "    if pd.isna(q):\n",
    "        return {}\n",
    "    if isinstance(q, str):\n",
    "        s = q.strip()\n",
    "        if s == \"\":\n",
    "            return {}\n",
    "        try:\n",
    "            q = ast.literal_eval(s)\n",
    "        except Exception:\n",
    "            try:\n",
    "                q = json.loads(s)\n",
    "            except Exception:\n",
    "                return {}\n",
    "    if isinstance(q, dict):\n",
    "        q = [q]\n",
    "    if not isinstance(q, list):\n",
    "        return {}\n",
    "\n",
    "    out = {}\n",
    "    for item in q:\n",
    "        if not isinstance(item, dict):\n",
    "            continue\n",
    "        name = None\n",
    "        t = item.get('type')\n",
    "        if isinstance(t, dict):\n",
    "            name = t.get('displayName')\n",
    "        if not name:\n",
    "            name = item.get('displayName') or item.get('name')\n",
    "        if not name:\n",
    "            continue\n",
    "\n",
    "        value = item.get('value', 1)\n",
    "        if value is None or (isinstance(value, str) and value.strip() == \"\"):\n",
    "            value = 1\n",
    "        if isinstance(value, (list, dict)):\n",
    "            value = str(value)\n",
    "        if isinstance(value, str):\n",
    "            try:\n",
    "                f = float(value)\n",
    "                value = int(f) if math.isclose(f, int(f)) else f\n",
    "            except Exception:\n",
    "                pass\n",
    "        if name not in out:\n",
    "            out[name] = value\n",
    "    return out\n",
    "\n",
    "# --- Process each match file ---\n",
    "for file in os.listdir(events_dir):\n",
    "    if not file.endswith(\".csv\"):\n",
    "        continue\n",
    "\n",
    "    match_name = os.path.splitext(file)[0]\n",
    "    event_path = os.path.join(events_dir, file)\n",
    "    playerstat_path = os.path.join(r\"E:\\KreupAI\\DAta\\PlayerStat\", file)\n",
    "\n",
    "    if not os.path.exists(playerstat_path):\n",
    "        print(f\"Skipping {match_name}: corresponding PlayerStat file not found.\")\n",
    "        continue\n",
    "\n",
    "    # === Read Event Data ===\n",
    "    dff = pd.read_csv(event_path)\n",
    "    expanded = dff['qualifiers'].apply(parse_qualifiers)\n",
    "    expanded_dff = pd.json_normalize(expanded)\n",
    "\n",
    "    def convert_if_number(x):\n",
    "        try:\n",
    "            if pd.isna(x):\n",
    "                return x\n",
    "            f = float(x)\n",
    "            return int(f) if math.isclose(f, int(f)) else f\n",
    "        except Exception:\n",
    "            return x\n",
    "\n",
    "    expanded_dff = expanded_dff.applymap(convert_if_number)\n",
    "    dff = pd.concat([dff, expanded_dff], axis=1)\n",
    "\n",
    "    # === Ensure required columns ===\n",
    "    columns = [\n",
    "        \"id\",\"eventId\",\"datetime\",\"minute\",\"expandedMinute\",\"second\",\"period\",\n",
    "        \"teamId\",\"teamName\",\"oppositionTeamName\",\"ishome\",\"x\",\"y\",\"endX\",\"endY\",\n",
    "        \"type\",\"outcomeType\",\"isTouch\",\"isShot\",\"playerId\",\"name\",\"shirtNo\",\"JerseyNumber\",\n",
    "        \"position\",\"PlayerPosition\",\"isFirstEleven\",\"isGoal\",\"OwnGoal\",\"Yellow\",\"VoidYellowCard\",\n",
    "        \"SecondYellow\",\"Red\",\"Longball\",\"Cross\",\"Foul\",\"FreekickTaken\",\"ShotAssist\",\"KeyPass\",\n",
    "        \"IndividualPlay\",\"RegularPlay\",\"DivingSave\",\"KeeperSaveObox\",\"KeeperSaveInTheBox\",\n",
    "        \"KeeperThrow\",\"Blocked\",\"CornerTaken\",\"HighClaim\",\"Throughball\",\"LeadingToAttempt\",\n",
    "        \"LeadingToGoal\",\"Penalty\",\"PlayerPosition\",\"IntentionalAssist\",\"IntentionalGoalAssist\",\n",
    "        \"GoalKick\",\"FromCorner\",\"BigChanceCreated\",\"BigChance\",\"FastBreak\",\"LeadingToAttempt\",\n",
    "        \"OneOnOne\",\"SetPiece\",\"KeeperSaved\",\"KeeperSaveInSixYard\",\"OutfielderBlock\"\n",
    "    ]\n",
    "    for col in columns:\n",
    "        if col not in dff.columns:\n",
    "            dff[col] = 0\n",
    "    dff = dff[columns]\n",
    "\n",
    "    # === Build stats_df ===\n",
    "    player_keys = dff[['name','teamId','teamName','shirtNo','position','playerId','ishome','datetime']].drop_duplicates()\n",
    "    player_keys = player_keys.dropna(subset=['name']).reset_index(drop=True)\n",
    "\n",
    "    rows = []\n",
    "    for _, r in player_keys.iterrows():\n",
    "        name, team_id, team_name, shirt, position, pid, ishome, timestamp = (\n",
    "            r['name'], r['teamId'], r['teamName'], r['shirtNo'], r['position'], r['playerId'], r['ishome'], r['datetime']\n",
    "        )\n",
    "        pe = dff[(dff['name']==name)&(dff['teamId']==team_id)&(dff['shirtNo']==shirt)]\n",
    "        touches = (pe['isTouch']==True).sum()\n",
    "        shots = (pe['isShot']==True).sum()\n",
    "        goals = ((pe['type']=='Goal')&(pe['OwnGoal']!=1)).sum()\n",
    "        pengoals = ((pe['type']=='Goal')&(pe['Penalty']==1)).sum()\n",
    "        missedpens = ((pe['type']!='Goal')&(pe['Penalty']==1)).sum()\n",
    "        assists = (pe['IntentionalGoalAssist']==1).sum()\n",
    "        keypass = (pe['KeyPass']==1).sum()\n",
    "        bcc = (pe['BigChanceCreated']==1).sum()\n",
    "        disp = (pe['type']=='Dispossessed').sum()\n",
    "        passatt = (pe['type']=='Pass').sum()\n",
    "        succpass = ((pe['type']=='Pass')&(pe['outcomeType']=='Successful')).sum()\n",
    "        dribbles = (pe['type']=='TakeOn').sum()\n",
    "        succdrib = ((pe['type']=='TakeOn')&(pe['outcomeType']=='Successful')).sum()\n",
    "        errors = (pe['type']=='Error').sum()\n",
    "        crossesatt = ((pe['Cross']==1)&(pe['type']=='Pass')).sum()\n",
    "        succcross = ((pe['type']=='Pass')&(pe['Cross']==1)&(pe['outcomeType']=='Successful')).sum()\n",
    "        longballatt = ((pe['Longball']==1)&(pe['type']=='Pass')).sum()\n",
    "        succlongball = ((pe['type']=='Pass')&(pe['Longball']==1)&(pe['outcomeType']=='Successful')).sum()\n",
    "        throughballatt = ((pe['Throughball']==1)&(pe['type']=='Pass')).sum()\n",
    "        succthroughball = ((pe['type']=='Pass')&(pe['Throughball']==1)&(pe['outcomeType']=='Successful')).sum()\n",
    "        tackles = (pe['type']=='Tackle').sum()\n",
    "        succtackles = ((pe['type']=='Tackle')&(pe['outcomeType']=='Unsuccessful')).sum()\n",
    "        interceptions = (pe['type']=='Interception').sum()\n",
    "        clearances = (pe['type']=='Clearance').sum()\n",
    "        fouls = ((pe['type']=='Foul')&(pe['outcomeType']=='Unsuccessful')).sum()\n",
    "        fouled = ((pe['type']=='Foul')&(pe['outcomeType']=='Successful')).sum()\n",
    "        blockedshots = ((pe['type']=='Save')&(pe['OutfielderBlock']==1)).sum()\n",
    "\n",
    "        subs_on_vals = pe.loc[pe['type']=='SubstitutionOn','minute']\n",
    "        subs_off_vals = pe.loc[pe['type']=='SubstitutionOff','minute']\n",
    "        subs_on_min = subs_on_vals.min() if not subs_on_vals.empty else None\n",
    "        subs_off_min = subs_off_vals.min() if not subs_off_vals.empty else None\n",
    "\n",
    "        if pd.notna(subs_on_min):\n",
    "            start = int(subs_on_min)\n",
    "            if start >= full_time:\n",
    "                mins = 1\n",
    "            else:\n",
    "                end = int(subs_off_min) if pd.notna(subs_off_min) else full_time\n",
    "                end = min(end, full_time)\n",
    "                mins = end - start\n",
    "                if mins < 1:\n",
    "                    mins = 1\n",
    "        elif pe['isFirstEleven'].any():\n",
    "            end = int(subs_off_min) if pd.notna(subs_off_min) else full_time\n",
    "            end = min(end, full_time)\n",
    "            mins = end\n",
    "            if mins < 0:\n",
    "                mins = 0\n",
    "        else:\n",
    "            mins = 0\n",
    "\n",
    "        rows.append({\n",
    "            'playerId': int(pid),\n",
    "            'name': name,\n",
    "            'teamId': int(team_id),\n",
    "            'teamName': team_name,\n",
    "            'ishome': ishome,\n",
    "            'shirtNo': int(shirt),\n",
    "            'position': position,\n",
    "            'timestamp': timestamp,\n",
    "            'minutes_played': int(mins),\n",
    "            'shots': shots,\n",
    "            'goals': goals,\n",
    "            'assists': assists,\n",
    "            'keypass': keypass,\n",
    "            'bcc': bcc,\n",
    "            'Touches': touches,\n",
    "            'dribbles': dribbles,\n",
    "            'disp': disp,\n",
    "            'succdrib': succdrib,\n",
    "            'Passatt': int(passatt),\n",
    "            'succPass': int(succpass),\n",
    "            'Crossesatt': int(crossesatt),\n",
    "            'succCross': int(succcross),\n",
    "            'Longballatt': int(longballatt),\n",
    "            'succLongball': int(succlongball),\n",
    "            'Throughballatt': int(throughballatt),\n",
    "            'succThroughball': int(succthroughball),\n",
    "            'TotTackles': int(tackles),\n",
    "            'succTackles': int(succtackles),\n",
    "            'Interceptions': int(interceptions),\n",
    "            'Clearances': clearances,\n",
    "            'blockedshots': blockedshots,\n",
    "            'Fouls': fouls,\n",
    "            'Fouled': fouled\n",
    "        })\n",
    "\n",
    "    stats_df = pd.DataFrame(rows).sort_values(['teamName','minutes_played'], ascending=[True,False]).reset_index(drop=True)\n",
    "\n",
    "    # === Merge with PlayerStat ===\n",
    "    df_stats = pd.read_csv(playerstat_path)\n",
    "    merged_df = pd.merge(stats_df, df_stats[['playerId','isManOfTheMatch','age','rating']], on='playerId', how='left')\n",
    "    merged_df['isManOfTheMatch'] = merged_df['isManOfTheMatch'].apply(lambda x: 1 if x is True else 0)\n",
    "\n",
    "    # === Save Output ===\n",
    "    output_file = os.path.join(output_dir, f\"{match_name}_ownplayerstat.csv\")\n",
    "    merged_df.to_csv(output_file, index=False)\n",
    "    print(f\"Saved: {output_file}\")\n"
   ]
  },
  {
   "cell_type": "code",
   "execution_count": 187,
   "id": "f7bb3440-c80a-41cb-b35f-ab52c23a27ca",
   "metadata": {},
   "outputs": [
    {
     "data": {
      "text/html": [
       "<div>\n",
       "<style scoped>\n",
       "    .dataframe tbody tr th:only-of-type {\n",
       "        vertical-align: middle;\n",
       "    }\n",
       "\n",
       "    .dataframe tbody tr th {\n",
       "        vertical-align: top;\n",
       "    }\n",
       "\n",
       "    .dataframe thead th {\n",
       "        text-align: right;\n",
       "    }\n",
       "</style>\n",
       "<table border=\"1\" class=\"dataframe\">\n",
       "  <thead>\n",
       "    <tr style=\"text-align: right;\">\n",
       "      <th></th>\n",
       "      <th>playerId</th>\n",
       "      <th>name</th>\n",
       "      <th>teamId</th>\n",
       "      <th>teamName</th>\n",
       "      <th>ishome</th>\n",
       "      <th>shirtNo</th>\n",
       "      <th>position</th>\n",
       "      <th>timestamp</th>\n",
       "      <th>minutes_played</th>\n",
       "      <th>shots</th>\n",
       "      <th>...</th>\n",
       "      <th>TotTackles</th>\n",
       "      <th>succTackles</th>\n",
       "      <th>Interceptions</th>\n",
       "      <th>Clearances</th>\n",
       "      <th>blockedshots</th>\n",
       "      <th>Fouls</th>\n",
       "      <th>Fouled</th>\n",
       "      <th>isManOfTheMatch</th>\n",
       "      <th>age</th>\n",
       "      <th>rating</th>\n",
       "    </tr>\n",
       "  </thead>\n",
       "  <tbody>\n",
       "    <tr>\n",
       "      <th>0</th>\n",
       "      <td>135572</td>\n",
       "      <td>Adri Embarba</td>\n",
       "      <td>1799</td>\n",
       "      <td>Almeria</td>\n",
       "      <td>1</td>\n",
       "      <td>10</td>\n",
       "      <td>AMR</td>\n",
       "      <td>2023-08-20 17:33:37</td>\n",
       "      <td>90</td>\n",
       "      <td>0</td>\n",
       "      <td>...</td>\n",
       "      <td>4</td>\n",
       "      <td>3</td>\n",
       "      <td>0</td>\n",
       "      <td>0</td>\n",
       "      <td>0</td>\n",
       "      <td>0</td>\n",
       "      <td>1</td>\n",
       "      <td>0</td>\n",
       "      <td>33</td>\n",
       "      <td>7.59</td>\n",
       "    </tr>\n",
       "    <tr>\n",
       "      <th>1</th>\n",
       "      <td>387160</td>\n",
       "      <td>Edgar Gonzalez</td>\n",
       "      <td>1799</td>\n",
       "      <td>Almeria</td>\n",
       "      <td>1</td>\n",
       "      <td>3</td>\n",
       "      <td>DC</td>\n",
       "      <td>2023-08-20 17:33:37</td>\n",
       "      <td>90</td>\n",
       "      <td>1</td>\n",
       "      <td>...</td>\n",
       "      <td>3</td>\n",
       "      <td>1</td>\n",
       "      <td>1</td>\n",
       "      <td>9</td>\n",
       "      <td>1</td>\n",
       "      <td>1</td>\n",
       "      <td>0</td>\n",
       "      <td>0</td>\n",
       "      <td>28</td>\n",
       "      <td>6.64</td>\n",
       "    </tr>\n",
       "    <tr>\n",
       "      <th>2</th>\n",
       "      <td>365127</td>\n",
       "      <td>Chumi</td>\n",
       "      <td>1799</td>\n",
       "      <td>Almeria</td>\n",
       "      <td>1</td>\n",
       "      <td>21</td>\n",
       "      <td>DC</td>\n",
       "      <td>2023-08-20 17:33:37</td>\n",
       "      <td>90</td>\n",
       "      <td>0</td>\n",
       "      <td>...</td>\n",
       "      <td>1</td>\n",
       "      <td>1</td>\n",
       "      <td>0</td>\n",
       "      <td>5</td>\n",
       "      <td>2</td>\n",
       "      <td>3</td>\n",
       "      <td>0</td>\n",
       "      <td>0</td>\n",
       "      <td>26</td>\n",
       "      <td>5.78</td>\n",
       "    </tr>\n",
       "    <tr>\n",
       "      <th>3</th>\n",
       "      <td>402887</td>\n",
       "      <td>Luis Suarez</td>\n",
       "      <td>1799</td>\n",
       "      <td>Almeria</td>\n",
       "      <td>1</td>\n",
       "      <td>9</td>\n",
       "      <td>FW</td>\n",
       "      <td>2023-08-20 17:33:37</td>\n",
       "      <td>90</td>\n",
       "      <td>5</td>\n",
       "      <td>...</td>\n",
       "      <td>0</td>\n",
       "      <td>0</td>\n",
       "      <td>0</td>\n",
       "      <td>0</td>\n",
       "      <td>0</td>\n",
       "      <td>1</td>\n",
       "      <td>1</td>\n",
       "      <td>0</td>\n",
       "      <td>27</td>\n",
       "      <td>6.34</td>\n",
       "    </tr>\n",
       "    <tr>\n",
       "      <th>4</th>\n",
       "      <td>401174</td>\n",
       "      <td>Sergio Arribas</td>\n",
       "      <td>1799</td>\n",
       "      <td>Almeria</td>\n",
       "      <td>1</td>\n",
       "      <td>19</td>\n",
       "      <td>AMC</td>\n",
       "      <td>2023-08-20 17:33:37</td>\n",
       "      <td>90</td>\n",
       "      <td>1</td>\n",
       "      <td>...</td>\n",
       "      <td>0</td>\n",
       "      <td>0</td>\n",
       "      <td>0</td>\n",
       "      <td>0</td>\n",
       "      <td>0</td>\n",
       "      <td>1</td>\n",
       "      <td>2</td>\n",
       "      <td>0</td>\n",
       "      <td>23</td>\n",
       "      <td>7.12</td>\n",
       "    </tr>\n",
       "    <tr>\n",
       "      <th>5</th>\n",
       "      <td>361969</td>\n",
       "      <td>Luis Maximiano</td>\n",
       "      <td>1799</td>\n",
       "      <td>Almeria</td>\n",
       "      <td>1</td>\n",
       "      <td>25</td>\n",
       "      <td>GK</td>\n",
       "      <td>2023-08-20 17:33:37</td>\n",
       "      <td>90</td>\n",
       "      <td>0</td>\n",
       "      <td>...</td>\n",
       "      <td>0</td>\n",
       "      <td>0</td>\n",
       "      <td>0</td>\n",
       "      <td>0</td>\n",
       "      <td>0</td>\n",
       "      <td>0</td>\n",
       "      <td>0</td>\n",
       "      <td>0</td>\n",
       "      <td>26</td>\n",
       "      <td>5.80</td>\n",
       "    </tr>\n",
       "    <tr>\n",
       "      <th>6</th>\n",
       "      <td>301773</td>\n",
       "      <td>Sergio Akieme</td>\n",
       "      <td>1799</td>\n",
       "      <td>Almeria</td>\n",
       "      <td>1</td>\n",
       "      <td>15</td>\n",
       "      <td>DL</td>\n",
       "      <td>2023-08-20 17:33:37</td>\n",
       "      <td>90</td>\n",
       "      <td>0</td>\n",
       "      <td>...</td>\n",
       "      <td>0</td>\n",
       "      <td>0</td>\n",
       "      <td>0</td>\n",
       "      <td>2</td>\n",
       "      <td>0</td>\n",
       "      <td>0</td>\n",
       "      <td>2</td>\n",
       "      <td>0</td>\n",
       "      <td>27</td>\n",
       "      <td>5.91</td>\n",
       "    </tr>\n",
       "    <tr>\n",
       "      <th>7</th>\n",
       "      <td>381644</td>\n",
       "      <td>Iddrisu Baba</td>\n",
       "      <td>1799</td>\n",
       "      <td>Almeria</td>\n",
       "      <td>1</td>\n",
       "      <td>4</td>\n",
       "      <td>DMC</td>\n",
       "      <td>2023-08-20 17:33:37</td>\n",
       "      <td>90</td>\n",
       "      <td>1</td>\n",
       "      <td>...</td>\n",
       "      <td>3</td>\n",
       "      <td>2</td>\n",
       "      <td>2</td>\n",
       "      <td>1</td>\n",
       "      <td>0</td>\n",
       "      <td>0</td>\n",
       "      <td>2</td>\n",
       "      <td>0</td>\n",
       "      <td>29</td>\n",
       "      <td>6.91</td>\n",
       "    </tr>\n",
       "    <tr>\n",
       "      <th>8</th>\n",
       "      <td>323511</td>\n",
       "      <td>Lucas Robertone</td>\n",
       "      <td>1799</td>\n",
       "      <td>Almeria</td>\n",
       "      <td>1</td>\n",
       "      <td>5</td>\n",
       "      <td>DMC</td>\n",
       "      <td>2023-08-20 17:33:37</td>\n",
       "      <td>68</td>\n",
       "      <td>5</td>\n",
       "      <td>...</td>\n",
       "      <td>0</td>\n",
       "      <td>0</td>\n",
       "      <td>2</td>\n",
       "      <td>1</td>\n",
       "      <td>1</td>\n",
       "      <td>3</td>\n",
       "      <td>1</td>\n",
       "      <td>0</td>\n",
       "      <td>28</td>\n",
       "      <td>7.49</td>\n",
       "    </tr>\n",
       "    <tr>\n",
       "      <th>9</th>\n",
       "      <td>430148</td>\n",
       "      <td>Marc Pubill</td>\n",
       "      <td>1799</td>\n",
       "      <td>Almeria</td>\n",
       "      <td>1</td>\n",
       "      <td>18</td>\n",
       "      <td>DR</td>\n",
       "      <td>2023-08-20 17:33:37</td>\n",
       "      <td>68</td>\n",
       "      <td>0</td>\n",
       "      <td>...</td>\n",
       "      <td>3</td>\n",
       "      <td>0</td>\n",
       "      <td>2</td>\n",
       "      <td>2</td>\n",
       "      <td>0</td>\n",
       "      <td>1</td>\n",
       "      <td>3</td>\n",
       "      <td>0</td>\n",
       "      <td>22</td>\n",
       "      <td>6.85</td>\n",
       "    </tr>\n",
       "    <tr>\n",
       "      <th>10</th>\n",
       "      <td>388665</td>\n",
       "      <td>Largie Ramazani</td>\n",
       "      <td>1799</td>\n",
       "      <td>Almeria</td>\n",
       "      <td>1</td>\n",
       "      <td>7</td>\n",
       "      <td>AML</td>\n",
       "      <td>2023-08-20 17:33:37</td>\n",
       "      <td>60</td>\n",
       "      <td>6</td>\n",
       "      <td>...</td>\n",
       "      <td>0</td>\n",
       "      <td>0</td>\n",
       "      <td>4</td>\n",
       "      <td>0</td>\n",
       "      <td>1</td>\n",
       "      <td>0</td>\n",
       "      <td>1</td>\n",
       "      <td>0</td>\n",
       "      <td>24</td>\n",
       "      <td>6.83</td>\n",
       "    </tr>\n",
       "    <tr>\n",
       "      <th>11</th>\n",
       "      <td>354297</td>\n",
       "      <td>Ibrahima Kone</td>\n",
       "      <td>1799</td>\n",
       "      <td>Almeria</td>\n",
       "      <td>1</td>\n",
       "      <td>23</td>\n",
       "      <td>Sub</td>\n",
       "      <td>2023-08-20 17:33:37</td>\n",
       "      <td>30</td>\n",
       "      <td>1</td>\n",
       "      <td>...</td>\n",
       "      <td>0</td>\n",
       "      <td>0</td>\n",
       "      <td>0</td>\n",
       "      <td>0</td>\n",
       "      <td>0</td>\n",
       "      <td>0</td>\n",
       "      <td>0</td>\n",
       "      <td>0</td>\n",
       "      <td>26</td>\n",
       "      <td>6.16</td>\n",
       "    </tr>\n",
       "    <tr>\n",
       "      <th>12</th>\n",
       "      <td>338365</td>\n",
       "      <td>Alex Pozo</td>\n",
       "      <td>1799</td>\n",
       "      <td>Almeria</td>\n",
       "      <td>1</td>\n",
       "      <td>17</td>\n",
       "      <td>Sub</td>\n",
       "      <td>2023-08-20 17:33:37</td>\n",
       "      <td>22</td>\n",
       "      <td>0</td>\n",
       "      <td>...</td>\n",
       "      <td>2</td>\n",
       "      <td>1</td>\n",
       "      <td>0</td>\n",
       "      <td>0</td>\n",
       "      <td>0</td>\n",
       "      <td>0</td>\n",
       "      <td>0</td>\n",
       "      <td>0</td>\n",
       "      <td>26</td>\n",
       "      <td>6.86</td>\n",
       "    </tr>\n",
       "    <tr>\n",
       "      <th>13</th>\n",
       "      <td>261698</td>\n",
       "      <td>Gonzalo Melero</td>\n",
       "      <td>1799</td>\n",
       "      <td>Almeria</td>\n",
       "      <td>1</td>\n",
       "      <td>11</td>\n",
       "      <td>Sub</td>\n",
       "      <td>2023-08-20 17:33:37</td>\n",
       "      <td>22</td>\n",
       "      <td>0</td>\n",
       "      <td>...</td>\n",
       "      <td>1</td>\n",
       "      <td>1</td>\n",
       "      <td>0</td>\n",
       "      <td>0</td>\n",
       "      <td>0</td>\n",
       "      <td>0</td>\n",
       "      <td>0</td>\n",
       "      <td>0</td>\n",
       "      <td>31</td>\n",
       "      <td>5.91</td>\n",
       "    </tr>\n",
       "    <tr>\n",
       "      <th>14</th>\n",
       "      <td>388666</td>\n",
       "      <td>Arnau Puigmal</td>\n",
       "      <td>1799</td>\n",
       "      <td>Almeria</td>\n",
       "      <td>1</td>\n",
       "      <td>8</td>\n",
       "      <td>Sub</td>\n",
       "      <td>2023-08-20 17:33:37</td>\n",
       "      <td>1</td>\n",
       "      <td>0</td>\n",
       "      <td>...</td>\n",
       "      <td>0</td>\n",
       "      <td>0</td>\n",
       "      <td>0</td>\n",
       "      <td>0</td>\n",
       "      <td>0</td>\n",
       "      <td>0</td>\n",
       "      <td>0</td>\n",
       "      <td>0</td>\n",
       "      <td>24</td>\n",
       "      <td>5.99</td>\n",
       "    </tr>\n",
       "    <tr>\n",
       "      <th>15</th>\n",
       "      <td>402214</td>\n",
       "      <td>Lazaro</td>\n",
       "      <td>1799</td>\n",
       "      <td>Almeria</td>\n",
       "      <td>1</td>\n",
       "      <td>14</td>\n",
       "      <td>Sub</td>\n",
       "      <td>2023-08-20 17:33:37</td>\n",
       "      <td>1</td>\n",
       "      <td>0</td>\n",
       "      <td>...</td>\n",
       "      <td>0</td>\n",
       "      <td>0</td>\n",
       "      <td>0</td>\n",
       "      <td>0</td>\n",
       "      <td>0</td>\n",
       "      <td>0</td>\n",
       "      <td>0</td>\n",
       "      <td>0</td>\n",
       "      <td>23</td>\n",
       "      <td>6.04</td>\n",
       "    </tr>\n",
       "    <tr>\n",
       "      <th>16</th>\n",
       "      <td>422957</td>\n",
       "      <td>Fran Garcia</td>\n",
       "      <td>52</td>\n",
       "      <td>Real Madrid</td>\n",
       "      <td>0</td>\n",
       "      <td>20</td>\n",
       "      <td>DL</td>\n",
       "      <td>2023-08-20 17:33:37</td>\n",
       "      <td>90</td>\n",
       "      <td>1</td>\n",
       "      <td>...</td>\n",
       "      <td>0</td>\n",
       "      <td>0</td>\n",
       "      <td>1</td>\n",
       "      <td>4</td>\n",
       "      <td>0</td>\n",
       "      <td>2</td>\n",
       "      <td>0</td>\n",
       "      <td>0</td>\n",
       "      <td>26</td>\n",
       "      <td>6.50</td>\n",
       "    </tr>\n",
       "    <tr>\n",
       "      <th>17</th>\n",
       "      <td>353423</td>\n",
       "      <td>Aurelien Tchouameni</td>\n",
       "      <td>52</td>\n",
       "      <td>Real Madrid</td>\n",
       "      <td>0</td>\n",
       "      <td>18</td>\n",
       "      <td>MC</td>\n",
       "      <td>2023-08-20 17:33:37</td>\n",
       "      <td>90</td>\n",
       "      <td>2</td>\n",
       "      <td>...</td>\n",
       "      <td>2</td>\n",
       "      <td>1</td>\n",
       "      <td>3</td>\n",
       "      <td>1</td>\n",
       "      <td>0</td>\n",
       "      <td>1</td>\n",
       "      <td>0</td>\n",
       "      <td>0</td>\n",
       "      <td>25</td>\n",
       "      <td>7.84</td>\n",
       "    </tr>\n",
       "    <tr>\n",
       "      <th>18</th>\n",
       "      <td>104010</td>\n",
       "      <td>Antonio Rudiger</td>\n",
       "      <td>52</td>\n",
       "      <td>Real Madrid</td>\n",
       "      <td>0</td>\n",
       "      <td>22</td>\n",
       "      <td>DC</td>\n",
       "      <td>2023-08-20 17:33:37</td>\n",
       "      <td>90</td>\n",
       "      <td>0</td>\n",
       "      <td>...</td>\n",
       "      <td>2</td>\n",
       "      <td>1</td>\n",
       "      <td>1</td>\n",
       "      <td>3</td>\n",
       "      <td>4</td>\n",
       "      <td>0</td>\n",
       "      <td>0</td>\n",
       "      <td>0</td>\n",
       "      <td>32</td>\n",
       "      <td>7.01</td>\n",
       "    </tr>\n",
       "    <tr>\n",
       "      <th>19</th>\n",
       "      <td>106883</td>\n",
       "      <td>Dani Carvajal</td>\n",
       "      <td>52</td>\n",
       "      <td>Real Madrid</td>\n",
       "      <td>0</td>\n",
       "      <td>2</td>\n",
       "      <td>DR</td>\n",
       "      <td>2023-08-20 17:33:37</td>\n",
       "      <td>90</td>\n",
       "      <td>1</td>\n",
       "      <td>...</td>\n",
       "      <td>2</td>\n",
       "      <td>0</td>\n",
       "      <td>0</td>\n",
       "      <td>5</td>\n",
       "      <td>0</td>\n",
       "      <td>1</td>\n",
       "      <td>0</td>\n",
       "      <td>0</td>\n",
       "      <td>33</td>\n",
       "      <td>7.06</td>\n",
       "    </tr>\n",
       "    <tr>\n",
       "      <th>20</th>\n",
       "      <td>39722</td>\n",
       "      <td>David Alaba</td>\n",
       "      <td>52</td>\n",
       "      <td>Real Madrid</td>\n",
       "      <td>0</td>\n",
       "      <td>4</td>\n",
       "      <td>DC</td>\n",
       "      <td>2023-08-20 17:33:37</td>\n",
       "      <td>90</td>\n",
       "      <td>1</td>\n",
       "      <td>...</td>\n",
       "      <td>1</td>\n",
       "      <td>0</td>\n",
       "      <td>1</td>\n",
       "      <td>4</td>\n",
       "      <td>0</td>\n",
       "      <td>2</td>\n",
       "      <td>0</td>\n",
       "      <td>0</td>\n",
       "      <td>33</td>\n",
       "      <td>6.50</td>\n",
       "    </tr>\n",
       "    <tr>\n",
       "      <th>21</th>\n",
       "      <td>345031</td>\n",
       "      <td>Andrii Lunin</td>\n",
       "      <td>52</td>\n",
       "      <td>Real Madrid</td>\n",
       "      <td>0</td>\n",
       "      <td>13</td>\n",
       "      <td>GK</td>\n",
       "      <td>2023-08-20 17:33:37</td>\n",
       "      <td>90</td>\n",
       "      <td>0</td>\n",
       "      <td>...</td>\n",
       "      <td>0</td>\n",
       "      <td>0</td>\n",
       "      <td>0</td>\n",
       "      <td>0</td>\n",
       "      <td>0</td>\n",
       "      <td>0</td>\n",
       "      <td>0</td>\n",
       "      <td>0</td>\n",
       "      <td>26</td>\n",
       "      <td>7.68</td>\n",
       "    </tr>\n",
       "    <tr>\n",
       "      <th>22</th>\n",
       "      <td>337782</td>\n",
       "      <td>Vinicius Junior</td>\n",
       "      <td>52</td>\n",
       "      <td>Real Madrid</td>\n",
       "      <td>0</td>\n",
       "      <td>7</td>\n",
       "      <td>FW</td>\n",
       "      <td>2023-08-20 17:33:37</td>\n",
       "      <td>89</td>\n",
       "      <td>4</td>\n",
       "      <td>...</td>\n",
       "      <td>0</td>\n",
       "      <td>0</td>\n",
       "      <td>0</td>\n",
       "      <td>0</td>\n",
       "      <td>0</td>\n",
       "      <td>2</td>\n",
       "      <td>5</td>\n",
       "      <td>0</td>\n",
       "      <td>25</td>\n",
       "      <td>7.92</td>\n",
       "    </tr>\n",
       "    <tr>\n",
       "      <th>23</th>\n",
       "      <td>344644</td>\n",
       "      <td>Federico Valverde</td>\n",
       "      <td>52</td>\n",
       "      <td>Real Madrid</td>\n",
       "      <td>0</td>\n",
       "      <td>15</td>\n",
       "      <td>MC</td>\n",
       "      <td>2023-08-20 17:33:37</td>\n",
       "      <td>89</td>\n",
       "      <td>4</td>\n",
       "      <td>...</td>\n",
       "      <td>1</td>\n",
       "      <td>0</td>\n",
       "      <td>0</td>\n",
       "      <td>1</td>\n",
       "      <td>0</td>\n",
       "      <td>0</td>\n",
       "      <td>0</td>\n",
       "      <td>0</td>\n",
       "      <td>27</td>\n",
       "      <td>7.04</td>\n",
       "    </tr>\n",
       "    <tr>\n",
       "      <th>24</th>\n",
       "      <td>379868</td>\n",
       "      <td>Jude Bellingham</td>\n",
       "      <td>52</td>\n",
       "      <td>Real Madrid</td>\n",
       "      <td>0</td>\n",
       "      <td>5</td>\n",
       "      <td>AMC</td>\n",
       "      <td>2023-08-20 17:33:37</td>\n",
       "      <td>80</td>\n",
       "      <td>6</td>\n",
       "      <td>...</td>\n",
       "      <td>0</td>\n",
       "      <td>0</td>\n",
       "      <td>0</td>\n",
       "      <td>0</td>\n",
       "      <td>0</td>\n",
       "      <td>1</td>\n",
       "      <td>1</td>\n",
       "      <td>1</td>\n",
       "      <td>22</td>\n",
       "      <td>9.10</td>\n",
       "    </tr>\n",
       "    <tr>\n",
       "      <th>25</th>\n",
       "      <td>31772</td>\n",
       "      <td>Toni Kroos</td>\n",
       "      <td>52</td>\n",
       "      <td>Real Madrid</td>\n",
       "      <td>0</td>\n",
       "      <td>8</td>\n",
       "      <td>MC</td>\n",
       "      <td>2023-08-20 17:33:37</td>\n",
       "      <td>71</td>\n",
       "      <td>0</td>\n",
       "      <td>...</td>\n",
       "      <td>3</td>\n",
       "      <td>2</td>\n",
       "      <td>0</td>\n",
       "      <td>1</td>\n",
       "      <td>0</td>\n",
       "      <td>1</td>\n",
       "      <td>2</td>\n",
       "      <td>0</td>\n",
       "      <td>35</td>\n",
       "      <td>7.69</td>\n",
       "    </tr>\n",
       "    <tr>\n",
       "      <th>26</th>\n",
       "      <td>347862</td>\n",
       "      <td>Rodrygo</td>\n",
       "      <td>52</td>\n",
       "      <td>Real Madrid</td>\n",
       "      <td>0</td>\n",
       "      <td>11</td>\n",
       "      <td>FW</td>\n",
       "      <td>2023-08-20 17:33:37</td>\n",
       "      <td>71</td>\n",
       "      <td>3</td>\n",
       "      <td>...</td>\n",
       "      <td>0</td>\n",
       "      <td>0</td>\n",
       "      <td>0</td>\n",
       "      <td>0</td>\n",
       "      <td>0</td>\n",
       "      <td>1</td>\n",
       "      <td>1</td>\n",
       "      <td>0</td>\n",
       "      <td>24</td>\n",
       "      <td>7.12</td>\n",
       "    </tr>\n",
       "    <tr>\n",
       "      <th>27</th>\n",
       "      <td>369109</td>\n",
       "      <td>Eduardo Camavinga</td>\n",
       "      <td>52</td>\n",
       "      <td>Real Madrid</td>\n",
       "      <td>0</td>\n",
       "      <td>12</td>\n",
       "      <td>Sub</td>\n",
       "      <td>2023-08-20 17:33:37</td>\n",
       "      <td>19</td>\n",
       "      <td>0</td>\n",
       "      <td>...</td>\n",
       "      <td>2</td>\n",
       "      <td>2</td>\n",
       "      <td>0</td>\n",
       "      <td>0</td>\n",
       "      <td>0</td>\n",
       "      <td>0</td>\n",
       "      <td>0</td>\n",
       "      <td>0</td>\n",
       "      <td>22</td>\n",
       "      <td>6.20</td>\n",
       "    </tr>\n",
       "    <tr>\n",
       "      <th>28</th>\n",
       "      <td>20874</td>\n",
       "      <td>Luka Modric</td>\n",
       "      <td>52</td>\n",
       "      <td>Real Madrid</td>\n",
       "      <td>0</td>\n",
       "      <td>10</td>\n",
       "      <td>Sub</td>\n",
       "      <td>2023-08-20 17:33:37</td>\n",
       "      <td>19</td>\n",
       "      <td>2</td>\n",
       "      <td>...</td>\n",
       "      <td>0</td>\n",
       "      <td>0</td>\n",
       "      <td>3</td>\n",
       "      <td>0</td>\n",
       "      <td>0</td>\n",
       "      <td>1</td>\n",
       "      <td>0</td>\n",
       "      <td>0</td>\n",
       "      <td>40</td>\n",
       "      <td>6.70</td>\n",
       "    </tr>\n",
       "    <tr>\n",
       "      <th>29</th>\n",
       "      <td>74603</td>\n",
       "      <td>Joselu</td>\n",
       "      <td>52</td>\n",
       "      <td>Real Madrid</td>\n",
       "      <td>0</td>\n",
       "      <td>14</td>\n",
       "      <td>Sub</td>\n",
       "      <td>2023-08-20 17:33:37</td>\n",
       "      <td>10</td>\n",
       "      <td>1</td>\n",
       "      <td>...</td>\n",
       "      <td>0</td>\n",
       "      <td>0</td>\n",
       "      <td>1</td>\n",
       "      <td>0</td>\n",
       "      <td>0</td>\n",
       "      <td>0</td>\n",
       "      <td>0</td>\n",
       "      <td>0</td>\n",
       "      <td>35</td>\n",
       "      <td>5.93</td>\n",
       "    </tr>\n",
       "    <tr>\n",
       "      <th>30</th>\n",
       "      <td>317541</td>\n",
       "      <td>Brahim Diaz</td>\n",
       "      <td>52</td>\n",
       "      <td>Real Madrid</td>\n",
       "      <td>0</td>\n",
       "      <td>21</td>\n",
       "      <td>Sub</td>\n",
       "      <td>2023-08-20 17:33:37</td>\n",
       "      <td>1</td>\n",
       "      <td>0</td>\n",
       "      <td>...</td>\n",
       "      <td>1</td>\n",
       "      <td>0</td>\n",
       "      <td>0</td>\n",
       "      <td>0</td>\n",
       "      <td>0</td>\n",
       "      <td>1</td>\n",
       "      <td>0</td>\n",
       "      <td>0</td>\n",
       "      <td>26</td>\n",
       "      <td>6.45</td>\n",
       "    </tr>\n",
       "    <tr>\n",
       "      <th>31</th>\n",
       "      <td>144511</td>\n",
       "      <td>Lucas Vazquez</td>\n",
       "      <td>52</td>\n",
       "      <td>Real Madrid</td>\n",
       "      <td>0</td>\n",
       "      <td>17</td>\n",
       "      <td>Sub</td>\n",
       "      <td>2023-08-20 17:33:37</td>\n",
       "      <td>1</td>\n",
       "      <td>0</td>\n",
       "      <td>...</td>\n",
       "      <td>0</td>\n",
       "      <td>0</td>\n",
       "      <td>0</td>\n",
       "      <td>0</td>\n",
       "      <td>0</td>\n",
       "      <td>0</td>\n",
       "      <td>0</td>\n",
       "      <td>0</td>\n",
       "      <td>34</td>\n",
       "      <td>6.25</td>\n",
       "    </tr>\n",
       "  </tbody>\n",
       "</table>\n",
       "<p>32 rows × 36 columns</p>\n",
       "</div>"
      ],
      "text/plain": [
       "    playerId                 name  teamId     teamName  ishome  shirtNo  \\\n",
       "0     135572         Adri Embarba    1799      Almeria       1       10   \n",
       "1     387160       Edgar Gonzalez    1799      Almeria       1        3   \n",
       "2     365127                Chumi    1799      Almeria       1       21   \n",
       "3     402887          Luis Suarez    1799      Almeria       1        9   \n",
       "4     401174       Sergio Arribas    1799      Almeria       1       19   \n",
       "5     361969       Luis Maximiano    1799      Almeria       1       25   \n",
       "6     301773        Sergio Akieme    1799      Almeria       1       15   \n",
       "7     381644         Iddrisu Baba    1799      Almeria       1        4   \n",
       "8     323511      Lucas Robertone    1799      Almeria       1        5   \n",
       "9     430148          Marc Pubill    1799      Almeria       1       18   \n",
       "10    388665      Largie Ramazani    1799      Almeria       1        7   \n",
       "11    354297        Ibrahima Kone    1799      Almeria       1       23   \n",
       "12    338365            Alex Pozo    1799      Almeria       1       17   \n",
       "13    261698       Gonzalo Melero    1799      Almeria       1       11   \n",
       "14    388666        Arnau Puigmal    1799      Almeria       1        8   \n",
       "15    402214               Lazaro    1799      Almeria       1       14   \n",
       "16    422957          Fran Garcia      52  Real Madrid       0       20   \n",
       "17    353423  Aurelien Tchouameni      52  Real Madrid       0       18   \n",
       "18    104010      Antonio Rudiger      52  Real Madrid       0       22   \n",
       "19    106883        Dani Carvajal      52  Real Madrid       0        2   \n",
       "20     39722          David Alaba      52  Real Madrid       0        4   \n",
       "21    345031         Andrii Lunin      52  Real Madrid       0       13   \n",
       "22    337782      Vinicius Junior      52  Real Madrid       0        7   \n",
       "23    344644    Federico Valverde      52  Real Madrid       0       15   \n",
       "24    379868      Jude Bellingham      52  Real Madrid       0        5   \n",
       "25     31772           Toni Kroos      52  Real Madrid       0        8   \n",
       "26    347862              Rodrygo      52  Real Madrid       0       11   \n",
       "27    369109    Eduardo Camavinga      52  Real Madrid       0       12   \n",
       "28     20874          Luka Modric      52  Real Madrid       0       10   \n",
       "29     74603               Joselu      52  Real Madrid       0       14   \n",
       "30    317541          Brahim Diaz      52  Real Madrid       0       21   \n",
       "31    144511        Lucas Vazquez      52  Real Madrid       0       17   \n",
       "\n",
       "   position            timestamp  minutes_played  shots  ...  TotTackles  \\\n",
       "0       AMR  2023-08-20 17:33:37              90      0  ...           4   \n",
       "1        DC  2023-08-20 17:33:37              90      1  ...           3   \n",
       "2        DC  2023-08-20 17:33:37              90      0  ...           1   \n",
       "3        FW  2023-08-20 17:33:37              90      5  ...           0   \n",
       "4       AMC  2023-08-20 17:33:37              90      1  ...           0   \n",
       "5        GK  2023-08-20 17:33:37              90      0  ...           0   \n",
       "6        DL  2023-08-20 17:33:37              90      0  ...           0   \n",
       "7       DMC  2023-08-20 17:33:37              90      1  ...           3   \n",
       "8       DMC  2023-08-20 17:33:37              68      5  ...           0   \n",
       "9        DR  2023-08-20 17:33:37              68      0  ...           3   \n",
       "10      AML  2023-08-20 17:33:37              60      6  ...           0   \n",
       "11      Sub  2023-08-20 17:33:37              30      1  ...           0   \n",
       "12      Sub  2023-08-20 17:33:37              22      0  ...           2   \n",
       "13      Sub  2023-08-20 17:33:37              22      0  ...           1   \n",
       "14      Sub  2023-08-20 17:33:37               1      0  ...           0   \n",
       "15      Sub  2023-08-20 17:33:37               1      0  ...           0   \n",
       "16       DL  2023-08-20 17:33:37              90      1  ...           0   \n",
       "17       MC  2023-08-20 17:33:37              90      2  ...           2   \n",
       "18       DC  2023-08-20 17:33:37              90      0  ...           2   \n",
       "19       DR  2023-08-20 17:33:37              90      1  ...           2   \n",
       "20       DC  2023-08-20 17:33:37              90      1  ...           1   \n",
       "21       GK  2023-08-20 17:33:37              90      0  ...           0   \n",
       "22       FW  2023-08-20 17:33:37              89      4  ...           0   \n",
       "23       MC  2023-08-20 17:33:37              89      4  ...           1   \n",
       "24      AMC  2023-08-20 17:33:37              80      6  ...           0   \n",
       "25       MC  2023-08-20 17:33:37              71      0  ...           3   \n",
       "26       FW  2023-08-20 17:33:37              71      3  ...           0   \n",
       "27      Sub  2023-08-20 17:33:37              19      0  ...           2   \n",
       "28      Sub  2023-08-20 17:33:37              19      2  ...           0   \n",
       "29      Sub  2023-08-20 17:33:37              10      1  ...           0   \n",
       "30      Sub  2023-08-20 17:33:37               1      0  ...           1   \n",
       "31      Sub  2023-08-20 17:33:37               1      0  ...           0   \n",
       "\n",
       "    succTackles  Interceptions  Clearances  blockedshots  Fouls  Fouled  \\\n",
       "0             3              0           0             0      0       1   \n",
       "1             1              1           9             1      1       0   \n",
       "2             1              0           5             2      3       0   \n",
       "3             0              0           0             0      1       1   \n",
       "4             0              0           0             0      1       2   \n",
       "5             0              0           0             0      0       0   \n",
       "6             0              0           2             0      0       2   \n",
       "7             2              2           1             0      0       2   \n",
       "8             0              2           1             1      3       1   \n",
       "9             0              2           2             0      1       3   \n",
       "10            0              4           0             1      0       1   \n",
       "11            0              0           0             0      0       0   \n",
       "12            1              0           0             0      0       0   \n",
       "13            1              0           0             0      0       0   \n",
       "14            0              0           0             0      0       0   \n",
       "15            0              0           0             0      0       0   \n",
       "16            0              1           4             0      2       0   \n",
       "17            1              3           1             0      1       0   \n",
       "18            1              1           3             4      0       0   \n",
       "19            0              0           5             0      1       0   \n",
       "20            0              1           4             0      2       0   \n",
       "21            0              0           0             0      0       0   \n",
       "22            0              0           0             0      2       5   \n",
       "23            0              0           1             0      0       0   \n",
       "24            0              0           0             0      1       1   \n",
       "25            2              0           1             0      1       2   \n",
       "26            0              0           0             0      1       1   \n",
       "27            2              0           0             0      0       0   \n",
       "28            0              3           0             0      1       0   \n",
       "29            0              1           0             0      0       0   \n",
       "30            0              0           0             0      1       0   \n",
       "31            0              0           0             0      0       0   \n",
       "\n",
       "    isManOfTheMatch  age  rating  \n",
       "0                 0   33    7.59  \n",
       "1                 0   28    6.64  \n",
       "2                 0   26    5.78  \n",
       "3                 0   27    6.34  \n",
       "4                 0   23    7.12  \n",
       "5                 0   26    5.80  \n",
       "6                 0   27    5.91  \n",
       "7                 0   29    6.91  \n",
       "8                 0   28    7.49  \n",
       "9                 0   22    6.85  \n",
       "10                0   24    6.83  \n",
       "11                0   26    6.16  \n",
       "12                0   26    6.86  \n",
       "13                0   31    5.91  \n",
       "14                0   24    5.99  \n",
       "15                0   23    6.04  \n",
       "16                0   26    6.50  \n",
       "17                0   25    7.84  \n",
       "18                0   32    7.01  \n",
       "19                0   33    7.06  \n",
       "20                0   33    6.50  \n",
       "21                0   26    7.68  \n",
       "22                0   25    7.92  \n",
       "23                0   27    7.04  \n",
       "24                1   22    9.10  \n",
       "25                0   35    7.69  \n",
       "26                0   24    7.12  \n",
       "27                0   22    6.20  \n",
       "28                0   40    6.70  \n",
       "29                0   35    5.93  \n",
       "30                0   26    6.45  \n",
       "31                0   34    6.25  \n",
       "\n",
       "[32 rows x 36 columns]"
      ]
     },
     "execution_count": 187,
     "metadata": {},
     "output_type": "execute_result"
    }
   ],
   "source": [
    "merged_df"
   ]
  },
  {
   "cell_type": "code",
   "execution_count": 201,
   "id": "ff09bf38-07c5-4abe-8a05-46b76951b6d0",
   "metadata": {},
   "outputs": [
    {
     "name": "stderr",
     "output_type": "stream",
     "text": [
      "C:\\Users\\kevin\\AppData\\Local\\Temp\\ipykernel_23208\\70385047.py:89: FutureWarning: DataFrame.applymap has been deprecated. Use DataFrame.map instead.\n",
      "  expanded_dff = expanded_dff.applymap(convert_if_number)\n"
     ]
    },
    {
     "name": "stdout",
     "output_type": "stream",
     "text": [
      "Saved: E:\\KreupAI\\DAta\\ownplayerstat\\Athletic Club vs Atletico.csv\n"
     ]
    },
    {
     "name": "stderr",
     "output_type": "stream",
     "text": [
      "C:\\Users\\kevin\\AppData\\Local\\Temp\\ipykernel_23208\\70385047.py:89: FutureWarning: DataFrame.applymap has been deprecated. Use DataFrame.map instead.\n",
      "  expanded_dff = expanded_dff.applymap(convert_if_number)\n"
     ]
    },
    {
     "name": "stdout",
     "output_type": "stream",
     "text": [
      "Saved: E:\\KreupAI\\DAta\\ownplayerstat\\Athletic Club vs Barcelona.csv\n"
     ]
    },
    {
     "name": "stderr",
     "output_type": "stream",
     "text": [
      "C:\\Users\\kevin\\AppData\\Local\\Temp\\ipykernel_23208\\70385047.py:89: FutureWarning: DataFrame.applymap has been deprecated. Use DataFrame.map instead.\n",
      "  expanded_dff = expanded_dff.applymap(convert_if_number)\n"
     ]
    },
    {
     "name": "stdout",
     "output_type": "stream",
     "text": [
      "Saved: E:\\KreupAI\\DAta\\ownplayerstat\\Athletic Club vs Celta Vigo.csv\n"
     ]
    },
    {
     "name": "stderr",
     "output_type": "stream",
     "text": [
      "C:\\Users\\kevin\\AppData\\Local\\Temp\\ipykernel_23208\\70385047.py:89: FutureWarning: DataFrame.applymap has been deprecated. Use DataFrame.map instead.\n",
      "  expanded_dff = expanded_dff.applymap(convert_if_number)\n"
     ]
    },
    {
     "name": "stdout",
     "output_type": "stream",
     "text": [
      "Saved: E:\\KreupAI\\DAta\\ownplayerstat\\Athletic Club vs Deportivo Alaves.csv\n"
     ]
    },
    {
     "name": "stderr",
     "output_type": "stream",
     "text": [
      "C:\\Users\\kevin\\AppData\\Local\\Temp\\ipykernel_23208\\70385047.py:89: FutureWarning: DataFrame.applymap has been deprecated. Use DataFrame.map instead.\n",
      "  expanded_dff = expanded_dff.applymap(convert_if_number)\n"
     ]
    },
    {
     "name": "stdout",
     "output_type": "stream",
     "text": [
      "Saved: E:\\KreupAI\\DAta\\ownplayerstat\\Athletic Club vs Espanyol.csv\n"
     ]
    },
    {
     "name": "stderr",
     "output_type": "stream",
     "text": [
      "C:\\Users\\kevin\\AppData\\Local\\Temp\\ipykernel_23208\\70385047.py:89: FutureWarning: DataFrame.applymap has been deprecated. Use DataFrame.map instead.\n",
      "  expanded_dff = expanded_dff.applymap(convert_if_number)\n"
     ]
    },
    {
     "name": "stdout",
     "output_type": "stream",
     "text": [
      "Saved: E:\\KreupAI\\DAta\\ownplayerstat\\Athletic Club vs Getafe.csv\n"
     ]
    },
    {
     "name": "stderr",
     "output_type": "stream",
     "text": [
      "C:\\Users\\kevin\\AppData\\Local\\Temp\\ipykernel_23208\\70385047.py:89: FutureWarning: DataFrame.applymap has been deprecated. Use DataFrame.map instead.\n",
      "  expanded_dff = expanded_dff.applymap(convert_if_number)\n"
     ]
    },
    {
     "name": "stdout",
     "output_type": "stream",
     "text": [
      "Saved: E:\\KreupAI\\DAta\\ownplayerstat\\Athletic Club vs Girona.csv\n"
     ]
    },
    {
     "name": "stderr",
     "output_type": "stream",
     "text": [
      "C:\\Users\\kevin\\AppData\\Local\\Temp\\ipykernel_23208\\70385047.py:89: FutureWarning: DataFrame.applymap has been deprecated. Use DataFrame.map instead.\n",
      "  expanded_dff = expanded_dff.applymap(convert_if_number)\n"
     ]
    },
    {
     "name": "stdout",
     "output_type": "stream",
     "text": [
      "Saved: E:\\KreupAI\\DAta\\ownplayerstat\\Athletic Club vs Las Palmas.csv\n"
     ]
    },
    {
     "name": "stderr",
     "output_type": "stream",
     "text": [
      "C:\\Users\\kevin\\AppData\\Local\\Temp\\ipykernel_23208\\70385047.py:89: FutureWarning: DataFrame.applymap has been deprecated. Use DataFrame.map instead.\n",
      "  expanded_dff = expanded_dff.applymap(convert_if_number)\n"
     ]
    },
    {
     "name": "stdout",
     "output_type": "stream",
     "text": [
      "Saved: E:\\KreupAI\\DAta\\ownplayerstat\\Athletic Club vs Leganes.csv\n"
     ]
    },
    {
     "name": "stderr",
     "output_type": "stream",
     "text": [
      "C:\\Users\\kevin\\AppData\\Local\\Temp\\ipykernel_23208\\70385047.py:89: FutureWarning: DataFrame.applymap has been deprecated. Use DataFrame.map instead.\n",
      "  expanded_dff = expanded_dff.applymap(convert_if_number)\n"
     ]
    },
    {
     "name": "stdout",
     "output_type": "stream",
     "text": [
      "Saved: E:\\KreupAI\\DAta\\ownplayerstat\\Athletic Club vs Mallorca.csv\n"
     ]
    },
    {
     "name": "stderr",
     "output_type": "stream",
     "text": [
      "C:\\Users\\kevin\\AppData\\Local\\Temp\\ipykernel_23208\\70385047.py:89: FutureWarning: DataFrame.applymap has been deprecated. Use DataFrame.map instead.\n",
      "  expanded_dff = expanded_dff.applymap(convert_if_number)\n"
     ]
    },
    {
     "name": "stdout",
     "output_type": "stream",
     "text": [
      "Saved: E:\\KreupAI\\DAta\\ownplayerstat\\Athletic Club vs Osasuna.csv\n"
     ]
    },
    {
     "name": "stderr",
     "output_type": "stream",
     "text": [
      "C:\\Users\\kevin\\AppData\\Local\\Temp\\ipykernel_23208\\70385047.py:89: FutureWarning: DataFrame.applymap has been deprecated. Use DataFrame.map instead.\n",
      "  expanded_dff = expanded_dff.applymap(convert_if_number)\n"
     ]
    },
    {
     "name": "stdout",
     "output_type": "stream",
     "text": [
      "Saved: E:\\KreupAI\\DAta\\ownplayerstat\\Athletic Club vs Rayo Vallecano.csv\n"
     ]
    },
    {
     "name": "stderr",
     "output_type": "stream",
     "text": [
      "C:\\Users\\kevin\\AppData\\Local\\Temp\\ipykernel_23208\\70385047.py:89: FutureWarning: DataFrame.applymap has been deprecated. Use DataFrame.map instead.\n",
      "  expanded_dff = expanded_dff.applymap(convert_if_number)\n"
     ]
    },
    {
     "name": "stdout",
     "output_type": "stream",
     "text": [
      "Saved: E:\\KreupAI\\DAta\\ownplayerstat\\Athletic Club vs Real Betis.csv\n"
     ]
    },
    {
     "name": "stderr",
     "output_type": "stream",
     "text": [
      "C:\\Users\\kevin\\AppData\\Local\\Temp\\ipykernel_23208\\70385047.py:89: FutureWarning: DataFrame.applymap has been deprecated. Use DataFrame.map instead.\n",
      "  expanded_dff = expanded_dff.applymap(convert_if_number)\n"
     ]
    },
    {
     "name": "stdout",
     "output_type": "stream",
     "text": [
      "Saved: E:\\KreupAI\\DAta\\ownplayerstat\\Athletic Club vs Real Madrid.csv\n"
     ]
    },
    {
     "name": "stderr",
     "output_type": "stream",
     "text": [
      "C:\\Users\\kevin\\AppData\\Local\\Temp\\ipykernel_23208\\70385047.py:89: FutureWarning: DataFrame.applymap has been deprecated. Use DataFrame.map instead.\n",
      "  expanded_dff = expanded_dff.applymap(convert_if_number)\n"
     ]
    },
    {
     "name": "stdout",
     "output_type": "stream",
     "text": [
      "Saved: E:\\KreupAI\\DAta\\ownplayerstat\\Athletic Club vs Real Sociedad.csv\n"
     ]
    },
    {
     "name": "stderr",
     "output_type": "stream",
     "text": [
      "C:\\Users\\kevin\\AppData\\Local\\Temp\\ipykernel_23208\\70385047.py:89: FutureWarning: DataFrame.applymap has been deprecated. Use DataFrame.map instead.\n",
      "  expanded_dff = expanded_dff.applymap(convert_if_number)\n"
     ]
    },
    {
     "name": "stdout",
     "output_type": "stream",
     "text": [
      "Saved: E:\\KreupAI\\DAta\\ownplayerstat\\Athletic Club vs Real Valladolid.csv\n"
     ]
    },
    {
     "name": "stderr",
     "output_type": "stream",
     "text": [
      "C:\\Users\\kevin\\AppData\\Local\\Temp\\ipykernel_23208\\70385047.py:89: FutureWarning: DataFrame.applymap has been deprecated. Use DataFrame.map instead.\n",
      "  expanded_dff = expanded_dff.applymap(convert_if_number)\n"
     ]
    },
    {
     "name": "stdout",
     "output_type": "stream",
     "text": [
      "Saved: E:\\KreupAI\\DAta\\ownplayerstat\\Athletic Club vs Sevilla.csv\n"
     ]
    },
    {
     "name": "stderr",
     "output_type": "stream",
     "text": [
      "C:\\Users\\kevin\\AppData\\Local\\Temp\\ipykernel_23208\\70385047.py:89: FutureWarning: DataFrame.applymap has been deprecated. Use DataFrame.map instead.\n",
      "  expanded_dff = expanded_dff.applymap(convert_if_number)\n"
     ]
    },
    {
     "name": "stdout",
     "output_type": "stream",
     "text": [
      "Saved: E:\\KreupAI\\DAta\\ownplayerstat\\Athletic Club vs Valencia.csv\n"
     ]
    },
    {
     "name": "stderr",
     "output_type": "stream",
     "text": [
      "C:\\Users\\kevin\\AppData\\Local\\Temp\\ipykernel_23208\\70385047.py:89: FutureWarning: DataFrame.applymap has been deprecated. Use DataFrame.map instead.\n",
      "  expanded_dff = expanded_dff.applymap(convert_if_number)\n"
     ]
    },
    {
     "name": "stdout",
     "output_type": "stream",
     "text": [
      "Saved: E:\\KreupAI\\DAta\\ownplayerstat\\Athletic Club vs Villarreal.csv\n"
     ]
    },
    {
     "name": "stderr",
     "output_type": "stream",
     "text": [
      "C:\\Users\\kevin\\AppData\\Local\\Temp\\ipykernel_23208\\70385047.py:89: FutureWarning: DataFrame.applymap has been deprecated. Use DataFrame.map instead.\n",
      "  expanded_dff = expanded_dff.applymap(convert_if_number)\n"
     ]
    },
    {
     "name": "stdout",
     "output_type": "stream",
     "text": [
      "Saved: E:\\KreupAI\\DAta\\ownplayerstat\\Atletico vs Athletic Club.csv\n"
     ]
    },
    {
     "name": "stderr",
     "output_type": "stream",
     "text": [
      "C:\\Users\\kevin\\AppData\\Local\\Temp\\ipykernel_23208\\70385047.py:89: FutureWarning: DataFrame.applymap has been deprecated. Use DataFrame.map instead.\n",
      "  expanded_dff = expanded_dff.applymap(convert_if_number)\n"
     ]
    },
    {
     "name": "stdout",
     "output_type": "stream",
     "text": [
      "Saved: E:\\KreupAI\\DAta\\ownplayerstat\\Atletico vs Barcelona.csv\n"
     ]
    },
    {
     "name": "stderr",
     "output_type": "stream",
     "text": [
      "C:\\Users\\kevin\\AppData\\Local\\Temp\\ipykernel_23208\\70385047.py:89: FutureWarning: DataFrame.applymap has been deprecated. Use DataFrame.map instead.\n",
      "  expanded_dff = expanded_dff.applymap(convert_if_number)\n"
     ]
    },
    {
     "name": "stdout",
     "output_type": "stream",
     "text": [
      "Saved: E:\\KreupAI\\DAta\\ownplayerstat\\Atletico vs Celta Vigo.csv\n"
     ]
    },
    {
     "name": "stderr",
     "output_type": "stream",
     "text": [
      "C:\\Users\\kevin\\AppData\\Local\\Temp\\ipykernel_23208\\70385047.py:89: FutureWarning: DataFrame.applymap has been deprecated. Use DataFrame.map instead.\n",
      "  expanded_dff = expanded_dff.applymap(convert_if_number)\n"
     ]
    },
    {
     "name": "stdout",
     "output_type": "stream",
     "text": [
      "Saved: E:\\KreupAI\\DAta\\ownplayerstat\\Atletico vs Deportivo Alaves.csv\n"
     ]
    },
    {
     "name": "stderr",
     "output_type": "stream",
     "text": [
      "C:\\Users\\kevin\\AppData\\Local\\Temp\\ipykernel_23208\\70385047.py:89: FutureWarning: DataFrame.applymap has been deprecated. Use DataFrame.map instead.\n",
      "  expanded_dff = expanded_dff.applymap(convert_if_number)\n"
     ]
    },
    {
     "name": "stdout",
     "output_type": "stream",
     "text": [
      "Saved: E:\\KreupAI\\DAta\\ownplayerstat\\Atletico vs Espanyol.csv\n"
     ]
    },
    {
     "name": "stderr",
     "output_type": "stream",
     "text": [
      "C:\\Users\\kevin\\AppData\\Local\\Temp\\ipykernel_23208\\70385047.py:89: FutureWarning: DataFrame.applymap has been deprecated. Use DataFrame.map instead.\n",
      "  expanded_dff = expanded_dff.applymap(convert_if_number)\n"
     ]
    },
    {
     "name": "stdout",
     "output_type": "stream",
     "text": [
      "Saved: E:\\KreupAI\\DAta\\ownplayerstat\\Atletico vs Getafe.csv\n"
     ]
    },
    {
     "name": "stderr",
     "output_type": "stream",
     "text": [
      "C:\\Users\\kevin\\AppData\\Local\\Temp\\ipykernel_23208\\70385047.py:89: FutureWarning: DataFrame.applymap has been deprecated. Use DataFrame.map instead.\n",
      "  expanded_dff = expanded_dff.applymap(convert_if_number)\n"
     ]
    },
    {
     "name": "stdout",
     "output_type": "stream",
     "text": [
      "Saved: E:\\KreupAI\\DAta\\ownplayerstat\\Atletico vs Girona.csv\n"
     ]
    },
    {
     "name": "stderr",
     "output_type": "stream",
     "text": [
      "C:\\Users\\kevin\\AppData\\Local\\Temp\\ipykernel_23208\\70385047.py:89: FutureWarning: DataFrame.applymap has been deprecated. Use DataFrame.map instead.\n",
      "  expanded_dff = expanded_dff.applymap(convert_if_number)\n"
     ]
    },
    {
     "name": "stdout",
     "output_type": "stream",
     "text": [
      "Saved: E:\\KreupAI\\DAta\\ownplayerstat\\Atletico vs Las Palmas.csv\n"
     ]
    },
    {
     "name": "stderr",
     "output_type": "stream",
     "text": [
      "C:\\Users\\kevin\\AppData\\Local\\Temp\\ipykernel_23208\\70385047.py:89: FutureWarning: DataFrame.applymap has been deprecated. Use DataFrame.map instead.\n",
      "  expanded_dff = expanded_dff.applymap(convert_if_number)\n"
     ]
    },
    {
     "name": "stdout",
     "output_type": "stream",
     "text": [
      "Saved: E:\\KreupAI\\DAta\\ownplayerstat\\Atletico vs Leganes.csv\n"
     ]
    },
    {
     "name": "stderr",
     "output_type": "stream",
     "text": [
      "C:\\Users\\kevin\\AppData\\Local\\Temp\\ipykernel_23208\\70385047.py:89: FutureWarning: DataFrame.applymap has been deprecated. Use DataFrame.map instead.\n",
      "  expanded_dff = expanded_dff.applymap(convert_if_number)\n"
     ]
    },
    {
     "name": "stdout",
     "output_type": "stream",
     "text": [
      "Saved: E:\\KreupAI\\DAta\\ownplayerstat\\Atletico vs Mallorca.csv\n"
     ]
    },
    {
     "name": "stderr",
     "output_type": "stream",
     "text": [
      "C:\\Users\\kevin\\AppData\\Local\\Temp\\ipykernel_23208\\70385047.py:89: FutureWarning: DataFrame.applymap has been deprecated. Use DataFrame.map instead.\n",
      "  expanded_dff = expanded_dff.applymap(convert_if_number)\n"
     ]
    },
    {
     "name": "stdout",
     "output_type": "stream",
     "text": [
      "Saved: E:\\KreupAI\\DAta\\ownplayerstat\\Atletico vs Osasuna.csv\n"
     ]
    },
    {
     "name": "stderr",
     "output_type": "stream",
     "text": [
      "C:\\Users\\kevin\\AppData\\Local\\Temp\\ipykernel_23208\\70385047.py:89: FutureWarning: DataFrame.applymap has been deprecated. Use DataFrame.map instead.\n",
      "  expanded_dff = expanded_dff.applymap(convert_if_number)\n"
     ]
    },
    {
     "name": "stdout",
     "output_type": "stream",
     "text": [
      "Saved: E:\\KreupAI\\DAta\\ownplayerstat\\Atletico vs Rayo Vallecano.csv\n"
     ]
    },
    {
     "name": "stderr",
     "output_type": "stream",
     "text": [
      "C:\\Users\\kevin\\AppData\\Local\\Temp\\ipykernel_23208\\70385047.py:89: FutureWarning: DataFrame.applymap has been deprecated. Use DataFrame.map instead.\n",
      "  expanded_dff = expanded_dff.applymap(convert_if_number)\n"
     ]
    },
    {
     "name": "stdout",
     "output_type": "stream",
     "text": [
      "Saved: E:\\KreupAI\\DAta\\ownplayerstat\\Atletico vs Real Betis.csv\n"
     ]
    },
    {
     "name": "stderr",
     "output_type": "stream",
     "text": [
      "C:\\Users\\kevin\\AppData\\Local\\Temp\\ipykernel_23208\\70385047.py:89: FutureWarning: DataFrame.applymap has been deprecated. Use DataFrame.map instead.\n",
      "  expanded_dff = expanded_dff.applymap(convert_if_number)\n"
     ]
    },
    {
     "name": "stdout",
     "output_type": "stream",
     "text": [
      "Saved: E:\\KreupAI\\DAta\\ownplayerstat\\Atletico vs Real Madrid.csv\n"
     ]
    },
    {
     "name": "stderr",
     "output_type": "stream",
     "text": [
      "C:\\Users\\kevin\\AppData\\Local\\Temp\\ipykernel_23208\\70385047.py:89: FutureWarning: DataFrame.applymap has been deprecated. Use DataFrame.map instead.\n",
      "  expanded_dff = expanded_dff.applymap(convert_if_number)\n"
     ]
    },
    {
     "name": "stdout",
     "output_type": "stream",
     "text": [
      "Saved: E:\\KreupAI\\DAta\\ownplayerstat\\Atletico vs Real Sociedad.csv\n"
     ]
    },
    {
     "name": "stderr",
     "output_type": "stream",
     "text": [
      "C:\\Users\\kevin\\AppData\\Local\\Temp\\ipykernel_23208\\70385047.py:89: FutureWarning: DataFrame.applymap has been deprecated. Use DataFrame.map instead.\n",
      "  expanded_dff = expanded_dff.applymap(convert_if_number)\n"
     ]
    },
    {
     "name": "stdout",
     "output_type": "stream",
     "text": [
      "Saved: E:\\KreupAI\\DAta\\ownplayerstat\\Atletico vs Real Valladolid.csv\n"
     ]
    },
    {
     "name": "stderr",
     "output_type": "stream",
     "text": [
      "C:\\Users\\kevin\\AppData\\Local\\Temp\\ipykernel_23208\\70385047.py:89: FutureWarning: DataFrame.applymap has been deprecated. Use DataFrame.map instead.\n",
      "  expanded_dff = expanded_dff.applymap(convert_if_number)\n"
     ]
    },
    {
     "name": "stdout",
     "output_type": "stream",
     "text": [
      "Saved: E:\\KreupAI\\DAta\\ownplayerstat\\Atletico vs Sevilla.csv\n"
     ]
    },
    {
     "name": "stderr",
     "output_type": "stream",
     "text": [
      "C:\\Users\\kevin\\AppData\\Local\\Temp\\ipykernel_23208\\70385047.py:89: FutureWarning: DataFrame.applymap has been deprecated. Use DataFrame.map instead.\n",
      "  expanded_dff = expanded_dff.applymap(convert_if_number)\n"
     ]
    },
    {
     "name": "stdout",
     "output_type": "stream",
     "text": [
      "Saved: E:\\KreupAI\\DAta\\ownplayerstat\\Atletico vs Valencia.csv\n"
     ]
    },
    {
     "name": "stderr",
     "output_type": "stream",
     "text": [
      "C:\\Users\\kevin\\AppData\\Local\\Temp\\ipykernel_23208\\70385047.py:89: FutureWarning: DataFrame.applymap has been deprecated. Use DataFrame.map instead.\n",
      "  expanded_dff = expanded_dff.applymap(convert_if_number)\n"
     ]
    },
    {
     "name": "stdout",
     "output_type": "stream",
     "text": [
      "Saved: E:\\KreupAI\\DAta\\ownplayerstat\\Atletico vs Villarreal.csv\n"
     ]
    },
    {
     "name": "stderr",
     "output_type": "stream",
     "text": [
      "C:\\Users\\kevin\\AppData\\Local\\Temp\\ipykernel_23208\\70385047.py:89: FutureWarning: DataFrame.applymap has been deprecated. Use DataFrame.map instead.\n",
      "  expanded_dff = expanded_dff.applymap(convert_if_number)\n"
     ]
    },
    {
     "name": "stdout",
     "output_type": "stream",
     "text": [
      "Saved: E:\\KreupAI\\DAta\\ownplayerstat\\Barcelona vs Athletic Club.csv\n"
     ]
    },
    {
     "name": "stderr",
     "output_type": "stream",
     "text": [
      "C:\\Users\\kevin\\AppData\\Local\\Temp\\ipykernel_23208\\70385047.py:89: FutureWarning: DataFrame.applymap has been deprecated. Use DataFrame.map instead.\n",
      "  expanded_dff = expanded_dff.applymap(convert_if_number)\n"
     ]
    },
    {
     "name": "stdout",
     "output_type": "stream",
     "text": [
      "Saved: E:\\KreupAI\\DAta\\ownplayerstat\\Barcelona vs Atletico.csv\n"
     ]
    },
    {
     "name": "stderr",
     "output_type": "stream",
     "text": [
      "C:\\Users\\kevin\\AppData\\Local\\Temp\\ipykernel_23208\\70385047.py:89: FutureWarning: DataFrame.applymap has been deprecated. Use DataFrame.map instead.\n",
      "  expanded_dff = expanded_dff.applymap(convert_if_number)\n"
     ]
    },
    {
     "name": "stdout",
     "output_type": "stream",
     "text": [
      "Saved: E:\\KreupAI\\DAta\\ownplayerstat\\Barcelona vs Celta Vigo.csv\n"
     ]
    },
    {
     "name": "stderr",
     "output_type": "stream",
     "text": [
      "C:\\Users\\kevin\\AppData\\Local\\Temp\\ipykernel_23208\\70385047.py:89: FutureWarning: DataFrame.applymap has been deprecated. Use DataFrame.map instead.\n",
      "  expanded_dff = expanded_dff.applymap(convert_if_number)\n"
     ]
    },
    {
     "name": "stdout",
     "output_type": "stream",
     "text": [
      "Saved: E:\\KreupAI\\DAta\\ownplayerstat\\Barcelona vs Deportivo Alaves.csv\n"
     ]
    },
    {
     "name": "stderr",
     "output_type": "stream",
     "text": [
      "C:\\Users\\kevin\\AppData\\Local\\Temp\\ipykernel_23208\\70385047.py:89: FutureWarning: DataFrame.applymap has been deprecated. Use DataFrame.map instead.\n",
      "  expanded_dff = expanded_dff.applymap(convert_if_number)\n"
     ]
    },
    {
     "name": "stdout",
     "output_type": "stream",
     "text": [
      "Saved: E:\\KreupAI\\DAta\\ownplayerstat\\Barcelona vs Espanyol.csv\n"
     ]
    },
    {
     "name": "stderr",
     "output_type": "stream",
     "text": [
      "C:\\Users\\kevin\\AppData\\Local\\Temp\\ipykernel_23208\\70385047.py:89: FutureWarning: DataFrame.applymap has been deprecated. Use DataFrame.map instead.\n",
      "  expanded_dff = expanded_dff.applymap(convert_if_number)\n"
     ]
    },
    {
     "name": "stdout",
     "output_type": "stream",
     "text": [
      "Saved: E:\\KreupAI\\DAta\\ownplayerstat\\Barcelona vs Getafe.csv\n"
     ]
    },
    {
     "name": "stderr",
     "output_type": "stream",
     "text": [
      "C:\\Users\\kevin\\AppData\\Local\\Temp\\ipykernel_23208\\70385047.py:89: FutureWarning: DataFrame.applymap has been deprecated. Use DataFrame.map instead.\n",
      "  expanded_dff = expanded_dff.applymap(convert_if_number)\n"
     ]
    },
    {
     "name": "stdout",
     "output_type": "stream",
     "text": [
      "Saved: E:\\KreupAI\\DAta\\ownplayerstat\\Barcelona vs Girona.csv\n"
     ]
    },
    {
     "name": "stderr",
     "output_type": "stream",
     "text": [
      "C:\\Users\\kevin\\AppData\\Local\\Temp\\ipykernel_23208\\70385047.py:89: FutureWarning: DataFrame.applymap has been deprecated. Use DataFrame.map instead.\n",
      "  expanded_dff = expanded_dff.applymap(convert_if_number)\n"
     ]
    },
    {
     "name": "stdout",
     "output_type": "stream",
     "text": [
      "Saved: E:\\KreupAI\\DAta\\ownplayerstat\\Barcelona vs Las Palmas.csv\n"
     ]
    },
    {
     "name": "stderr",
     "output_type": "stream",
     "text": [
      "C:\\Users\\kevin\\AppData\\Local\\Temp\\ipykernel_23208\\70385047.py:89: FutureWarning: DataFrame.applymap has been deprecated. Use DataFrame.map instead.\n",
      "  expanded_dff = expanded_dff.applymap(convert_if_number)\n"
     ]
    },
    {
     "name": "stdout",
     "output_type": "stream",
     "text": [
      "Saved: E:\\KreupAI\\DAta\\ownplayerstat\\Barcelona vs Leganes.csv\n"
     ]
    },
    {
     "name": "stderr",
     "output_type": "stream",
     "text": [
      "C:\\Users\\kevin\\AppData\\Local\\Temp\\ipykernel_23208\\70385047.py:89: FutureWarning: DataFrame.applymap has been deprecated. Use DataFrame.map instead.\n",
      "  expanded_dff = expanded_dff.applymap(convert_if_number)\n"
     ]
    },
    {
     "name": "stdout",
     "output_type": "stream",
     "text": [
      "Saved: E:\\KreupAI\\DAta\\ownplayerstat\\Barcelona vs Mallorca.csv\n"
     ]
    },
    {
     "name": "stderr",
     "output_type": "stream",
     "text": [
      "C:\\Users\\kevin\\AppData\\Local\\Temp\\ipykernel_23208\\70385047.py:89: FutureWarning: DataFrame.applymap has been deprecated. Use DataFrame.map instead.\n",
      "  expanded_dff = expanded_dff.applymap(convert_if_number)\n"
     ]
    },
    {
     "name": "stdout",
     "output_type": "stream",
     "text": [
      "Saved: E:\\KreupAI\\DAta\\ownplayerstat\\Barcelona vs Osasuna.csv\n"
     ]
    },
    {
     "name": "stderr",
     "output_type": "stream",
     "text": [
      "C:\\Users\\kevin\\AppData\\Local\\Temp\\ipykernel_23208\\70385047.py:89: FutureWarning: DataFrame.applymap has been deprecated. Use DataFrame.map instead.\n",
      "  expanded_dff = expanded_dff.applymap(convert_if_number)\n"
     ]
    },
    {
     "name": "stdout",
     "output_type": "stream",
     "text": [
      "Saved: E:\\KreupAI\\DAta\\ownplayerstat\\Barcelona vs Rayo Vallecano.csv\n"
     ]
    },
    {
     "name": "stderr",
     "output_type": "stream",
     "text": [
      "C:\\Users\\kevin\\AppData\\Local\\Temp\\ipykernel_23208\\70385047.py:89: FutureWarning: DataFrame.applymap has been deprecated. Use DataFrame.map instead.\n",
      "  expanded_dff = expanded_dff.applymap(convert_if_number)\n"
     ]
    },
    {
     "name": "stdout",
     "output_type": "stream",
     "text": [
      "Saved: E:\\KreupAI\\DAta\\ownplayerstat\\Barcelona vs Real Betis.csv\n"
     ]
    },
    {
     "name": "stderr",
     "output_type": "stream",
     "text": [
      "C:\\Users\\kevin\\AppData\\Local\\Temp\\ipykernel_23208\\70385047.py:89: FutureWarning: DataFrame.applymap has been deprecated. Use DataFrame.map instead.\n",
      "  expanded_dff = expanded_dff.applymap(convert_if_number)\n"
     ]
    },
    {
     "name": "stdout",
     "output_type": "stream",
     "text": [
      "Saved: E:\\KreupAI\\DAta\\ownplayerstat\\Barcelona vs Real Madrid.csv\n"
     ]
    },
    {
     "name": "stderr",
     "output_type": "stream",
     "text": [
      "C:\\Users\\kevin\\AppData\\Local\\Temp\\ipykernel_23208\\70385047.py:89: FutureWarning: DataFrame.applymap has been deprecated. Use DataFrame.map instead.\n",
      "  expanded_dff = expanded_dff.applymap(convert_if_number)\n"
     ]
    },
    {
     "name": "stdout",
     "output_type": "stream",
     "text": [
      "Saved: E:\\KreupAI\\DAta\\ownplayerstat\\Barcelona vs Real Sociedad.csv\n"
     ]
    },
    {
     "name": "stderr",
     "output_type": "stream",
     "text": [
      "C:\\Users\\kevin\\AppData\\Local\\Temp\\ipykernel_23208\\70385047.py:89: FutureWarning: DataFrame.applymap has been deprecated. Use DataFrame.map instead.\n",
      "  expanded_dff = expanded_dff.applymap(convert_if_number)\n"
     ]
    },
    {
     "name": "stdout",
     "output_type": "stream",
     "text": [
      "Saved: E:\\KreupAI\\DAta\\ownplayerstat\\Barcelona vs Real Valladolid.csv\n"
     ]
    },
    {
     "name": "stderr",
     "output_type": "stream",
     "text": [
      "C:\\Users\\kevin\\AppData\\Local\\Temp\\ipykernel_23208\\70385047.py:89: FutureWarning: DataFrame.applymap has been deprecated. Use DataFrame.map instead.\n",
      "  expanded_dff = expanded_dff.applymap(convert_if_number)\n"
     ]
    },
    {
     "name": "stdout",
     "output_type": "stream",
     "text": [
      "Saved: E:\\KreupAI\\DAta\\ownplayerstat\\Barcelona vs Sevilla.csv\n"
     ]
    },
    {
     "name": "stderr",
     "output_type": "stream",
     "text": [
      "C:\\Users\\kevin\\AppData\\Local\\Temp\\ipykernel_23208\\70385047.py:89: FutureWarning: DataFrame.applymap has been deprecated. Use DataFrame.map instead.\n",
      "  expanded_dff = expanded_dff.applymap(convert_if_number)\n"
     ]
    },
    {
     "name": "stdout",
     "output_type": "stream",
     "text": [
      "Saved: E:\\KreupAI\\DAta\\ownplayerstat\\Barcelona vs Valencia.csv\n"
     ]
    },
    {
     "name": "stderr",
     "output_type": "stream",
     "text": [
      "C:\\Users\\kevin\\AppData\\Local\\Temp\\ipykernel_23208\\70385047.py:89: FutureWarning: DataFrame.applymap has been deprecated. Use DataFrame.map instead.\n",
      "  expanded_dff = expanded_dff.applymap(convert_if_number)\n"
     ]
    },
    {
     "name": "stdout",
     "output_type": "stream",
     "text": [
      "Saved: E:\\KreupAI\\DAta\\ownplayerstat\\Barcelona vs Villarreal.csv\n"
     ]
    },
    {
     "name": "stderr",
     "output_type": "stream",
     "text": [
      "C:\\Users\\kevin\\AppData\\Local\\Temp\\ipykernel_23208\\70385047.py:89: FutureWarning: DataFrame.applymap has been deprecated. Use DataFrame.map instead.\n",
      "  expanded_dff = expanded_dff.applymap(convert_if_number)\n"
     ]
    },
    {
     "name": "stdout",
     "output_type": "stream",
     "text": [
      "Saved: E:\\KreupAI\\DAta\\ownplayerstat\\Celta Vigo vs Athletic Club.csv\n"
     ]
    },
    {
     "name": "stderr",
     "output_type": "stream",
     "text": [
      "C:\\Users\\kevin\\AppData\\Local\\Temp\\ipykernel_23208\\70385047.py:89: FutureWarning: DataFrame.applymap has been deprecated. Use DataFrame.map instead.\n",
      "  expanded_dff = expanded_dff.applymap(convert_if_number)\n"
     ]
    },
    {
     "name": "stdout",
     "output_type": "stream",
     "text": [
      "Saved: E:\\KreupAI\\DAta\\ownplayerstat\\Celta Vigo vs Atletico.csv\n"
     ]
    },
    {
     "name": "stderr",
     "output_type": "stream",
     "text": [
      "C:\\Users\\kevin\\AppData\\Local\\Temp\\ipykernel_23208\\70385047.py:89: FutureWarning: DataFrame.applymap has been deprecated. Use DataFrame.map instead.\n",
      "  expanded_dff = expanded_dff.applymap(convert_if_number)\n"
     ]
    },
    {
     "name": "stdout",
     "output_type": "stream",
     "text": [
      "Saved: E:\\KreupAI\\DAta\\ownplayerstat\\Celta Vigo vs Barcelona.csv\n"
     ]
    },
    {
     "name": "stderr",
     "output_type": "stream",
     "text": [
      "C:\\Users\\kevin\\AppData\\Local\\Temp\\ipykernel_23208\\70385047.py:89: FutureWarning: DataFrame.applymap has been deprecated. Use DataFrame.map instead.\n",
      "  expanded_dff = expanded_dff.applymap(convert_if_number)\n"
     ]
    },
    {
     "name": "stdout",
     "output_type": "stream",
     "text": [
      "Saved: E:\\KreupAI\\DAta\\ownplayerstat\\Celta Vigo vs Deportivo Alaves.csv\n"
     ]
    },
    {
     "name": "stderr",
     "output_type": "stream",
     "text": [
      "C:\\Users\\kevin\\AppData\\Local\\Temp\\ipykernel_23208\\70385047.py:89: FutureWarning: DataFrame.applymap has been deprecated. Use DataFrame.map instead.\n",
      "  expanded_dff = expanded_dff.applymap(convert_if_number)\n"
     ]
    },
    {
     "name": "stdout",
     "output_type": "stream",
     "text": [
      "Saved: E:\\KreupAI\\DAta\\ownplayerstat\\Celta Vigo vs Espanyol.csv\n"
     ]
    },
    {
     "name": "stderr",
     "output_type": "stream",
     "text": [
      "C:\\Users\\kevin\\AppData\\Local\\Temp\\ipykernel_23208\\70385047.py:89: FutureWarning: DataFrame.applymap has been deprecated. Use DataFrame.map instead.\n",
      "  expanded_dff = expanded_dff.applymap(convert_if_number)\n"
     ]
    },
    {
     "name": "stdout",
     "output_type": "stream",
     "text": [
      "Saved: E:\\KreupAI\\DAta\\ownplayerstat\\Celta Vigo vs Getafe.csv\n"
     ]
    },
    {
     "name": "stderr",
     "output_type": "stream",
     "text": [
      "C:\\Users\\kevin\\AppData\\Local\\Temp\\ipykernel_23208\\70385047.py:89: FutureWarning: DataFrame.applymap has been deprecated. Use DataFrame.map instead.\n",
      "  expanded_dff = expanded_dff.applymap(convert_if_number)\n"
     ]
    },
    {
     "name": "stdout",
     "output_type": "stream",
     "text": [
      "Saved: E:\\KreupAI\\DAta\\ownplayerstat\\Celta Vigo vs Girona.csv\n"
     ]
    },
    {
     "name": "stderr",
     "output_type": "stream",
     "text": [
      "C:\\Users\\kevin\\AppData\\Local\\Temp\\ipykernel_23208\\70385047.py:89: FutureWarning: DataFrame.applymap has been deprecated. Use DataFrame.map instead.\n",
      "  expanded_dff = expanded_dff.applymap(convert_if_number)\n"
     ]
    },
    {
     "name": "stdout",
     "output_type": "stream",
     "text": [
      "Saved: E:\\KreupAI\\DAta\\ownplayerstat\\Celta Vigo vs Las Palmas.csv\n"
     ]
    },
    {
     "name": "stderr",
     "output_type": "stream",
     "text": [
      "C:\\Users\\kevin\\AppData\\Local\\Temp\\ipykernel_23208\\70385047.py:89: FutureWarning: DataFrame.applymap has been deprecated. Use DataFrame.map instead.\n",
      "  expanded_dff = expanded_dff.applymap(convert_if_number)\n"
     ]
    },
    {
     "name": "stdout",
     "output_type": "stream",
     "text": [
      "Saved: E:\\KreupAI\\DAta\\ownplayerstat\\Celta Vigo vs Leganes.csv\n"
     ]
    },
    {
     "name": "stderr",
     "output_type": "stream",
     "text": [
      "C:\\Users\\kevin\\AppData\\Local\\Temp\\ipykernel_23208\\70385047.py:89: FutureWarning: DataFrame.applymap has been deprecated. Use DataFrame.map instead.\n",
      "  expanded_dff = expanded_dff.applymap(convert_if_number)\n"
     ]
    },
    {
     "name": "stdout",
     "output_type": "stream",
     "text": [
      "Saved: E:\\KreupAI\\DAta\\ownplayerstat\\Celta Vigo vs Mallorca.csv\n"
     ]
    },
    {
     "name": "stderr",
     "output_type": "stream",
     "text": [
      "C:\\Users\\kevin\\AppData\\Local\\Temp\\ipykernel_23208\\70385047.py:89: FutureWarning: DataFrame.applymap has been deprecated. Use DataFrame.map instead.\n",
      "  expanded_dff = expanded_dff.applymap(convert_if_number)\n"
     ]
    },
    {
     "name": "stdout",
     "output_type": "stream",
     "text": [
      "Saved: E:\\KreupAI\\DAta\\ownplayerstat\\Celta Vigo vs Osasuna.csv\n"
     ]
    },
    {
     "name": "stderr",
     "output_type": "stream",
     "text": [
      "C:\\Users\\kevin\\AppData\\Local\\Temp\\ipykernel_23208\\70385047.py:89: FutureWarning: DataFrame.applymap has been deprecated. Use DataFrame.map instead.\n",
      "  expanded_dff = expanded_dff.applymap(convert_if_number)\n"
     ]
    },
    {
     "name": "stdout",
     "output_type": "stream",
     "text": [
      "Saved: E:\\KreupAI\\DAta\\ownplayerstat\\Celta Vigo vs Rayo Vallecano.csv\n"
     ]
    },
    {
     "name": "stderr",
     "output_type": "stream",
     "text": [
      "C:\\Users\\kevin\\AppData\\Local\\Temp\\ipykernel_23208\\70385047.py:89: FutureWarning: DataFrame.applymap has been deprecated. Use DataFrame.map instead.\n",
      "  expanded_dff = expanded_dff.applymap(convert_if_number)\n"
     ]
    },
    {
     "name": "stdout",
     "output_type": "stream",
     "text": [
      "Saved: E:\\KreupAI\\DAta\\ownplayerstat\\Celta Vigo vs Real Betis.csv\n"
     ]
    },
    {
     "name": "stderr",
     "output_type": "stream",
     "text": [
      "C:\\Users\\kevin\\AppData\\Local\\Temp\\ipykernel_23208\\70385047.py:89: FutureWarning: DataFrame.applymap has been deprecated. Use DataFrame.map instead.\n",
      "  expanded_dff = expanded_dff.applymap(convert_if_number)\n"
     ]
    },
    {
     "name": "stdout",
     "output_type": "stream",
     "text": [
      "Saved: E:\\KreupAI\\DAta\\ownplayerstat\\Celta Vigo vs Real Madrid.csv\n"
     ]
    },
    {
     "name": "stderr",
     "output_type": "stream",
     "text": [
      "C:\\Users\\kevin\\AppData\\Local\\Temp\\ipykernel_23208\\70385047.py:89: FutureWarning: DataFrame.applymap has been deprecated. Use DataFrame.map instead.\n",
      "  expanded_dff = expanded_dff.applymap(convert_if_number)\n"
     ]
    },
    {
     "name": "stdout",
     "output_type": "stream",
     "text": [
      "Saved: E:\\KreupAI\\DAta\\ownplayerstat\\Celta Vigo vs Real Sociedad.csv\n"
     ]
    },
    {
     "name": "stderr",
     "output_type": "stream",
     "text": [
      "C:\\Users\\kevin\\AppData\\Local\\Temp\\ipykernel_23208\\70385047.py:89: FutureWarning: DataFrame.applymap has been deprecated. Use DataFrame.map instead.\n",
      "  expanded_dff = expanded_dff.applymap(convert_if_number)\n"
     ]
    },
    {
     "name": "stdout",
     "output_type": "stream",
     "text": [
      "Saved: E:\\KreupAI\\DAta\\ownplayerstat\\Celta Vigo vs Real Valladolid.csv\n"
     ]
    },
    {
     "name": "stderr",
     "output_type": "stream",
     "text": [
      "C:\\Users\\kevin\\AppData\\Local\\Temp\\ipykernel_23208\\70385047.py:89: FutureWarning: DataFrame.applymap has been deprecated. Use DataFrame.map instead.\n",
      "  expanded_dff = expanded_dff.applymap(convert_if_number)\n"
     ]
    },
    {
     "name": "stdout",
     "output_type": "stream",
     "text": [
      "Saved: E:\\KreupAI\\DAta\\ownplayerstat\\Celta Vigo vs Sevilla.csv\n"
     ]
    },
    {
     "name": "stderr",
     "output_type": "stream",
     "text": [
      "C:\\Users\\kevin\\AppData\\Local\\Temp\\ipykernel_23208\\70385047.py:89: FutureWarning: DataFrame.applymap has been deprecated. Use DataFrame.map instead.\n",
      "  expanded_dff = expanded_dff.applymap(convert_if_number)\n"
     ]
    },
    {
     "name": "stdout",
     "output_type": "stream",
     "text": [
      "Saved: E:\\KreupAI\\DAta\\ownplayerstat\\Celta Vigo vs Valencia.csv\n"
     ]
    },
    {
     "name": "stderr",
     "output_type": "stream",
     "text": [
      "C:\\Users\\kevin\\AppData\\Local\\Temp\\ipykernel_23208\\70385047.py:89: FutureWarning: DataFrame.applymap has been deprecated. Use DataFrame.map instead.\n",
      "  expanded_dff = expanded_dff.applymap(convert_if_number)\n"
     ]
    },
    {
     "name": "stdout",
     "output_type": "stream",
     "text": [
      "Saved: E:\\KreupAI\\DAta\\ownplayerstat\\Celta Vigo vs Villarreal.csv\n"
     ]
    },
    {
     "name": "stderr",
     "output_type": "stream",
     "text": [
      "C:\\Users\\kevin\\AppData\\Local\\Temp\\ipykernel_23208\\70385047.py:89: FutureWarning: DataFrame.applymap has been deprecated. Use DataFrame.map instead.\n",
      "  expanded_dff = expanded_dff.applymap(convert_if_number)\n"
     ]
    },
    {
     "name": "stdout",
     "output_type": "stream",
     "text": [
      "Saved: E:\\KreupAI\\DAta\\ownplayerstat\\Deportivo Alaves vs Athletic Club.csv\n"
     ]
    },
    {
     "name": "stderr",
     "output_type": "stream",
     "text": [
      "C:\\Users\\kevin\\AppData\\Local\\Temp\\ipykernel_23208\\70385047.py:89: FutureWarning: DataFrame.applymap has been deprecated. Use DataFrame.map instead.\n",
      "  expanded_dff = expanded_dff.applymap(convert_if_number)\n"
     ]
    },
    {
     "name": "stdout",
     "output_type": "stream",
     "text": [
      "Saved: E:\\KreupAI\\DAta\\ownplayerstat\\Deportivo Alaves vs Atletico.csv\n"
     ]
    },
    {
     "name": "stderr",
     "output_type": "stream",
     "text": [
      "C:\\Users\\kevin\\AppData\\Local\\Temp\\ipykernel_23208\\70385047.py:89: FutureWarning: DataFrame.applymap has been deprecated. Use DataFrame.map instead.\n",
      "  expanded_dff = expanded_dff.applymap(convert_if_number)\n"
     ]
    },
    {
     "name": "stdout",
     "output_type": "stream",
     "text": [
      "Saved: E:\\KreupAI\\DAta\\ownplayerstat\\Deportivo Alaves vs Barcelona.csv\n"
     ]
    },
    {
     "name": "stderr",
     "output_type": "stream",
     "text": [
      "C:\\Users\\kevin\\AppData\\Local\\Temp\\ipykernel_23208\\70385047.py:89: FutureWarning: DataFrame.applymap has been deprecated. Use DataFrame.map instead.\n",
      "  expanded_dff = expanded_dff.applymap(convert_if_number)\n"
     ]
    },
    {
     "name": "stdout",
     "output_type": "stream",
     "text": [
      "Saved: E:\\KreupAI\\DAta\\ownplayerstat\\Deportivo Alaves vs Celta Vigo.csv\n"
     ]
    },
    {
     "name": "stderr",
     "output_type": "stream",
     "text": [
      "C:\\Users\\kevin\\AppData\\Local\\Temp\\ipykernel_23208\\70385047.py:89: FutureWarning: DataFrame.applymap has been deprecated. Use DataFrame.map instead.\n",
      "  expanded_dff = expanded_dff.applymap(convert_if_number)\n"
     ]
    },
    {
     "name": "stdout",
     "output_type": "stream",
     "text": [
      "Saved: E:\\KreupAI\\DAta\\ownplayerstat\\Deportivo Alaves vs Espanyol.csv\n"
     ]
    },
    {
     "name": "stderr",
     "output_type": "stream",
     "text": [
      "C:\\Users\\kevin\\AppData\\Local\\Temp\\ipykernel_23208\\70385047.py:89: FutureWarning: DataFrame.applymap has been deprecated. Use DataFrame.map instead.\n",
      "  expanded_dff = expanded_dff.applymap(convert_if_number)\n"
     ]
    },
    {
     "name": "stdout",
     "output_type": "stream",
     "text": [
      "Saved: E:\\KreupAI\\DAta\\ownplayerstat\\Deportivo Alaves vs Getafe.csv\n"
     ]
    },
    {
     "name": "stderr",
     "output_type": "stream",
     "text": [
      "C:\\Users\\kevin\\AppData\\Local\\Temp\\ipykernel_23208\\70385047.py:89: FutureWarning: DataFrame.applymap has been deprecated. Use DataFrame.map instead.\n",
      "  expanded_dff = expanded_dff.applymap(convert_if_number)\n"
     ]
    },
    {
     "name": "stdout",
     "output_type": "stream",
     "text": [
      "Saved: E:\\KreupAI\\DAta\\ownplayerstat\\Deportivo Alaves vs Girona.csv\n"
     ]
    },
    {
     "name": "stderr",
     "output_type": "stream",
     "text": [
      "C:\\Users\\kevin\\AppData\\Local\\Temp\\ipykernel_23208\\70385047.py:89: FutureWarning: DataFrame.applymap has been deprecated. Use DataFrame.map instead.\n",
      "  expanded_dff = expanded_dff.applymap(convert_if_number)\n"
     ]
    },
    {
     "name": "stdout",
     "output_type": "stream",
     "text": [
      "Saved: E:\\KreupAI\\DAta\\ownplayerstat\\Deportivo Alaves vs Las Palmas.csv\n"
     ]
    },
    {
     "name": "stderr",
     "output_type": "stream",
     "text": [
      "C:\\Users\\kevin\\AppData\\Local\\Temp\\ipykernel_23208\\70385047.py:89: FutureWarning: DataFrame.applymap has been deprecated. Use DataFrame.map instead.\n",
      "  expanded_dff = expanded_dff.applymap(convert_if_number)\n"
     ]
    },
    {
     "name": "stdout",
     "output_type": "stream",
     "text": [
      "Saved: E:\\KreupAI\\DAta\\ownplayerstat\\Deportivo Alaves vs Leganes.csv\n"
     ]
    },
    {
     "name": "stderr",
     "output_type": "stream",
     "text": [
      "C:\\Users\\kevin\\AppData\\Local\\Temp\\ipykernel_23208\\70385047.py:89: FutureWarning: DataFrame.applymap has been deprecated. Use DataFrame.map instead.\n",
      "  expanded_dff = expanded_dff.applymap(convert_if_number)\n"
     ]
    },
    {
     "name": "stdout",
     "output_type": "stream",
     "text": [
      "Saved: E:\\KreupAI\\DAta\\ownplayerstat\\Deportivo Alaves vs Mallorca.csv\n"
     ]
    },
    {
     "name": "stderr",
     "output_type": "stream",
     "text": [
      "C:\\Users\\kevin\\AppData\\Local\\Temp\\ipykernel_23208\\70385047.py:89: FutureWarning: DataFrame.applymap has been deprecated. Use DataFrame.map instead.\n",
      "  expanded_dff = expanded_dff.applymap(convert_if_number)\n"
     ]
    },
    {
     "name": "stdout",
     "output_type": "stream",
     "text": [
      "Saved: E:\\KreupAI\\DAta\\ownplayerstat\\Deportivo Alaves vs Osasuna.csv\n"
     ]
    },
    {
     "name": "stderr",
     "output_type": "stream",
     "text": [
      "C:\\Users\\kevin\\AppData\\Local\\Temp\\ipykernel_23208\\70385047.py:89: FutureWarning: DataFrame.applymap has been deprecated. Use DataFrame.map instead.\n",
      "  expanded_dff = expanded_dff.applymap(convert_if_number)\n"
     ]
    },
    {
     "name": "stdout",
     "output_type": "stream",
     "text": [
      "Saved: E:\\KreupAI\\DAta\\ownplayerstat\\Deportivo Alaves vs Rayo Vallecano.csv\n"
     ]
    },
    {
     "name": "stderr",
     "output_type": "stream",
     "text": [
      "C:\\Users\\kevin\\AppData\\Local\\Temp\\ipykernel_23208\\70385047.py:89: FutureWarning: DataFrame.applymap has been deprecated. Use DataFrame.map instead.\n",
      "  expanded_dff = expanded_dff.applymap(convert_if_number)\n"
     ]
    },
    {
     "name": "stdout",
     "output_type": "stream",
     "text": [
      "Saved: E:\\KreupAI\\DAta\\ownplayerstat\\Deportivo Alaves vs Real Betis.csv\n"
     ]
    },
    {
     "name": "stderr",
     "output_type": "stream",
     "text": [
      "C:\\Users\\kevin\\AppData\\Local\\Temp\\ipykernel_23208\\70385047.py:89: FutureWarning: DataFrame.applymap has been deprecated. Use DataFrame.map instead.\n",
      "  expanded_dff = expanded_dff.applymap(convert_if_number)\n"
     ]
    },
    {
     "name": "stdout",
     "output_type": "stream",
     "text": [
      "Saved: E:\\KreupAI\\DAta\\ownplayerstat\\Deportivo Alaves vs Real Madrid.csv\n"
     ]
    },
    {
     "name": "stderr",
     "output_type": "stream",
     "text": [
      "C:\\Users\\kevin\\AppData\\Local\\Temp\\ipykernel_23208\\70385047.py:89: FutureWarning: DataFrame.applymap has been deprecated. Use DataFrame.map instead.\n",
      "  expanded_dff = expanded_dff.applymap(convert_if_number)\n"
     ]
    },
    {
     "name": "stdout",
     "output_type": "stream",
     "text": [
      "Saved: E:\\KreupAI\\DAta\\ownplayerstat\\Deportivo Alaves vs Real Sociedad.csv\n"
     ]
    },
    {
     "name": "stderr",
     "output_type": "stream",
     "text": [
      "C:\\Users\\kevin\\AppData\\Local\\Temp\\ipykernel_23208\\70385047.py:89: FutureWarning: DataFrame.applymap has been deprecated. Use DataFrame.map instead.\n",
      "  expanded_dff = expanded_dff.applymap(convert_if_number)\n"
     ]
    },
    {
     "name": "stdout",
     "output_type": "stream",
     "text": [
      "Saved: E:\\KreupAI\\DAta\\ownplayerstat\\Deportivo Alaves vs Real Valladolid.csv\n"
     ]
    },
    {
     "name": "stderr",
     "output_type": "stream",
     "text": [
      "C:\\Users\\kevin\\AppData\\Local\\Temp\\ipykernel_23208\\70385047.py:89: FutureWarning: DataFrame.applymap has been deprecated. Use DataFrame.map instead.\n",
      "  expanded_dff = expanded_dff.applymap(convert_if_number)\n"
     ]
    },
    {
     "name": "stdout",
     "output_type": "stream",
     "text": [
      "Saved: E:\\KreupAI\\DAta\\ownplayerstat\\Deportivo Alaves vs Sevilla.csv\n"
     ]
    },
    {
     "name": "stderr",
     "output_type": "stream",
     "text": [
      "C:\\Users\\kevin\\AppData\\Local\\Temp\\ipykernel_23208\\70385047.py:89: FutureWarning: DataFrame.applymap has been deprecated. Use DataFrame.map instead.\n",
      "  expanded_dff = expanded_dff.applymap(convert_if_number)\n"
     ]
    },
    {
     "name": "stdout",
     "output_type": "stream",
     "text": [
      "Saved: E:\\KreupAI\\DAta\\ownplayerstat\\Deportivo Alaves vs Valencia.csv\n"
     ]
    },
    {
     "name": "stderr",
     "output_type": "stream",
     "text": [
      "C:\\Users\\kevin\\AppData\\Local\\Temp\\ipykernel_23208\\70385047.py:89: FutureWarning: DataFrame.applymap has been deprecated. Use DataFrame.map instead.\n",
      "  expanded_dff = expanded_dff.applymap(convert_if_number)\n"
     ]
    },
    {
     "name": "stdout",
     "output_type": "stream",
     "text": [
      "Saved: E:\\KreupAI\\DAta\\ownplayerstat\\Deportivo Alaves vs Villarreal.csv\n"
     ]
    },
    {
     "name": "stderr",
     "output_type": "stream",
     "text": [
      "C:\\Users\\kevin\\AppData\\Local\\Temp\\ipykernel_23208\\70385047.py:89: FutureWarning: DataFrame.applymap has been deprecated. Use DataFrame.map instead.\n",
      "  expanded_dff = expanded_dff.applymap(convert_if_number)\n"
     ]
    },
    {
     "name": "stdout",
     "output_type": "stream",
     "text": [
      "Saved: E:\\KreupAI\\DAta\\ownplayerstat\\Espanyol vs Athletic Club.csv\n"
     ]
    },
    {
     "name": "stderr",
     "output_type": "stream",
     "text": [
      "C:\\Users\\kevin\\AppData\\Local\\Temp\\ipykernel_23208\\70385047.py:89: FutureWarning: DataFrame.applymap has been deprecated. Use DataFrame.map instead.\n",
      "  expanded_dff = expanded_dff.applymap(convert_if_number)\n"
     ]
    },
    {
     "name": "stdout",
     "output_type": "stream",
     "text": [
      "Saved: E:\\KreupAI\\DAta\\ownplayerstat\\Espanyol vs Atletico.csv\n"
     ]
    },
    {
     "name": "stderr",
     "output_type": "stream",
     "text": [
      "C:\\Users\\kevin\\AppData\\Local\\Temp\\ipykernel_23208\\70385047.py:89: FutureWarning: DataFrame.applymap has been deprecated. Use DataFrame.map instead.\n",
      "  expanded_dff = expanded_dff.applymap(convert_if_number)\n"
     ]
    },
    {
     "name": "stdout",
     "output_type": "stream",
     "text": [
      "Saved: E:\\KreupAI\\DAta\\ownplayerstat\\Espanyol vs Barcelona.csv\n"
     ]
    },
    {
     "name": "stderr",
     "output_type": "stream",
     "text": [
      "C:\\Users\\kevin\\AppData\\Local\\Temp\\ipykernel_23208\\70385047.py:89: FutureWarning: DataFrame.applymap has been deprecated. Use DataFrame.map instead.\n",
      "  expanded_dff = expanded_dff.applymap(convert_if_number)\n"
     ]
    },
    {
     "name": "stdout",
     "output_type": "stream",
     "text": [
      "Saved: E:\\KreupAI\\DAta\\ownplayerstat\\Espanyol vs Celta Vigo.csv\n"
     ]
    },
    {
     "name": "stderr",
     "output_type": "stream",
     "text": [
      "C:\\Users\\kevin\\AppData\\Local\\Temp\\ipykernel_23208\\70385047.py:89: FutureWarning: DataFrame.applymap has been deprecated. Use DataFrame.map instead.\n",
      "  expanded_dff = expanded_dff.applymap(convert_if_number)\n"
     ]
    },
    {
     "name": "stdout",
     "output_type": "stream",
     "text": [
      "Saved: E:\\KreupAI\\DAta\\ownplayerstat\\Espanyol vs Deportivo Alaves.csv\n"
     ]
    },
    {
     "name": "stderr",
     "output_type": "stream",
     "text": [
      "C:\\Users\\kevin\\AppData\\Local\\Temp\\ipykernel_23208\\70385047.py:89: FutureWarning: DataFrame.applymap has been deprecated. Use DataFrame.map instead.\n",
      "  expanded_dff = expanded_dff.applymap(convert_if_number)\n"
     ]
    },
    {
     "name": "stdout",
     "output_type": "stream",
     "text": [
      "Saved: E:\\KreupAI\\DAta\\ownplayerstat\\Espanyol vs Getafe.csv\n"
     ]
    },
    {
     "name": "stderr",
     "output_type": "stream",
     "text": [
      "C:\\Users\\kevin\\AppData\\Local\\Temp\\ipykernel_23208\\70385047.py:89: FutureWarning: DataFrame.applymap has been deprecated. Use DataFrame.map instead.\n",
      "  expanded_dff = expanded_dff.applymap(convert_if_number)\n"
     ]
    },
    {
     "name": "stdout",
     "output_type": "stream",
     "text": [
      "Saved: E:\\KreupAI\\DAta\\ownplayerstat\\Espanyol vs Girona.csv\n"
     ]
    },
    {
     "name": "stderr",
     "output_type": "stream",
     "text": [
      "C:\\Users\\kevin\\AppData\\Local\\Temp\\ipykernel_23208\\70385047.py:89: FutureWarning: DataFrame.applymap has been deprecated. Use DataFrame.map instead.\n",
      "  expanded_dff = expanded_dff.applymap(convert_if_number)\n"
     ]
    },
    {
     "name": "stdout",
     "output_type": "stream",
     "text": [
      "Saved: E:\\KreupAI\\DAta\\ownplayerstat\\Espanyol vs Las Palmas.csv\n"
     ]
    },
    {
     "name": "stderr",
     "output_type": "stream",
     "text": [
      "C:\\Users\\kevin\\AppData\\Local\\Temp\\ipykernel_23208\\70385047.py:89: FutureWarning: DataFrame.applymap has been deprecated. Use DataFrame.map instead.\n",
      "  expanded_dff = expanded_dff.applymap(convert_if_number)\n"
     ]
    },
    {
     "name": "stdout",
     "output_type": "stream",
     "text": [
      "Saved: E:\\KreupAI\\DAta\\ownplayerstat\\Espanyol vs Leganes.csv\n"
     ]
    },
    {
     "name": "stderr",
     "output_type": "stream",
     "text": [
      "C:\\Users\\kevin\\AppData\\Local\\Temp\\ipykernel_23208\\70385047.py:89: FutureWarning: DataFrame.applymap has been deprecated. Use DataFrame.map instead.\n",
      "  expanded_dff = expanded_dff.applymap(convert_if_number)\n"
     ]
    },
    {
     "name": "stdout",
     "output_type": "stream",
     "text": [
      "Saved: E:\\KreupAI\\DAta\\ownplayerstat\\Espanyol vs Mallorca.csv\n"
     ]
    },
    {
     "name": "stderr",
     "output_type": "stream",
     "text": [
      "C:\\Users\\kevin\\AppData\\Local\\Temp\\ipykernel_23208\\70385047.py:89: FutureWarning: DataFrame.applymap has been deprecated. Use DataFrame.map instead.\n",
      "  expanded_dff = expanded_dff.applymap(convert_if_number)\n"
     ]
    },
    {
     "name": "stdout",
     "output_type": "stream",
     "text": [
      "Saved: E:\\KreupAI\\DAta\\ownplayerstat\\Espanyol vs Osasuna.csv\n"
     ]
    },
    {
     "name": "stderr",
     "output_type": "stream",
     "text": [
      "C:\\Users\\kevin\\AppData\\Local\\Temp\\ipykernel_23208\\70385047.py:89: FutureWarning: DataFrame.applymap has been deprecated. Use DataFrame.map instead.\n",
      "  expanded_dff = expanded_dff.applymap(convert_if_number)\n"
     ]
    },
    {
     "name": "stdout",
     "output_type": "stream",
     "text": [
      "Saved: E:\\KreupAI\\DAta\\ownplayerstat\\Espanyol vs Rayo Vallecano.csv\n"
     ]
    },
    {
     "name": "stderr",
     "output_type": "stream",
     "text": [
      "C:\\Users\\kevin\\AppData\\Local\\Temp\\ipykernel_23208\\70385047.py:89: FutureWarning: DataFrame.applymap has been deprecated. Use DataFrame.map instead.\n",
      "  expanded_dff = expanded_dff.applymap(convert_if_number)\n"
     ]
    },
    {
     "name": "stdout",
     "output_type": "stream",
     "text": [
      "Saved: E:\\KreupAI\\DAta\\ownplayerstat\\Espanyol vs Real Betis.csv\n"
     ]
    },
    {
     "name": "stderr",
     "output_type": "stream",
     "text": [
      "C:\\Users\\kevin\\AppData\\Local\\Temp\\ipykernel_23208\\70385047.py:89: FutureWarning: DataFrame.applymap has been deprecated. Use DataFrame.map instead.\n",
      "  expanded_dff = expanded_dff.applymap(convert_if_number)\n"
     ]
    },
    {
     "name": "stdout",
     "output_type": "stream",
     "text": [
      "Saved: E:\\KreupAI\\DAta\\ownplayerstat\\Espanyol vs Real Madrid.csv\n"
     ]
    },
    {
     "name": "stderr",
     "output_type": "stream",
     "text": [
      "C:\\Users\\kevin\\AppData\\Local\\Temp\\ipykernel_23208\\70385047.py:89: FutureWarning: DataFrame.applymap has been deprecated. Use DataFrame.map instead.\n",
      "  expanded_dff = expanded_dff.applymap(convert_if_number)\n"
     ]
    },
    {
     "name": "stdout",
     "output_type": "stream",
     "text": [
      "Saved: E:\\KreupAI\\DAta\\ownplayerstat\\Espanyol vs Real Sociedad.csv\n"
     ]
    },
    {
     "name": "stderr",
     "output_type": "stream",
     "text": [
      "C:\\Users\\kevin\\AppData\\Local\\Temp\\ipykernel_23208\\70385047.py:89: FutureWarning: DataFrame.applymap has been deprecated. Use DataFrame.map instead.\n",
      "  expanded_dff = expanded_dff.applymap(convert_if_number)\n"
     ]
    },
    {
     "name": "stdout",
     "output_type": "stream",
     "text": [
      "Saved: E:\\KreupAI\\DAta\\ownplayerstat\\Espanyol vs Real Valladolid.csv\n"
     ]
    },
    {
     "name": "stderr",
     "output_type": "stream",
     "text": [
      "C:\\Users\\kevin\\AppData\\Local\\Temp\\ipykernel_23208\\70385047.py:89: FutureWarning: DataFrame.applymap has been deprecated. Use DataFrame.map instead.\n",
      "  expanded_dff = expanded_dff.applymap(convert_if_number)\n"
     ]
    },
    {
     "name": "stdout",
     "output_type": "stream",
     "text": [
      "Saved: E:\\KreupAI\\DAta\\ownplayerstat\\Espanyol vs Sevilla.csv\n"
     ]
    },
    {
     "name": "stderr",
     "output_type": "stream",
     "text": [
      "C:\\Users\\kevin\\AppData\\Local\\Temp\\ipykernel_23208\\70385047.py:89: FutureWarning: DataFrame.applymap has been deprecated. Use DataFrame.map instead.\n",
      "  expanded_dff = expanded_dff.applymap(convert_if_number)\n"
     ]
    },
    {
     "name": "stdout",
     "output_type": "stream",
     "text": [
      "Saved: E:\\KreupAI\\DAta\\ownplayerstat\\Espanyol vs Valencia.csv\n"
     ]
    },
    {
     "name": "stderr",
     "output_type": "stream",
     "text": [
      "C:\\Users\\kevin\\AppData\\Local\\Temp\\ipykernel_23208\\70385047.py:89: FutureWarning: DataFrame.applymap has been deprecated. Use DataFrame.map instead.\n",
      "  expanded_dff = expanded_dff.applymap(convert_if_number)\n"
     ]
    },
    {
     "name": "stdout",
     "output_type": "stream",
     "text": [
      "Saved: E:\\KreupAI\\DAta\\ownplayerstat\\Espanyol vs Villarreal.csv\n"
     ]
    },
    {
     "name": "stderr",
     "output_type": "stream",
     "text": [
      "C:\\Users\\kevin\\AppData\\Local\\Temp\\ipykernel_23208\\70385047.py:89: FutureWarning: DataFrame.applymap has been deprecated. Use DataFrame.map instead.\n",
      "  expanded_dff = expanded_dff.applymap(convert_if_number)\n"
     ]
    },
    {
     "name": "stdout",
     "output_type": "stream",
     "text": [
      "Saved: E:\\KreupAI\\DAta\\ownplayerstat\\Getafe vs Athletic Club.csv\n"
     ]
    },
    {
     "name": "stderr",
     "output_type": "stream",
     "text": [
      "C:\\Users\\kevin\\AppData\\Local\\Temp\\ipykernel_23208\\70385047.py:89: FutureWarning: DataFrame.applymap has been deprecated. Use DataFrame.map instead.\n",
      "  expanded_dff = expanded_dff.applymap(convert_if_number)\n"
     ]
    },
    {
     "name": "stdout",
     "output_type": "stream",
     "text": [
      "Saved: E:\\KreupAI\\DAta\\ownplayerstat\\Getafe vs Atletico.csv\n"
     ]
    },
    {
     "name": "stderr",
     "output_type": "stream",
     "text": [
      "C:\\Users\\kevin\\AppData\\Local\\Temp\\ipykernel_23208\\70385047.py:89: FutureWarning: DataFrame.applymap has been deprecated. Use DataFrame.map instead.\n",
      "  expanded_dff = expanded_dff.applymap(convert_if_number)\n"
     ]
    },
    {
     "name": "stdout",
     "output_type": "stream",
     "text": [
      "Saved: E:\\KreupAI\\DAta\\ownplayerstat\\Getafe vs Barcelona.csv\n"
     ]
    },
    {
     "name": "stderr",
     "output_type": "stream",
     "text": [
      "C:\\Users\\kevin\\AppData\\Local\\Temp\\ipykernel_23208\\70385047.py:89: FutureWarning: DataFrame.applymap has been deprecated. Use DataFrame.map instead.\n",
      "  expanded_dff = expanded_dff.applymap(convert_if_number)\n"
     ]
    },
    {
     "name": "stdout",
     "output_type": "stream",
     "text": [
      "Saved: E:\\KreupAI\\DAta\\ownplayerstat\\Getafe vs Celta Vigo.csv\n"
     ]
    },
    {
     "name": "stderr",
     "output_type": "stream",
     "text": [
      "C:\\Users\\kevin\\AppData\\Local\\Temp\\ipykernel_23208\\70385047.py:89: FutureWarning: DataFrame.applymap has been deprecated. Use DataFrame.map instead.\n",
      "  expanded_dff = expanded_dff.applymap(convert_if_number)\n"
     ]
    },
    {
     "name": "stdout",
     "output_type": "stream",
     "text": [
      "Saved: E:\\KreupAI\\DAta\\ownplayerstat\\Getafe vs Deportivo Alaves.csv\n"
     ]
    },
    {
     "name": "stderr",
     "output_type": "stream",
     "text": [
      "C:\\Users\\kevin\\AppData\\Local\\Temp\\ipykernel_23208\\70385047.py:89: FutureWarning: DataFrame.applymap has been deprecated. Use DataFrame.map instead.\n",
      "  expanded_dff = expanded_dff.applymap(convert_if_number)\n"
     ]
    },
    {
     "name": "stdout",
     "output_type": "stream",
     "text": [
      "Saved: E:\\KreupAI\\DAta\\ownplayerstat\\Getafe vs Espanyol.csv\n"
     ]
    },
    {
     "name": "stderr",
     "output_type": "stream",
     "text": [
      "C:\\Users\\kevin\\AppData\\Local\\Temp\\ipykernel_23208\\70385047.py:89: FutureWarning: DataFrame.applymap has been deprecated. Use DataFrame.map instead.\n",
      "  expanded_dff = expanded_dff.applymap(convert_if_number)\n"
     ]
    },
    {
     "name": "stdout",
     "output_type": "stream",
     "text": [
      "Saved: E:\\KreupAI\\DAta\\ownplayerstat\\Getafe vs Girona.csv\n"
     ]
    },
    {
     "name": "stderr",
     "output_type": "stream",
     "text": [
      "C:\\Users\\kevin\\AppData\\Local\\Temp\\ipykernel_23208\\70385047.py:89: FutureWarning: DataFrame.applymap has been deprecated. Use DataFrame.map instead.\n",
      "  expanded_dff = expanded_dff.applymap(convert_if_number)\n"
     ]
    },
    {
     "name": "stdout",
     "output_type": "stream",
     "text": [
      "Saved: E:\\KreupAI\\DAta\\ownplayerstat\\Getafe vs Las Palmas.csv\n"
     ]
    },
    {
     "name": "stderr",
     "output_type": "stream",
     "text": [
      "C:\\Users\\kevin\\AppData\\Local\\Temp\\ipykernel_23208\\70385047.py:89: FutureWarning: DataFrame.applymap has been deprecated. Use DataFrame.map instead.\n",
      "  expanded_dff = expanded_dff.applymap(convert_if_number)\n"
     ]
    },
    {
     "name": "stdout",
     "output_type": "stream",
     "text": [
      "Saved: E:\\KreupAI\\DAta\\ownplayerstat\\Getafe vs Leganes.csv\n"
     ]
    },
    {
     "name": "stderr",
     "output_type": "stream",
     "text": [
      "C:\\Users\\kevin\\AppData\\Local\\Temp\\ipykernel_23208\\70385047.py:89: FutureWarning: DataFrame.applymap has been deprecated. Use DataFrame.map instead.\n",
      "  expanded_dff = expanded_dff.applymap(convert_if_number)\n"
     ]
    },
    {
     "name": "stdout",
     "output_type": "stream",
     "text": [
      "Saved: E:\\KreupAI\\DAta\\ownplayerstat\\Getafe vs Mallorca.csv\n"
     ]
    },
    {
     "name": "stderr",
     "output_type": "stream",
     "text": [
      "C:\\Users\\kevin\\AppData\\Local\\Temp\\ipykernel_23208\\70385047.py:89: FutureWarning: DataFrame.applymap has been deprecated. Use DataFrame.map instead.\n",
      "  expanded_dff = expanded_dff.applymap(convert_if_number)\n"
     ]
    },
    {
     "name": "stdout",
     "output_type": "stream",
     "text": [
      "Saved: E:\\KreupAI\\DAta\\ownplayerstat\\Getafe vs Osasuna.csv\n"
     ]
    },
    {
     "name": "stderr",
     "output_type": "stream",
     "text": [
      "C:\\Users\\kevin\\AppData\\Local\\Temp\\ipykernel_23208\\70385047.py:89: FutureWarning: DataFrame.applymap has been deprecated. Use DataFrame.map instead.\n",
      "  expanded_dff = expanded_dff.applymap(convert_if_number)\n"
     ]
    },
    {
     "name": "stdout",
     "output_type": "stream",
     "text": [
      "Saved: E:\\KreupAI\\DAta\\ownplayerstat\\Getafe vs Rayo Vallecano.csv\n"
     ]
    },
    {
     "name": "stderr",
     "output_type": "stream",
     "text": [
      "C:\\Users\\kevin\\AppData\\Local\\Temp\\ipykernel_23208\\70385047.py:89: FutureWarning: DataFrame.applymap has been deprecated. Use DataFrame.map instead.\n",
      "  expanded_dff = expanded_dff.applymap(convert_if_number)\n"
     ]
    },
    {
     "name": "stdout",
     "output_type": "stream",
     "text": [
      "Saved: E:\\KreupAI\\DAta\\ownplayerstat\\Getafe vs Real Betis.csv\n"
     ]
    },
    {
     "name": "stderr",
     "output_type": "stream",
     "text": [
      "C:\\Users\\kevin\\AppData\\Local\\Temp\\ipykernel_23208\\70385047.py:89: FutureWarning: DataFrame.applymap has been deprecated. Use DataFrame.map instead.\n",
      "  expanded_dff = expanded_dff.applymap(convert_if_number)\n"
     ]
    },
    {
     "name": "stdout",
     "output_type": "stream",
     "text": [
      "Saved: E:\\KreupAI\\DAta\\ownplayerstat\\Getafe vs Real Madrid.csv\n"
     ]
    },
    {
     "name": "stderr",
     "output_type": "stream",
     "text": [
      "C:\\Users\\kevin\\AppData\\Local\\Temp\\ipykernel_23208\\70385047.py:89: FutureWarning: DataFrame.applymap has been deprecated. Use DataFrame.map instead.\n",
      "  expanded_dff = expanded_dff.applymap(convert_if_number)\n"
     ]
    },
    {
     "name": "stdout",
     "output_type": "stream",
     "text": [
      "Saved: E:\\KreupAI\\DAta\\ownplayerstat\\Getafe vs Real Sociedad.csv\n"
     ]
    },
    {
     "name": "stderr",
     "output_type": "stream",
     "text": [
      "C:\\Users\\kevin\\AppData\\Local\\Temp\\ipykernel_23208\\70385047.py:89: FutureWarning: DataFrame.applymap has been deprecated. Use DataFrame.map instead.\n",
      "  expanded_dff = expanded_dff.applymap(convert_if_number)\n"
     ]
    },
    {
     "name": "stdout",
     "output_type": "stream",
     "text": [
      "Saved: E:\\KreupAI\\DAta\\ownplayerstat\\Getafe vs Real Valladolid.csv\n"
     ]
    },
    {
     "name": "stderr",
     "output_type": "stream",
     "text": [
      "C:\\Users\\kevin\\AppData\\Local\\Temp\\ipykernel_23208\\70385047.py:89: FutureWarning: DataFrame.applymap has been deprecated. Use DataFrame.map instead.\n",
      "  expanded_dff = expanded_dff.applymap(convert_if_number)\n"
     ]
    },
    {
     "name": "stdout",
     "output_type": "stream",
     "text": [
      "Saved: E:\\KreupAI\\DAta\\ownplayerstat\\Getafe vs Sevilla.csv\n"
     ]
    },
    {
     "name": "stderr",
     "output_type": "stream",
     "text": [
      "C:\\Users\\kevin\\AppData\\Local\\Temp\\ipykernel_23208\\70385047.py:89: FutureWarning: DataFrame.applymap has been deprecated. Use DataFrame.map instead.\n",
      "  expanded_dff = expanded_dff.applymap(convert_if_number)\n"
     ]
    },
    {
     "name": "stdout",
     "output_type": "stream",
     "text": [
      "Saved: E:\\KreupAI\\DAta\\ownplayerstat\\Getafe vs Valencia.csv\n"
     ]
    },
    {
     "name": "stderr",
     "output_type": "stream",
     "text": [
      "C:\\Users\\kevin\\AppData\\Local\\Temp\\ipykernel_23208\\70385047.py:89: FutureWarning: DataFrame.applymap has been deprecated. Use DataFrame.map instead.\n",
      "  expanded_dff = expanded_dff.applymap(convert_if_number)\n"
     ]
    },
    {
     "name": "stdout",
     "output_type": "stream",
     "text": [
      "Saved: E:\\KreupAI\\DAta\\ownplayerstat\\Getafe vs Villarreal.csv\n"
     ]
    },
    {
     "name": "stderr",
     "output_type": "stream",
     "text": [
      "C:\\Users\\kevin\\AppData\\Local\\Temp\\ipykernel_23208\\70385047.py:89: FutureWarning: DataFrame.applymap has been deprecated. Use DataFrame.map instead.\n",
      "  expanded_dff = expanded_dff.applymap(convert_if_number)\n"
     ]
    },
    {
     "name": "stdout",
     "output_type": "stream",
     "text": [
      "Saved: E:\\KreupAI\\DAta\\ownplayerstat\\Girona vs Athletic Club.csv\n"
     ]
    },
    {
     "name": "stderr",
     "output_type": "stream",
     "text": [
      "C:\\Users\\kevin\\AppData\\Local\\Temp\\ipykernel_23208\\70385047.py:89: FutureWarning: DataFrame.applymap has been deprecated. Use DataFrame.map instead.\n",
      "  expanded_dff = expanded_dff.applymap(convert_if_number)\n"
     ]
    },
    {
     "name": "stdout",
     "output_type": "stream",
     "text": [
      "Saved: E:\\KreupAI\\DAta\\ownplayerstat\\Girona vs Atletico.csv\n"
     ]
    },
    {
     "name": "stderr",
     "output_type": "stream",
     "text": [
      "C:\\Users\\kevin\\AppData\\Local\\Temp\\ipykernel_23208\\70385047.py:89: FutureWarning: DataFrame.applymap has been deprecated. Use DataFrame.map instead.\n",
      "  expanded_dff = expanded_dff.applymap(convert_if_number)\n"
     ]
    },
    {
     "name": "stdout",
     "output_type": "stream",
     "text": [
      "Saved: E:\\KreupAI\\DAta\\ownplayerstat\\Girona vs Barcelona.csv\n"
     ]
    },
    {
     "name": "stderr",
     "output_type": "stream",
     "text": [
      "C:\\Users\\kevin\\AppData\\Local\\Temp\\ipykernel_23208\\70385047.py:89: FutureWarning: DataFrame.applymap has been deprecated. Use DataFrame.map instead.\n",
      "  expanded_dff = expanded_dff.applymap(convert_if_number)\n"
     ]
    },
    {
     "name": "stdout",
     "output_type": "stream",
     "text": [
      "Saved: E:\\KreupAI\\DAta\\ownplayerstat\\Girona vs Celta Vigo.csv\n"
     ]
    },
    {
     "name": "stderr",
     "output_type": "stream",
     "text": [
      "C:\\Users\\kevin\\AppData\\Local\\Temp\\ipykernel_23208\\70385047.py:89: FutureWarning: DataFrame.applymap has been deprecated. Use DataFrame.map instead.\n",
      "  expanded_dff = expanded_dff.applymap(convert_if_number)\n"
     ]
    },
    {
     "name": "stdout",
     "output_type": "stream",
     "text": [
      "Saved: E:\\KreupAI\\DAta\\ownplayerstat\\Girona vs Deportivo Alaves.csv\n"
     ]
    },
    {
     "name": "stderr",
     "output_type": "stream",
     "text": [
      "C:\\Users\\kevin\\AppData\\Local\\Temp\\ipykernel_23208\\70385047.py:89: FutureWarning: DataFrame.applymap has been deprecated. Use DataFrame.map instead.\n",
      "  expanded_dff = expanded_dff.applymap(convert_if_number)\n"
     ]
    },
    {
     "name": "stdout",
     "output_type": "stream",
     "text": [
      "Saved: E:\\KreupAI\\DAta\\ownplayerstat\\Girona vs Espanyol.csv\n"
     ]
    },
    {
     "name": "stderr",
     "output_type": "stream",
     "text": [
      "C:\\Users\\kevin\\AppData\\Local\\Temp\\ipykernel_23208\\70385047.py:89: FutureWarning: DataFrame.applymap has been deprecated. Use DataFrame.map instead.\n",
      "  expanded_dff = expanded_dff.applymap(convert_if_number)\n"
     ]
    },
    {
     "name": "stdout",
     "output_type": "stream",
     "text": [
      "Saved: E:\\KreupAI\\DAta\\ownplayerstat\\Girona vs Getafe.csv\n"
     ]
    },
    {
     "name": "stderr",
     "output_type": "stream",
     "text": [
      "C:\\Users\\kevin\\AppData\\Local\\Temp\\ipykernel_23208\\70385047.py:89: FutureWarning: DataFrame.applymap has been deprecated. Use DataFrame.map instead.\n",
      "  expanded_dff = expanded_dff.applymap(convert_if_number)\n"
     ]
    },
    {
     "name": "stdout",
     "output_type": "stream",
     "text": [
      "Saved: E:\\KreupAI\\DAta\\ownplayerstat\\Girona vs Las Palmas.csv\n"
     ]
    },
    {
     "name": "stderr",
     "output_type": "stream",
     "text": [
      "C:\\Users\\kevin\\AppData\\Local\\Temp\\ipykernel_23208\\70385047.py:89: FutureWarning: DataFrame.applymap has been deprecated. Use DataFrame.map instead.\n",
      "  expanded_dff = expanded_dff.applymap(convert_if_number)\n"
     ]
    },
    {
     "name": "stdout",
     "output_type": "stream",
     "text": [
      "Saved: E:\\KreupAI\\DAta\\ownplayerstat\\Girona vs Leganes.csv\n"
     ]
    },
    {
     "name": "stderr",
     "output_type": "stream",
     "text": [
      "C:\\Users\\kevin\\AppData\\Local\\Temp\\ipykernel_23208\\70385047.py:89: FutureWarning: DataFrame.applymap has been deprecated. Use DataFrame.map instead.\n",
      "  expanded_dff = expanded_dff.applymap(convert_if_number)\n"
     ]
    },
    {
     "name": "stdout",
     "output_type": "stream",
     "text": [
      "Saved: E:\\KreupAI\\DAta\\ownplayerstat\\Girona vs Mallorca.csv\n"
     ]
    },
    {
     "name": "stderr",
     "output_type": "stream",
     "text": [
      "C:\\Users\\kevin\\AppData\\Local\\Temp\\ipykernel_23208\\70385047.py:89: FutureWarning: DataFrame.applymap has been deprecated. Use DataFrame.map instead.\n",
      "  expanded_dff = expanded_dff.applymap(convert_if_number)\n"
     ]
    },
    {
     "name": "stdout",
     "output_type": "stream",
     "text": [
      "Saved: E:\\KreupAI\\DAta\\ownplayerstat\\Girona vs Osasuna.csv\n"
     ]
    },
    {
     "name": "stderr",
     "output_type": "stream",
     "text": [
      "C:\\Users\\kevin\\AppData\\Local\\Temp\\ipykernel_23208\\70385047.py:89: FutureWarning: DataFrame.applymap has been deprecated. Use DataFrame.map instead.\n",
      "  expanded_dff = expanded_dff.applymap(convert_if_number)\n"
     ]
    },
    {
     "name": "stdout",
     "output_type": "stream",
     "text": [
      "Saved: E:\\KreupAI\\DAta\\ownplayerstat\\Girona vs Rayo Vallecano.csv\n"
     ]
    },
    {
     "name": "stderr",
     "output_type": "stream",
     "text": [
      "C:\\Users\\kevin\\AppData\\Local\\Temp\\ipykernel_23208\\70385047.py:89: FutureWarning: DataFrame.applymap has been deprecated. Use DataFrame.map instead.\n",
      "  expanded_dff = expanded_dff.applymap(convert_if_number)\n"
     ]
    },
    {
     "name": "stdout",
     "output_type": "stream",
     "text": [
      "Saved: E:\\KreupAI\\DAta\\ownplayerstat\\Girona vs Real Betis.csv\n"
     ]
    },
    {
     "name": "stderr",
     "output_type": "stream",
     "text": [
      "C:\\Users\\kevin\\AppData\\Local\\Temp\\ipykernel_23208\\70385047.py:89: FutureWarning: DataFrame.applymap has been deprecated. Use DataFrame.map instead.\n",
      "  expanded_dff = expanded_dff.applymap(convert_if_number)\n"
     ]
    },
    {
     "name": "stdout",
     "output_type": "stream",
     "text": [
      "Saved: E:\\KreupAI\\DAta\\ownplayerstat\\Girona vs Real Madrid.csv\n"
     ]
    },
    {
     "name": "stderr",
     "output_type": "stream",
     "text": [
      "C:\\Users\\kevin\\AppData\\Local\\Temp\\ipykernel_23208\\70385047.py:89: FutureWarning: DataFrame.applymap has been deprecated. Use DataFrame.map instead.\n",
      "  expanded_dff = expanded_dff.applymap(convert_if_number)\n"
     ]
    },
    {
     "name": "stdout",
     "output_type": "stream",
     "text": [
      "Saved: E:\\KreupAI\\DAta\\ownplayerstat\\Girona vs Real Sociedad.csv\n"
     ]
    },
    {
     "name": "stderr",
     "output_type": "stream",
     "text": [
      "C:\\Users\\kevin\\AppData\\Local\\Temp\\ipykernel_23208\\70385047.py:89: FutureWarning: DataFrame.applymap has been deprecated. Use DataFrame.map instead.\n",
      "  expanded_dff = expanded_dff.applymap(convert_if_number)\n"
     ]
    },
    {
     "name": "stdout",
     "output_type": "stream",
     "text": [
      "Saved: E:\\KreupAI\\DAta\\ownplayerstat\\Girona vs Real Valladolid.csv\n"
     ]
    },
    {
     "name": "stderr",
     "output_type": "stream",
     "text": [
      "C:\\Users\\kevin\\AppData\\Local\\Temp\\ipykernel_23208\\70385047.py:89: FutureWarning: DataFrame.applymap has been deprecated. Use DataFrame.map instead.\n",
      "  expanded_dff = expanded_dff.applymap(convert_if_number)\n"
     ]
    },
    {
     "name": "stdout",
     "output_type": "stream",
     "text": [
      "Saved: E:\\KreupAI\\DAta\\ownplayerstat\\Girona vs Sevilla.csv\n"
     ]
    },
    {
     "name": "stderr",
     "output_type": "stream",
     "text": [
      "C:\\Users\\kevin\\AppData\\Local\\Temp\\ipykernel_23208\\70385047.py:89: FutureWarning: DataFrame.applymap has been deprecated. Use DataFrame.map instead.\n",
      "  expanded_dff = expanded_dff.applymap(convert_if_number)\n"
     ]
    },
    {
     "name": "stdout",
     "output_type": "stream",
     "text": [
      "Saved: E:\\KreupAI\\DAta\\ownplayerstat\\Girona vs Valencia.csv\n"
     ]
    },
    {
     "name": "stderr",
     "output_type": "stream",
     "text": [
      "C:\\Users\\kevin\\AppData\\Local\\Temp\\ipykernel_23208\\70385047.py:89: FutureWarning: DataFrame.applymap has been deprecated. Use DataFrame.map instead.\n",
      "  expanded_dff = expanded_dff.applymap(convert_if_number)\n"
     ]
    },
    {
     "name": "stdout",
     "output_type": "stream",
     "text": [
      "Saved: E:\\KreupAI\\DAta\\ownplayerstat\\Girona vs Villarreal.csv\n"
     ]
    },
    {
     "name": "stderr",
     "output_type": "stream",
     "text": [
      "C:\\Users\\kevin\\AppData\\Local\\Temp\\ipykernel_23208\\70385047.py:89: FutureWarning: DataFrame.applymap has been deprecated. Use DataFrame.map instead.\n",
      "  expanded_dff = expanded_dff.applymap(convert_if_number)\n"
     ]
    },
    {
     "name": "stdout",
     "output_type": "stream",
     "text": [
      "Saved: E:\\KreupAI\\DAta\\ownplayerstat\\Las Palmas vs Athletic Club.csv\n"
     ]
    },
    {
     "name": "stderr",
     "output_type": "stream",
     "text": [
      "C:\\Users\\kevin\\AppData\\Local\\Temp\\ipykernel_23208\\70385047.py:89: FutureWarning: DataFrame.applymap has been deprecated. Use DataFrame.map instead.\n",
      "  expanded_dff = expanded_dff.applymap(convert_if_number)\n"
     ]
    },
    {
     "name": "stdout",
     "output_type": "stream",
     "text": [
      "Saved: E:\\KreupAI\\DAta\\ownplayerstat\\Las Palmas vs Atletico.csv\n"
     ]
    },
    {
     "name": "stderr",
     "output_type": "stream",
     "text": [
      "C:\\Users\\kevin\\AppData\\Local\\Temp\\ipykernel_23208\\70385047.py:89: FutureWarning: DataFrame.applymap has been deprecated. Use DataFrame.map instead.\n",
      "  expanded_dff = expanded_dff.applymap(convert_if_number)\n"
     ]
    },
    {
     "name": "stdout",
     "output_type": "stream",
     "text": [
      "Saved: E:\\KreupAI\\DAta\\ownplayerstat\\Las Palmas vs Barcelona.csv\n"
     ]
    },
    {
     "name": "stderr",
     "output_type": "stream",
     "text": [
      "C:\\Users\\kevin\\AppData\\Local\\Temp\\ipykernel_23208\\70385047.py:89: FutureWarning: DataFrame.applymap has been deprecated. Use DataFrame.map instead.\n",
      "  expanded_dff = expanded_dff.applymap(convert_if_number)\n"
     ]
    },
    {
     "name": "stdout",
     "output_type": "stream",
     "text": [
      "Saved: E:\\KreupAI\\DAta\\ownplayerstat\\Las Palmas vs Celta Vigo.csv\n"
     ]
    },
    {
     "name": "stderr",
     "output_type": "stream",
     "text": [
      "C:\\Users\\kevin\\AppData\\Local\\Temp\\ipykernel_23208\\70385047.py:89: FutureWarning: DataFrame.applymap has been deprecated. Use DataFrame.map instead.\n",
      "  expanded_dff = expanded_dff.applymap(convert_if_number)\n"
     ]
    },
    {
     "name": "stdout",
     "output_type": "stream",
     "text": [
      "Saved: E:\\KreupAI\\DAta\\ownplayerstat\\Las Palmas vs Deportivo Alaves.csv\n"
     ]
    },
    {
     "name": "stderr",
     "output_type": "stream",
     "text": [
      "C:\\Users\\kevin\\AppData\\Local\\Temp\\ipykernel_23208\\70385047.py:89: FutureWarning: DataFrame.applymap has been deprecated. Use DataFrame.map instead.\n",
      "  expanded_dff = expanded_dff.applymap(convert_if_number)\n"
     ]
    },
    {
     "name": "stdout",
     "output_type": "stream",
     "text": [
      "Saved: E:\\KreupAI\\DAta\\ownplayerstat\\Las Palmas vs Espanyol.csv\n"
     ]
    },
    {
     "name": "stderr",
     "output_type": "stream",
     "text": [
      "C:\\Users\\kevin\\AppData\\Local\\Temp\\ipykernel_23208\\70385047.py:89: FutureWarning: DataFrame.applymap has been deprecated. Use DataFrame.map instead.\n",
      "  expanded_dff = expanded_dff.applymap(convert_if_number)\n"
     ]
    },
    {
     "name": "stdout",
     "output_type": "stream",
     "text": [
      "Saved: E:\\KreupAI\\DAta\\ownplayerstat\\Las Palmas vs Getafe.csv\n"
     ]
    },
    {
     "name": "stderr",
     "output_type": "stream",
     "text": [
      "C:\\Users\\kevin\\AppData\\Local\\Temp\\ipykernel_23208\\70385047.py:89: FutureWarning: DataFrame.applymap has been deprecated. Use DataFrame.map instead.\n",
      "  expanded_dff = expanded_dff.applymap(convert_if_number)\n"
     ]
    },
    {
     "name": "stdout",
     "output_type": "stream",
     "text": [
      "Saved: E:\\KreupAI\\DAta\\ownplayerstat\\Las Palmas vs Girona.csv\n"
     ]
    },
    {
     "name": "stderr",
     "output_type": "stream",
     "text": [
      "C:\\Users\\kevin\\AppData\\Local\\Temp\\ipykernel_23208\\70385047.py:89: FutureWarning: DataFrame.applymap has been deprecated. Use DataFrame.map instead.\n",
      "  expanded_dff = expanded_dff.applymap(convert_if_number)\n"
     ]
    },
    {
     "name": "stdout",
     "output_type": "stream",
     "text": [
      "Saved: E:\\KreupAI\\DAta\\ownplayerstat\\Las Palmas vs Leganes.csv\n"
     ]
    },
    {
     "name": "stderr",
     "output_type": "stream",
     "text": [
      "C:\\Users\\kevin\\AppData\\Local\\Temp\\ipykernel_23208\\70385047.py:89: FutureWarning: DataFrame.applymap has been deprecated. Use DataFrame.map instead.\n",
      "  expanded_dff = expanded_dff.applymap(convert_if_number)\n"
     ]
    },
    {
     "name": "stdout",
     "output_type": "stream",
     "text": [
      "Saved: E:\\KreupAI\\DAta\\ownplayerstat\\Las Palmas vs Mallorca.csv\n"
     ]
    },
    {
     "name": "stderr",
     "output_type": "stream",
     "text": [
      "C:\\Users\\kevin\\AppData\\Local\\Temp\\ipykernel_23208\\70385047.py:89: FutureWarning: DataFrame.applymap has been deprecated. Use DataFrame.map instead.\n",
      "  expanded_dff = expanded_dff.applymap(convert_if_number)\n"
     ]
    },
    {
     "name": "stdout",
     "output_type": "stream",
     "text": [
      "Saved: E:\\KreupAI\\DAta\\ownplayerstat\\Las Palmas vs Osasuna.csv\n"
     ]
    },
    {
     "name": "stderr",
     "output_type": "stream",
     "text": [
      "C:\\Users\\kevin\\AppData\\Local\\Temp\\ipykernel_23208\\70385047.py:89: FutureWarning: DataFrame.applymap has been deprecated. Use DataFrame.map instead.\n",
      "  expanded_dff = expanded_dff.applymap(convert_if_number)\n"
     ]
    },
    {
     "name": "stdout",
     "output_type": "stream",
     "text": [
      "Saved: E:\\KreupAI\\DAta\\ownplayerstat\\Las Palmas vs Rayo Vallecano.csv\n"
     ]
    },
    {
     "name": "stderr",
     "output_type": "stream",
     "text": [
      "C:\\Users\\kevin\\AppData\\Local\\Temp\\ipykernel_23208\\70385047.py:89: FutureWarning: DataFrame.applymap has been deprecated. Use DataFrame.map instead.\n",
      "  expanded_dff = expanded_dff.applymap(convert_if_number)\n"
     ]
    },
    {
     "name": "stdout",
     "output_type": "stream",
     "text": [
      "Saved: E:\\KreupAI\\DAta\\ownplayerstat\\Las Palmas vs Real Betis.csv\n"
     ]
    },
    {
     "name": "stderr",
     "output_type": "stream",
     "text": [
      "C:\\Users\\kevin\\AppData\\Local\\Temp\\ipykernel_23208\\70385047.py:89: FutureWarning: DataFrame.applymap has been deprecated. Use DataFrame.map instead.\n",
      "  expanded_dff = expanded_dff.applymap(convert_if_number)\n"
     ]
    },
    {
     "name": "stdout",
     "output_type": "stream",
     "text": [
      "Saved: E:\\KreupAI\\DAta\\ownplayerstat\\Las Palmas vs Real Madrid.csv\n"
     ]
    },
    {
     "name": "stderr",
     "output_type": "stream",
     "text": [
      "C:\\Users\\kevin\\AppData\\Local\\Temp\\ipykernel_23208\\70385047.py:89: FutureWarning: DataFrame.applymap has been deprecated. Use DataFrame.map instead.\n",
      "  expanded_dff = expanded_dff.applymap(convert_if_number)\n"
     ]
    },
    {
     "name": "stdout",
     "output_type": "stream",
     "text": [
      "Saved: E:\\KreupAI\\DAta\\ownplayerstat\\Las Palmas vs Real Sociedad.csv\n"
     ]
    },
    {
     "name": "stderr",
     "output_type": "stream",
     "text": [
      "C:\\Users\\kevin\\AppData\\Local\\Temp\\ipykernel_23208\\70385047.py:89: FutureWarning: DataFrame.applymap has been deprecated. Use DataFrame.map instead.\n",
      "  expanded_dff = expanded_dff.applymap(convert_if_number)\n"
     ]
    },
    {
     "name": "stdout",
     "output_type": "stream",
     "text": [
      "Saved: E:\\KreupAI\\DAta\\ownplayerstat\\Las Palmas vs Real Valladolid.csv\n"
     ]
    },
    {
     "name": "stderr",
     "output_type": "stream",
     "text": [
      "C:\\Users\\kevin\\AppData\\Local\\Temp\\ipykernel_23208\\70385047.py:89: FutureWarning: DataFrame.applymap has been deprecated. Use DataFrame.map instead.\n",
      "  expanded_dff = expanded_dff.applymap(convert_if_number)\n"
     ]
    },
    {
     "name": "stdout",
     "output_type": "stream",
     "text": [
      "Saved: E:\\KreupAI\\DAta\\ownplayerstat\\Las Palmas vs Sevilla.csv\n"
     ]
    },
    {
     "name": "stderr",
     "output_type": "stream",
     "text": [
      "C:\\Users\\kevin\\AppData\\Local\\Temp\\ipykernel_23208\\70385047.py:89: FutureWarning: DataFrame.applymap has been deprecated. Use DataFrame.map instead.\n",
      "  expanded_dff = expanded_dff.applymap(convert_if_number)\n"
     ]
    },
    {
     "name": "stdout",
     "output_type": "stream",
     "text": [
      "Saved: E:\\KreupAI\\DAta\\ownplayerstat\\Las Palmas vs Valencia.csv\n"
     ]
    },
    {
     "name": "stderr",
     "output_type": "stream",
     "text": [
      "C:\\Users\\kevin\\AppData\\Local\\Temp\\ipykernel_23208\\70385047.py:89: FutureWarning: DataFrame.applymap has been deprecated. Use DataFrame.map instead.\n",
      "  expanded_dff = expanded_dff.applymap(convert_if_number)\n"
     ]
    },
    {
     "name": "stdout",
     "output_type": "stream",
     "text": [
      "Saved: E:\\KreupAI\\DAta\\ownplayerstat\\Las Palmas vs Villarreal.csv\n"
     ]
    },
    {
     "name": "stderr",
     "output_type": "stream",
     "text": [
      "C:\\Users\\kevin\\AppData\\Local\\Temp\\ipykernel_23208\\70385047.py:89: FutureWarning: DataFrame.applymap has been deprecated. Use DataFrame.map instead.\n",
      "  expanded_dff = expanded_dff.applymap(convert_if_number)\n"
     ]
    },
    {
     "name": "stdout",
     "output_type": "stream",
     "text": [
      "Saved: E:\\KreupAI\\DAta\\ownplayerstat\\Leganes vs Athletic Club.csv\n"
     ]
    },
    {
     "name": "stderr",
     "output_type": "stream",
     "text": [
      "C:\\Users\\kevin\\AppData\\Local\\Temp\\ipykernel_23208\\70385047.py:89: FutureWarning: DataFrame.applymap has been deprecated. Use DataFrame.map instead.\n",
      "  expanded_dff = expanded_dff.applymap(convert_if_number)\n"
     ]
    },
    {
     "name": "stdout",
     "output_type": "stream",
     "text": [
      "Saved: E:\\KreupAI\\DAta\\ownplayerstat\\Leganes vs Atletico.csv\n"
     ]
    },
    {
     "name": "stderr",
     "output_type": "stream",
     "text": [
      "C:\\Users\\kevin\\AppData\\Local\\Temp\\ipykernel_23208\\70385047.py:89: FutureWarning: DataFrame.applymap has been deprecated. Use DataFrame.map instead.\n",
      "  expanded_dff = expanded_dff.applymap(convert_if_number)\n"
     ]
    },
    {
     "name": "stdout",
     "output_type": "stream",
     "text": [
      "Saved: E:\\KreupAI\\DAta\\ownplayerstat\\Leganes vs Barcelona.csv\n"
     ]
    },
    {
     "name": "stderr",
     "output_type": "stream",
     "text": [
      "C:\\Users\\kevin\\AppData\\Local\\Temp\\ipykernel_23208\\70385047.py:89: FutureWarning: DataFrame.applymap has been deprecated. Use DataFrame.map instead.\n",
      "  expanded_dff = expanded_dff.applymap(convert_if_number)\n"
     ]
    },
    {
     "name": "stdout",
     "output_type": "stream",
     "text": [
      "Saved: E:\\KreupAI\\DAta\\ownplayerstat\\Leganes vs Celta Vigo.csv\n"
     ]
    },
    {
     "name": "stderr",
     "output_type": "stream",
     "text": [
      "C:\\Users\\kevin\\AppData\\Local\\Temp\\ipykernel_23208\\70385047.py:89: FutureWarning: DataFrame.applymap has been deprecated. Use DataFrame.map instead.\n",
      "  expanded_dff = expanded_dff.applymap(convert_if_number)\n"
     ]
    },
    {
     "name": "stdout",
     "output_type": "stream",
     "text": [
      "Saved: E:\\KreupAI\\DAta\\ownplayerstat\\Leganes vs Deportivo Alaves.csv\n"
     ]
    },
    {
     "name": "stderr",
     "output_type": "stream",
     "text": [
      "C:\\Users\\kevin\\AppData\\Local\\Temp\\ipykernel_23208\\70385047.py:89: FutureWarning: DataFrame.applymap has been deprecated. Use DataFrame.map instead.\n",
      "  expanded_dff = expanded_dff.applymap(convert_if_number)\n"
     ]
    },
    {
     "name": "stdout",
     "output_type": "stream",
     "text": [
      "Saved: E:\\KreupAI\\DAta\\ownplayerstat\\Leganes vs Espanyol.csv\n"
     ]
    },
    {
     "name": "stderr",
     "output_type": "stream",
     "text": [
      "C:\\Users\\kevin\\AppData\\Local\\Temp\\ipykernel_23208\\70385047.py:89: FutureWarning: DataFrame.applymap has been deprecated. Use DataFrame.map instead.\n",
      "  expanded_dff = expanded_dff.applymap(convert_if_number)\n"
     ]
    },
    {
     "name": "stdout",
     "output_type": "stream",
     "text": [
      "Saved: E:\\KreupAI\\DAta\\ownplayerstat\\Leganes vs Getafe.csv\n"
     ]
    },
    {
     "name": "stderr",
     "output_type": "stream",
     "text": [
      "C:\\Users\\kevin\\AppData\\Local\\Temp\\ipykernel_23208\\70385047.py:89: FutureWarning: DataFrame.applymap has been deprecated. Use DataFrame.map instead.\n",
      "  expanded_dff = expanded_dff.applymap(convert_if_number)\n"
     ]
    },
    {
     "name": "stdout",
     "output_type": "stream",
     "text": [
      "Saved: E:\\KreupAI\\DAta\\ownplayerstat\\Leganes vs Girona.csv\n"
     ]
    },
    {
     "name": "stderr",
     "output_type": "stream",
     "text": [
      "C:\\Users\\kevin\\AppData\\Local\\Temp\\ipykernel_23208\\70385047.py:89: FutureWarning: DataFrame.applymap has been deprecated. Use DataFrame.map instead.\n",
      "  expanded_dff = expanded_dff.applymap(convert_if_number)\n"
     ]
    },
    {
     "name": "stdout",
     "output_type": "stream",
     "text": [
      "Saved: E:\\KreupAI\\DAta\\ownplayerstat\\Leganes vs Las Palmas.csv\n"
     ]
    },
    {
     "name": "stderr",
     "output_type": "stream",
     "text": [
      "C:\\Users\\kevin\\AppData\\Local\\Temp\\ipykernel_23208\\70385047.py:89: FutureWarning: DataFrame.applymap has been deprecated. Use DataFrame.map instead.\n",
      "  expanded_dff = expanded_dff.applymap(convert_if_number)\n"
     ]
    },
    {
     "name": "stdout",
     "output_type": "stream",
     "text": [
      "Saved: E:\\KreupAI\\DAta\\ownplayerstat\\Leganes vs Mallorca.csv\n"
     ]
    },
    {
     "name": "stderr",
     "output_type": "stream",
     "text": [
      "C:\\Users\\kevin\\AppData\\Local\\Temp\\ipykernel_23208\\70385047.py:89: FutureWarning: DataFrame.applymap has been deprecated. Use DataFrame.map instead.\n",
      "  expanded_dff = expanded_dff.applymap(convert_if_number)\n"
     ]
    },
    {
     "name": "stdout",
     "output_type": "stream",
     "text": [
      "Saved: E:\\KreupAI\\DAta\\ownplayerstat\\Leganes vs Osasuna.csv\n"
     ]
    },
    {
     "name": "stderr",
     "output_type": "stream",
     "text": [
      "C:\\Users\\kevin\\AppData\\Local\\Temp\\ipykernel_23208\\70385047.py:89: FutureWarning: DataFrame.applymap has been deprecated. Use DataFrame.map instead.\n",
      "  expanded_dff = expanded_dff.applymap(convert_if_number)\n"
     ]
    },
    {
     "name": "stdout",
     "output_type": "stream",
     "text": [
      "Saved: E:\\KreupAI\\DAta\\ownplayerstat\\Leganes vs Rayo Vallecano.csv\n"
     ]
    },
    {
     "name": "stderr",
     "output_type": "stream",
     "text": [
      "C:\\Users\\kevin\\AppData\\Local\\Temp\\ipykernel_23208\\70385047.py:89: FutureWarning: DataFrame.applymap has been deprecated. Use DataFrame.map instead.\n",
      "  expanded_dff = expanded_dff.applymap(convert_if_number)\n"
     ]
    },
    {
     "name": "stdout",
     "output_type": "stream",
     "text": [
      "Saved: E:\\KreupAI\\DAta\\ownplayerstat\\Leganes vs Real Betis.csv\n"
     ]
    },
    {
     "name": "stderr",
     "output_type": "stream",
     "text": [
      "C:\\Users\\kevin\\AppData\\Local\\Temp\\ipykernel_23208\\70385047.py:89: FutureWarning: DataFrame.applymap has been deprecated. Use DataFrame.map instead.\n",
      "  expanded_dff = expanded_dff.applymap(convert_if_number)\n"
     ]
    },
    {
     "name": "stdout",
     "output_type": "stream",
     "text": [
      "Saved: E:\\KreupAI\\DAta\\ownplayerstat\\Leganes vs Real Madrid.csv\n"
     ]
    },
    {
     "name": "stderr",
     "output_type": "stream",
     "text": [
      "C:\\Users\\kevin\\AppData\\Local\\Temp\\ipykernel_23208\\70385047.py:89: FutureWarning: DataFrame.applymap has been deprecated. Use DataFrame.map instead.\n",
      "  expanded_dff = expanded_dff.applymap(convert_if_number)\n"
     ]
    },
    {
     "name": "stdout",
     "output_type": "stream",
     "text": [
      "Saved: E:\\KreupAI\\DAta\\ownplayerstat\\Leganes vs Real Sociedad.csv\n"
     ]
    },
    {
     "name": "stderr",
     "output_type": "stream",
     "text": [
      "C:\\Users\\kevin\\AppData\\Local\\Temp\\ipykernel_23208\\70385047.py:89: FutureWarning: DataFrame.applymap has been deprecated. Use DataFrame.map instead.\n",
      "  expanded_dff = expanded_dff.applymap(convert_if_number)\n"
     ]
    },
    {
     "name": "stdout",
     "output_type": "stream",
     "text": [
      "Saved: E:\\KreupAI\\DAta\\ownplayerstat\\Leganes vs Real Valladolid.csv\n"
     ]
    },
    {
     "name": "stderr",
     "output_type": "stream",
     "text": [
      "C:\\Users\\kevin\\AppData\\Local\\Temp\\ipykernel_23208\\70385047.py:89: FutureWarning: DataFrame.applymap has been deprecated. Use DataFrame.map instead.\n",
      "  expanded_dff = expanded_dff.applymap(convert_if_number)\n"
     ]
    },
    {
     "name": "stdout",
     "output_type": "stream",
     "text": [
      "Saved: E:\\KreupAI\\DAta\\ownplayerstat\\Leganes vs Sevilla.csv\n"
     ]
    },
    {
     "name": "stderr",
     "output_type": "stream",
     "text": [
      "C:\\Users\\kevin\\AppData\\Local\\Temp\\ipykernel_23208\\70385047.py:89: FutureWarning: DataFrame.applymap has been deprecated. Use DataFrame.map instead.\n",
      "  expanded_dff = expanded_dff.applymap(convert_if_number)\n"
     ]
    },
    {
     "name": "stdout",
     "output_type": "stream",
     "text": [
      "Saved: E:\\KreupAI\\DAta\\ownplayerstat\\Leganes vs Valencia.csv\n"
     ]
    },
    {
     "name": "stderr",
     "output_type": "stream",
     "text": [
      "C:\\Users\\kevin\\AppData\\Local\\Temp\\ipykernel_23208\\70385047.py:89: FutureWarning: DataFrame.applymap has been deprecated. Use DataFrame.map instead.\n",
      "  expanded_dff = expanded_dff.applymap(convert_if_number)\n"
     ]
    },
    {
     "name": "stdout",
     "output_type": "stream",
     "text": [
      "Saved: E:\\KreupAI\\DAta\\ownplayerstat\\Leganes vs Villarreal.csv\n"
     ]
    },
    {
     "name": "stderr",
     "output_type": "stream",
     "text": [
      "C:\\Users\\kevin\\AppData\\Local\\Temp\\ipykernel_23208\\70385047.py:89: FutureWarning: DataFrame.applymap has been deprecated. Use DataFrame.map instead.\n",
      "  expanded_dff = expanded_dff.applymap(convert_if_number)\n"
     ]
    },
    {
     "name": "stdout",
     "output_type": "stream",
     "text": [
      "Saved: E:\\KreupAI\\DAta\\ownplayerstat\\Mallorca vs Athletic Club.csv\n"
     ]
    },
    {
     "name": "stderr",
     "output_type": "stream",
     "text": [
      "C:\\Users\\kevin\\AppData\\Local\\Temp\\ipykernel_23208\\70385047.py:89: FutureWarning: DataFrame.applymap has been deprecated. Use DataFrame.map instead.\n",
      "  expanded_dff = expanded_dff.applymap(convert_if_number)\n"
     ]
    },
    {
     "name": "stdout",
     "output_type": "stream",
     "text": [
      "Saved: E:\\KreupAI\\DAta\\ownplayerstat\\Mallorca vs Atletico.csv\n"
     ]
    },
    {
     "name": "stderr",
     "output_type": "stream",
     "text": [
      "C:\\Users\\kevin\\AppData\\Local\\Temp\\ipykernel_23208\\70385047.py:89: FutureWarning: DataFrame.applymap has been deprecated. Use DataFrame.map instead.\n",
      "  expanded_dff = expanded_dff.applymap(convert_if_number)\n"
     ]
    },
    {
     "name": "stdout",
     "output_type": "stream",
     "text": [
      "Saved: E:\\KreupAI\\DAta\\ownplayerstat\\Mallorca vs Barcelona.csv\n"
     ]
    },
    {
     "name": "stderr",
     "output_type": "stream",
     "text": [
      "C:\\Users\\kevin\\AppData\\Local\\Temp\\ipykernel_23208\\70385047.py:89: FutureWarning: DataFrame.applymap has been deprecated. Use DataFrame.map instead.\n",
      "  expanded_dff = expanded_dff.applymap(convert_if_number)\n"
     ]
    },
    {
     "name": "stdout",
     "output_type": "stream",
     "text": [
      "Saved: E:\\KreupAI\\DAta\\ownplayerstat\\Mallorca vs Celta Vigo.csv\n"
     ]
    },
    {
     "name": "stderr",
     "output_type": "stream",
     "text": [
      "C:\\Users\\kevin\\AppData\\Local\\Temp\\ipykernel_23208\\70385047.py:89: FutureWarning: DataFrame.applymap has been deprecated. Use DataFrame.map instead.\n",
      "  expanded_dff = expanded_dff.applymap(convert_if_number)\n"
     ]
    },
    {
     "name": "stdout",
     "output_type": "stream",
     "text": [
      "Saved: E:\\KreupAI\\DAta\\ownplayerstat\\Mallorca vs Deportivo Alaves.csv\n"
     ]
    },
    {
     "name": "stderr",
     "output_type": "stream",
     "text": [
      "C:\\Users\\kevin\\AppData\\Local\\Temp\\ipykernel_23208\\70385047.py:89: FutureWarning: DataFrame.applymap has been deprecated. Use DataFrame.map instead.\n",
      "  expanded_dff = expanded_dff.applymap(convert_if_number)\n"
     ]
    },
    {
     "name": "stdout",
     "output_type": "stream",
     "text": [
      "Saved: E:\\KreupAI\\DAta\\ownplayerstat\\Mallorca vs Espanyol.csv\n"
     ]
    },
    {
     "name": "stderr",
     "output_type": "stream",
     "text": [
      "C:\\Users\\kevin\\AppData\\Local\\Temp\\ipykernel_23208\\70385047.py:89: FutureWarning: DataFrame.applymap has been deprecated. Use DataFrame.map instead.\n",
      "  expanded_dff = expanded_dff.applymap(convert_if_number)\n"
     ]
    },
    {
     "name": "stdout",
     "output_type": "stream",
     "text": [
      "Saved: E:\\KreupAI\\DAta\\ownplayerstat\\Mallorca vs Getafe.csv\n"
     ]
    },
    {
     "name": "stderr",
     "output_type": "stream",
     "text": [
      "C:\\Users\\kevin\\AppData\\Local\\Temp\\ipykernel_23208\\70385047.py:89: FutureWarning: DataFrame.applymap has been deprecated. Use DataFrame.map instead.\n",
      "  expanded_dff = expanded_dff.applymap(convert_if_number)\n"
     ]
    },
    {
     "name": "stdout",
     "output_type": "stream",
     "text": [
      "Saved: E:\\KreupAI\\DAta\\ownplayerstat\\Mallorca vs Girona.csv\n"
     ]
    },
    {
     "name": "stderr",
     "output_type": "stream",
     "text": [
      "C:\\Users\\kevin\\AppData\\Local\\Temp\\ipykernel_23208\\70385047.py:89: FutureWarning: DataFrame.applymap has been deprecated. Use DataFrame.map instead.\n",
      "  expanded_dff = expanded_dff.applymap(convert_if_number)\n"
     ]
    },
    {
     "name": "stdout",
     "output_type": "stream",
     "text": [
      "Saved: E:\\KreupAI\\DAta\\ownplayerstat\\Mallorca vs Las Palmas.csv\n"
     ]
    },
    {
     "name": "stderr",
     "output_type": "stream",
     "text": [
      "C:\\Users\\kevin\\AppData\\Local\\Temp\\ipykernel_23208\\70385047.py:89: FutureWarning: DataFrame.applymap has been deprecated. Use DataFrame.map instead.\n",
      "  expanded_dff = expanded_dff.applymap(convert_if_number)\n"
     ]
    },
    {
     "name": "stdout",
     "output_type": "stream",
     "text": [
      "Saved: E:\\KreupAI\\DAta\\ownplayerstat\\Mallorca vs Leganes.csv\n"
     ]
    },
    {
     "name": "stderr",
     "output_type": "stream",
     "text": [
      "C:\\Users\\kevin\\AppData\\Local\\Temp\\ipykernel_23208\\70385047.py:89: FutureWarning: DataFrame.applymap has been deprecated. Use DataFrame.map instead.\n",
      "  expanded_dff = expanded_dff.applymap(convert_if_number)\n"
     ]
    },
    {
     "name": "stdout",
     "output_type": "stream",
     "text": [
      "Saved: E:\\KreupAI\\DAta\\ownplayerstat\\Mallorca vs Osasuna.csv\n"
     ]
    },
    {
     "name": "stderr",
     "output_type": "stream",
     "text": [
      "C:\\Users\\kevin\\AppData\\Local\\Temp\\ipykernel_23208\\70385047.py:89: FutureWarning: DataFrame.applymap has been deprecated. Use DataFrame.map instead.\n",
      "  expanded_dff = expanded_dff.applymap(convert_if_number)\n"
     ]
    },
    {
     "name": "stdout",
     "output_type": "stream",
     "text": [
      "Saved: E:\\KreupAI\\DAta\\ownplayerstat\\Mallorca vs Rayo Vallecano.csv\n"
     ]
    },
    {
     "name": "stderr",
     "output_type": "stream",
     "text": [
      "C:\\Users\\kevin\\AppData\\Local\\Temp\\ipykernel_23208\\70385047.py:89: FutureWarning: DataFrame.applymap has been deprecated. Use DataFrame.map instead.\n",
      "  expanded_dff = expanded_dff.applymap(convert_if_number)\n"
     ]
    },
    {
     "name": "stdout",
     "output_type": "stream",
     "text": [
      "Saved: E:\\KreupAI\\DAta\\ownplayerstat\\Mallorca vs Real Betis.csv\n"
     ]
    },
    {
     "name": "stderr",
     "output_type": "stream",
     "text": [
      "C:\\Users\\kevin\\AppData\\Local\\Temp\\ipykernel_23208\\70385047.py:89: FutureWarning: DataFrame.applymap has been deprecated. Use DataFrame.map instead.\n",
      "  expanded_dff = expanded_dff.applymap(convert_if_number)\n"
     ]
    },
    {
     "name": "stdout",
     "output_type": "stream",
     "text": [
      "Saved: E:\\KreupAI\\DAta\\ownplayerstat\\Mallorca vs Real Madrid.csv\n"
     ]
    },
    {
     "name": "stderr",
     "output_type": "stream",
     "text": [
      "C:\\Users\\kevin\\AppData\\Local\\Temp\\ipykernel_23208\\70385047.py:89: FutureWarning: DataFrame.applymap has been deprecated. Use DataFrame.map instead.\n",
      "  expanded_dff = expanded_dff.applymap(convert_if_number)\n"
     ]
    },
    {
     "name": "stdout",
     "output_type": "stream",
     "text": [
      "Saved: E:\\KreupAI\\DAta\\ownplayerstat\\Mallorca vs Real Sociedad.csv\n"
     ]
    },
    {
     "name": "stderr",
     "output_type": "stream",
     "text": [
      "C:\\Users\\kevin\\AppData\\Local\\Temp\\ipykernel_23208\\70385047.py:89: FutureWarning: DataFrame.applymap has been deprecated. Use DataFrame.map instead.\n",
      "  expanded_dff = expanded_dff.applymap(convert_if_number)\n"
     ]
    },
    {
     "name": "stdout",
     "output_type": "stream",
     "text": [
      "Saved: E:\\KreupAI\\DAta\\ownplayerstat\\Mallorca vs Real Valladolid.csv\n"
     ]
    },
    {
     "name": "stderr",
     "output_type": "stream",
     "text": [
      "C:\\Users\\kevin\\AppData\\Local\\Temp\\ipykernel_23208\\70385047.py:89: FutureWarning: DataFrame.applymap has been deprecated. Use DataFrame.map instead.\n",
      "  expanded_dff = expanded_dff.applymap(convert_if_number)\n"
     ]
    },
    {
     "name": "stdout",
     "output_type": "stream",
     "text": [
      "Saved: E:\\KreupAI\\DAta\\ownplayerstat\\Mallorca vs Sevilla.csv\n"
     ]
    },
    {
     "name": "stderr",
     "output_type": "stream",
     "text": [
      "C:\\Users\\kevin\\AppData\\Local\\Temp\\ipykernel_23208\\70385047.py:89: FutureWarning: DataFrame.applymap has been deprecated. Use DataFrame.map instead.\n",
      "  expanded_dff = expanded_dff.applymap(convert_if_number)\n"
     ]
    },
    {
     "name": "stdout",
     "output_type": "stream",
     "text": [
      "Saved: E:\\KreupAI\\DAta\\ownplayerstat\\Mallorca vs Valencia.csv\n"
     ]
    },
    {
     "name": "stderr",
     "output_type": "stream",
     "text": [
      "C:\\Users\\kevin\\AppData\\Local\\Temp\\ipykernel_23208\\70385047.py:89: FutureWarning: DataFrame.applymap has been deprecated. Use DataFrame.map instead.\n",
      "  expanded_dff = expanded_dff.applymap(convert_if_number)\n"
     ]
    },
    {
     "name": "stdout",
     "output_type": "stream",
     "text": [
      "Saved: E:\\KreupAI\\DAta\\ownplayerstat\\Mallorca vs Villarreal.csv\n"
     ]
    },
    {
     "name": "stderr",
     "output_type": "stream",
     "text": [
      "C:\\Users\\kevin\\AppData\\Local\\Temp\\ipykernel_23208\\70385047.py:89: FutureWarning: DataFrame.applymap has been deprecated. Use DataFrame.map instead.\n",
      "  expanded_dff = expanded_dff.applymap(convert_if_number)\n"
     ]
    },
    {
     "name": "stdout",
     "output_type": "stream",
     "text": [
      "Saved: E:\\KreupAI\\DAta\\ownplayerstat\\Osasuna vs Athletic Club.csv\n"
     ]
    },
    {
     "name": "stderr",
     "output_type": "stream",
     "text": [
      "C:\\Users\\kevin\\AppData\\Local\\Temp\\ipykernel_23208\\70385047.py:89: FutureWarning: DataFrame.applymap has been deprecated. Use DataFrame.map instead.\n",
      "  expanded_dff = expanded_dff.applymap(convert_if_number)\n"
     ]
    },
    {
     "name": "stdout",
     "output_type": "stream",
     "text": [
      "Saved: E:\\KreupAI\\DAta\\ownplayerstat\\Osasuna vs Atletico.csv\n"
     ]
    },
    {
     "name": "stderr",
     "output_type": "stream",
     "text": [
      "C:\\Users\\kevin\\AppData\\Local\\Temp\\ipykernel_23208\\70385047.py:89: FutureWarning: DataFrame.applymap has been deprecated. Use DataFrame.map instead.\n",
      "  expanded_dff = expanded_dff.applymap(convert_if_number)\n"
     ]
    },
    {
     "name": "stdout",
     "output_type": "stream",
     "text": [
      "Saved: E:\\KreupAI\\DAta\\ownplayerstat\\Osasuna vs Barcelona.csv\n"
     ]
    },
    {
     "name": "stderr",
     "output_type": "stream",
     "text": [
      "C:\\Users\\kevin\\AppData\\Local\\Temp\\ipykernel_23208\\70385047.py:89: FutureWarning: DataFrame.applymap has been deprecated. Use DataFrame.map instead.\n",
      "  expanded_dff = expanded_dff.applymap(convert_if_number)\n"
     ]
    },
    {
     "name": "stdout",
     "output_type": "stream",
     "text": [
      "Saved: E:\\KreupAI\\DAta\\ownplayerstat\\Osasuna vs Celta Vigo.csv\n"
     ]
    },
    {
     "name": "stderr",
     "output_type": "stream",
     "text": [
      "C:\\Users\\kevin\\AppData\\Local\\Temp\\ipykernel_23208\\70385047.py:89: FutureWarning: DataFrame.applymap has been deprecated. Use DataFrame.map instead.\n",
      "  expanded_dff = expanded_dff.applymap(convert_if_number)\n"
     ]
    },
    {
     "name": "stdout",
     "output_type": "stream",
     "text": [
      "Saved: E:\\KreupAI\\DAta\\ownplayerstat\\Osasuna vs Deportivo Alaves.csv\n"
     ]
    },
    {
     "name": "stderr",
     "output_type": "stream",
     "text": [
      "C:\\Users\\kevin\\AppData\\Local\\Temp\\ipykernel_23208\\70385047.py:89: FutureWarning: DataFrame.applymap has been deprecated. Use DataFrame.map instead.\n",
      "  expanded_dff = expanded_dff.applymap(convert_if_number)\n"
     ]
    },
    {
     "name": "stdout",
     "output_type": "stream",
     "text": [
      "Saved: E:\\KreupAI\\DAta\\ownplayerstat\\Osasuna vs Espanyol.csv\n"
     ]
    },
    {
     "name": "stderr",
     "output_type": "stream",
     "text": [
      "C:\\Users\\kevin\\AppData\\Local\\Temp\\ipykernel_23208\\70385047.py:89: FutureWarning: DataFrame.applymap has been deprecated. Use DataFrame.map instead.\n",
      "  expanded_dff = expanded_dff.applymap(convert_if_number)\n"
     ]
    },
    {
     "name": "stdout",
     "output_type": "stream",
     "text": [
      "Saved: E:\\KreupAI\\DAta\\ownplayerstat\\Osasuna vs Getafe.csv\n"
     ]
    },
    {
     "name": "stderr",
     "output_type": "stream",
     "text": [
      "C:\\Users\\kevin\\AppData\\Local\\Temp\\ipykernel_23208\\70385047.py:89: FutureWarning: DataFrame.applymap has been deprecated. Use DataFrame.map instead.\n",
      "  expanded_dff = expanded_dff.applymap(convert_if_number)\n"
     ]
    },
    {
     "name": "stdout",
     "output_type": "stream",
     "text": [
      "Saved: E:\\KreupAI\\DAta\\ownplayerstat\\Osasuna vs Girona.csv\n"
     ]
    },
    {
     "name": "stderr",
     "output_type": "stream",
     "text": [
      "C:\\Users\\kevin\\AppData\\Local\\Temp\\ipykernel_23208\\70385047.py:89: FutureWarning: DataFrame.applymap has been deprecated. Use DataFrame.map instead.\n",
      "  expanded_dff = expanded_dff.applymap(convert_if_number)\n"
     ]
    },
    {
     "name": "stdout",
     "output_type": "stream",
     "text": [
      "Saved: E:\\KreupAI\\DAta\\ownplayerstat\\Osasuna vs Las Palmas.csv\n"
     ]
    },
    {
     "name": "stderr",
     "output_type": "stream",
     "text": [
      "C:\\Users\\kevin\\AppData\\Local\\Temp\\ipykernel_23208\\70385047.py:89: FutureWarning: DataFrame.applymap has been deprecated. Use DataFrame.map instead.\n",
      "  expanded_dff = expanded_dff.applymap(convert_if_number)\n"
     ]
    },
    {
     "name": "stdout",
     "output_type": "stream",
     "text": [
      "Saved: E:\\KreupAI\\DAta\\ownplayerstat\\Osasuna vs Leganes.csv\n"
     ]
    },
    {
     "name": "stderr",
     "output_type": "stream",
     "text": [
      "C:\\Users\\kevin\\AppData\\Local\\Temp\\ipykernel_23208\\70385047.py:89: FutureWarning: DataFrame.applymap has been deprecated. Use DataFrame.map instead.\n",
      "  expanded_dff = expanded_dff.applymap(convert_if_number)\n"
     ]
    },
    {
     "name": "stdout",
     "output_type": "stream",
     "text": [
      "Saved: E:\\KreupAI\\DAta\\ownplayerstat\\Osasuna vs Mallorca.csv\n"
     ]
    },
    {
     "name": "stderr",
     "output_type": "stream",
     "text": [
      "C:\\Users\\kevin\\AppData\\Local\\Temp\\ipykernel_23208\\70385047.py:89: FutureWarning: DataFrame.applymap has been deprecated. Use DataFrame.map instead.\n",
      "  expanded_dff = expanded_dff.applymap(convert_if_number)\n"
     ]
    },
    {
     "name": "stdout",
     "output_type": "stream",
     "text": [
      "Saved: E:\\KreupAI\\DAta\\ownplayerstat\\Osasuna vs Rayo Vallecano.csv\n"
     ]
    },
    {
     "name": "stderr",
     "output_type": "stream",
     "text": [
      "C:\\Users\\kevin\\AppData\\Local\\Temp\\ipykernel_23208\\70385047.py:89: FutureWarning: DataFrame.applymap has been deprecated. Use DataFrame.map instead.\n",
      "  expanded_dff = expanded_dff.applymap(convert_if_number)\n"
     ]
    },
    {
     "name": "stdout",
     "output_type": "stream",
     "text": [
      "Saved: E:\\KreupAI\\DAta\\ownplayerstat\\Osasuna vs Real Betis.csv\n"
     ]
    },
    {
     "name": "stderr",
     "output_type": "stream",
     "text": [
      "C:\\Users\\kevin\\AppData\\Local\\Temp\\ipykernel_23208\\70385047.py:89: FutureWarning: DataFrame.applymap has been deprecated. Use DataFrame.map instead.\n",
      "  expanded_dff = expanded_dff.applymap(convert_if_number)\n"
     ]
    },
    {
     "name": "stdout",
     "output_type": "stream",
     "text": [
      "Saved: E:\\KreupAI\\DAta\\ownplayerstat\\Osasuna vs Real Madrid.csv\n"
     ]
    },
    {
     "name": "stderr",
     "output_type": "stream",
     "text": [
      "C:\\Users\\kevin\\AppData\\Local\\Temp\\ipykernel_23208\\70385047.py:89: FutureWarning: DataFrame.applymap has been deprecated. Use DataFrame.map instead.\n",
      "  expanded_dff = expanded_dff.applymap(convert_if_number)\n"
     ]
    },
    {
     "name": "stdout",
     "output_type": "stream",
     "text": [
      "Saved: E:\\KreupAI\\DAta\\ownplayerstat\\Osasuna vs Real Sociedad.csv\n"
     ]
    },
    {
     "name": "stderr",
     "output_type": "stream",
     "text": [
      "C:\\Users\\kevin\\AppData\\Local\\Temp\\ipykernel_23208\\70385047.py:89: FutureWarning: DataFrame.applymap has been deprecated. Use DataFrame.map instead.\n",
      "  expanded_dff = expanded_dff.applymap(convert_if_number)\n"
     ]
    },
    {
     "name": "stdout",
     "output_type": "stream",
     "text": [
      "Saved: E:\\KreupAI\\DAta\\ownplayerstat\\Osasuna vs Real Valladolid.csv\n"
     ]
    },
    {
     "name": "stderr",
     "output_type": "stream",
     "text": [
      "C:\\Users\\kevin\\AppData\\Local\\Temp\\ipykernel_23208\\70385047.py:89: FutureWarning: DataFrame.applymap has been deprecated. Use DataFrame.map instead.\n",
      "  expanded_dff = expanded_dff.applymap(convert_if_number)\n"
     ]
    },
    {
     "name": "stdout",
     "output_type": "stream",
     "text": [
      "Saved: E:\\KreupAI\\DAta\\ownplayerstat\\Osasuna vs Sevilla.csv\n"
     ]
    },
    {
     "name": "stderr",
     "output_type": "stream",
     "text": [
      "C:\\Users\\kevin\\AppData\\Local\\Temp\\ipykernel_23208\\70385047.py:89: FutureWarning: DataFrame.applymap has been deprecated. Use DataFrame.map instead.\n",
      "  expanded_dff = expanded_dff.applymap(convert_if_number)\n"
     ]
    },
    {
     "name": "stdout",
     "output_type": "stream",
     "text": [
      "Saved: E:\\KreupAI\\DAta\\ownplayerstat\\Osasuna vs Valencia.csv\n"
     ]
    },
    {
     "name": "stderr",
     "output_type": "stream",
     "text": [
      "C:\\Users\\kevin\\AppData\\Local\\Temp\\ipykernel_23208\\70385047.py:89: FutureWarning: DataFrame.applymap has been deprecated. Use DataFrame.map instead.\n",
      "  expanded_dff = expanded_dff.applymap(convert_if_number)\n"
     ]
    },
    {
     "name": "stdout",
     "output_type": "stream",
     "text": [
      "Saved: E:\\KreupAI\\DAta\\ownplayerstat\\Osasuna vs Villarreal.csv\n"
     ]
    },
    {
     "name": "stderr",
     "output_type": "stream",
     "text": [
      "C:\\Users\\kevin\\AppData\\Local\\Temp\\ipykernel_23208\\70385047.py:89: FutureWarning: DataFrame.applymap has been deprecated. Use DataFrame.map instead.\n",
      "  expanded_dff = expanded_dff.applymap(convert_if_number)\n"
     ]
    },
    {
     "name": "stdout",
     "output_type": "stream",
     "text": [
      "Saved: E:\\KreupAI\\DAta\\ownplayerstat\\Rayo Vallecano vs Athletic Club.csv\n"
     ]
    },
    {
     "name": "stderr",
     "output_type": "stream",
     "text": [
      "C:\\Users\\kevin\\AppData\\Local\\Temp\\ipykernel_23208\\70385047.py:89: FutureWarning: DataFrame.applymap has been deprecated. Use DataFrame.map instead.\n",
      "  expanded_dff = expanded_dff.applymap(convert_if_number)\n"
     ]
    },
    {
     "name": "stdout",
     "output_type": "stream",
     "text": [
      "Saved: E:\\KreupAI\\DAta\\ownplayerstat\\Rayo Vallecano vs Atletico.csv\n"
     ]
    },
    {
     "name": "stderr",
     "output_type": "stream",
     "text": [
      "C:\\Users\\kevin\\AppData\\Local\\Temp\\ipykernel_23208\\70385047.py:89: FutureWarning: DataFrame.applymap has been deprecated. Use DataFrame.map instead.\n",
      "  expanded_dff = expanded_dff.applymap(convert_if_number)\n"
     ]
    },
    {
     "name": "stdout",
     "output_type": "stream",
     "text": [
      "Saved: E:\\KreupAI\\DAta\\ownplayerstat\\Rayo Vallecano vs Barcelona.csv\n"
     ]
    },
    {
     "name": "stderr",
     "output_type": "stream",
     "text": [
      "C:\\Users\\kevin\\AppData\\Local\\Temp\\ipykernel_23208\\70385047.py:89: FutureWarning: DataFrame.applymap has been deprecated. Use DataFrame.map instead.\n",
      "  expanded_dff = expanded_dff.applymap(convert_if_number)\n"
     ]
    },
    {
     "name": "stdout",
     "output_type": "stream",
     "text": [
      "Saved: E:\\KreupAI\\DAta\\ownplayerstat\\Rayo Vallecano vs Celta Vigo.csv\n"
     ]
    },
    {
     "name": "stderr",
     "output_type": "stream",
     "text": [
      "C:\\Users\\kevin\\AppData\\Local\\Temp\\ipykernel_23208\\70385047.py:89: FutureWarning: DataFrame.applymap has been deprecated. Use DataFrame.map instead.\n",
      "  expanded_dff = expanded_dff.applymap(convert_if_number)\n"
     ]
    },
    {
     "name": "stdout",
     "output_type": "stream",
     "text": [
      "Saved: E:\\KreupAI\\DAta\\ownplayerstat\\Rayo Vallecano vs Deportivo Alaves.csv\n"
     ]
    },
    {
     "name": "stderr",
     "output_type": "stream",
     "text": [
      "C:\\Users\\kevin\\AppData\\Local\\Temp\\ipykernel_23208\\70385047.py:89: FutureWarning: DataFrame.applymap has been deprecated. Use DataFrame.map instead.\n",
      "  expanded_dff = expanded_dff.applymap(convert_if_number)\n"
     ]
    },
    {
     "name": "stdout",
     "output_type": "stream",
     "text": [
      "Saved: E:\\KreupAI\\DAta\\ownplayerstat\\Rayo Vallecano vs Espanyol.csv\n"
     ]
    },
    {
     "name": "stderr",
     "output_type": "stream",
     "text": [
      "C:\\Users\\kevin\\AppData\\Local\\Temp\\ipykernel_23208\\70385047.py:89: FutureWarning: DataFrame.applymap has been deprecated. Use DataFrame.map instead.\n",
      "  expanded_dff = expanded_dff.applymap(convert_if_number)\n"
     ]
    },
    {
     "name": "stdout",
     "output_type": "stream",
     "text": [
      "Saved: E:\\KreupAI\\DAta\\ownplayerstat\\Rayo Vallecano vs Getafe.csv\n"
     ]
    },
    {
     "name": "stderr",
     "output_type": "stream",
     "text": [
      "C:\\Users\\kevin\\AppData\\Local\\Temp\\ipykernel_23208\\70385047.py:89: FutureWarning: DataFrame.applymap has been deprecated. Use DataFrame.map instead.\n",
      "  expanded_dff = expanded_dff.applymap(convert_if_number)\n"
     ]
    },
    {
     "name": "stdout",
     "output_type": "stream",
     "text": [
      "Saved: E:\\KreupAI\\DAta\\ownplayerstat\\Rayo Vallecano vs Girona.csv\n"
     ]
    },
    {
     "name": "stderr",
     "output_type": "stream",
     "text": [
      "C:\\Users\\kevin\\AppData\\Local\\Temp\\ipykernel_23208\\70385047.py:89: FutureWarning: DataFrame.applymap has been deprecated. Use DataFrame.map instead.\n",
      "  expanded_dff = expanded_dff.applymap(convert_if_number)\n"
     ]
    },
    {
     "name": "stdout",
     "output_type": "stream",
     "text": [
      "Saved: E:\\KreupAI\\DAta\\ownplayerstat\\Rayo Vallecano vs Las Palmas.csv\n"
     ]
    },
    {
     "name": "stderr",
     "output_type": "stream",
     "text": [
      "C:\\Users\\kevin\\AppData\\Local\\Temp\\ipykernel_23208\\70385047.py:89: FutureWarning: DataFrame.applymap has been deprecated. Use DataFrame.map instead.\n",
      "  expanded_dff = expanded_dff.applymap(convert_if_number)\n"
     ]
    },
    {
     "name": "stdout",
     "output_type": "stream",
     "text": [
      "Saved: E:\\KreupAI\\DAta\\ownplayerstat\\Rayo Vallecano vs Leganes.csv\n"
     ]
    },
    {
     "name": "stderr",
     "output_type": "stream",
     "text": [
      "C:\\Users\\kevin\\AppData\\Local\\Temp\\ipykernel_23208\\70385047.py:89: FutureWarning: DataFrame.applymap has been deprecated. Use DataFrame.map instead.\n",
      "  expanded_dff = expanded_dff.applymap(convert_if_number)\n"
     ]
    },
    {
     "name": "stdout",
     "output_type": "stream",
     "text": [
      "Saved: E:\\KreupAI\\DAta\\ownplayerstat\\Rayo Vallecano vs Mallorca.csv\n"
     ]
    },
    {
     "name": "stderr",
     "output_type": "stream",
     "text": [
      "C:\\Users\\kevin\\AppData\\Local\\Temp\\ipykernel_23208\\70385047.py:89: FutureWarning: DataFrame.applymap has been deprecated. Use DataFrame.map instead.\n",
      "  expanded_dff = expanded_dff.applymap(convert_if_number)\n"
     ]
    },
    {
     "name": "stdout",
     "output_type": "stream",
     "text": [
      "Saved: E:\\KreupAI\\DAta\\ownplayerstat\\Rayo Vallecano vs Osasuna.csv\n"
     ]
    },
    {
     "name": "stderr",
     "output_type": "stream",
     "text": [
      "C:\\Users\\kevin\\AppData\\Local\\Temp\\ipykernel_23208\\70385047.py:89: FutureWarning: DataFrame.applymap has been deprecated. Use DataFrame.map instead.\n",
      "  expanded_dff = expanded_dff.applymap(convert_if_number)\n"
     ]
    },
    {
     "name": "stdout",
     "output_type": "stream",
     "text": [
      "Saved: E:\\KreupAI\\DAta\\ownplayerstat\\Rayo Vallecano vs Real Betis.csv\n"
     ]
    },
    {
     "name": "stderr",
     "output_type": "stream",
     "text": [
      "C:\\Users\\kevin\\AppData\\Local\\Temp\\ipykernel_23208\\70385047.py:89: FutureWarning: DataFrame.applymap has been deprecated. Use DataFrame.map instead.\n",
      "  expanded_dff = expanded_dff.applymap(convert_if_number)\n"
     ]
    },
    {
     "name": "stdout",
     "output_type": "stream",
     "text": [
      "Saved: E:\\KreupAI\\DAta\\ownplayerstat\\Rayo Vallecano vs Real Madrid.csv\n"
     ]
    },
    {
     "name": "stderr",
     "output_type": "stream",
     "text": [
      "C:\\Users\\kevin\\AppData\\Local\\Temp\\ipykernel_23208\\70385047.py:89: FutureWarning: DataFrame.applymap has been deprecated. Use DataFrame.map instead.\n",
      "  expanded_dff = expanded_dff.applymap(convert_if_number)\n"
     ]
    },
    {
     "name": "stdout",
     "output_type": "stream",
     "text": [
      "Saved: E:\\KreupAI\\DAta\\ownplayerstat\\Rayo Vallecano vs Real Sociedad.csv\n"
     ]
    },
    {
     "name": "stderr",
     "output_type": "stream",
     "text": [
      "C:\\Users\\kevin\\AppData\\Local\\Temp\\ipykernel_23208\\70385047.py:89: FutureWarning: DataFrame.applymap has been deprecated. Use DataFrame.map instead.\n",
      "  expanded_dff = expanded_dff.applymap(convert_if_number)\n"
     ]
    },
    {
     "name": "stdout",
     "output_type": "stream",
     "text": [
      "Saved: E:\\KreupAI\\DAta\\ownplayerstat\\Rayo Vallecano vs Real Valladolid.csv\n"
     ]
    },
    {
     "name": "stderr",
     "output_type": "stream",
     "text": [
      "C:\\Users\\kevin\\AppData\\Local\\Temp\\ipykernel_23208\\70385047.py:89: FutureWarning: DataFrame.applymap has been deprecated. Use DataFrame.map instead.\n",
      "  expanded_dff = expanded_dff.applymap(convert_if_number)\n"
     ]
    },
    {
     "name": "stdout",
     "output_type": "stream",
     "text": [
      "Saved: E:\\KreupAI\\DAta\\ownplayerstat\\Rayo Vallecano vs Sevilla.csv\n"
     ]
    },
    {
     "name": "stderr",
     "output_type": "stream",
     "text": [
      "C:\\Users\\kevin\\AppData\\Local\\Temp\\ipykernel_23208\\70385047.py:89: FutureWarning: DataFrame.applymap has been deprecated. Use DataFrame.map instead.\n",
      "  expanded_dff = expanded_dff.applymap(convert_if_number)\n"
     ]
    },
    {
     "name": "stdout",
     "output_type": "stream",
     "text": [
      "Saved: E:\\KreupAI\\DAta\\ownplayerstat\\Rayo Vallecano vs Valencia.csv\n"
     ]
    },
    {
     "name": "stderr",
     "output_type": "stream",
     "text": [
      "C:\\Users\\kevin\\AppData\\Local\\Temp\\ipykernel_23208\\70385047.py:89: FutureWarning: DataFrame.applymap has been deprecated. Use DataFrame.map instead.\n",
      "  expanded_dff = expanded_dff.applymap(convert_if_number)\n"
     ]
    },
    {
     "name": "stdout",
     "output_type": "stream",
     "text": [
      "Saved: E:\\KreupAI\\DAta\\ownplayerstat\\Rayo Vallecano vs Villarreal.csv\n"
     ]
    },
    {
     "name": "stderr",
     "output_type": "stream",
     "text": [
      "C:\\Users\\kevin\\AppData\\Local\\Temp\\ipykernel_23208\\70385047.py:89: FutureWarning: DataFrame.applymap has been deprecated. Use DataFrame.map instead.\n",
      "  expanded_dff = expanded_dff.applymap(convert_if_number)\n"
     ]
    },
    {
     "name": "stdout",
     "output_type": "stream",
     "text": [
      "Saved: E:\\KreupAI\\DAta\\ownplayerstat\\Real Betis vs Athletic Club.csv\n"
     ]
    },
    {
     "name": "stderr",
     "output_type": "stream",
     "text": [
      "C:\\Users\\kevin\\AppData\\Local\\Temp\\ipykernel_23208\\70385047.py:89: FutureWarning: DataFrame.applymap has been deprecated. Use DataFrame.map instead.\n",
      "  expanded_dff = expanded_dff.applymap(convert_if_number)\n"
     ]
    },
    {
     "name": "stdout",
     "output_type": "stream",
     "text": [
      "Saved: E:\\KreupAI\\DAta\\ownplayerstat\\Real Betis vs Atletico.csv\n"
     ]
    },
    {
     "name": "stderr",
     "output_type": "stream",
     "text": [
      "C:\\Users\\kevin\\AppData\\Local\\Temp\\ipykernel_23208\\70385047.py:89: FutureWarning: DataFrame.applymap has been deprecated. Use DataFrame.map instead.\n",
      "  expanded_dff = expanded_dff.applymap(convert_if_number)\n"
     ]
    },
    {
     "name": "stdout",
     "output_type": "stream",
     "text": [
      "Saved: E:\\KreupAI\\DAta\\ownplayerstat\\Real Betis vs Barcelona.csv\n"
     ]
    },
    {
     "name": "stderr",
     "output_type": "stream",
     "text": [
      "C:\\Users\\kevin\\AppData\\Local\\Temp\\ipykernel_23208\\70385047.py:89: FutureWarning: DataFrame.applymap has been deprecated. Use DataFrame.map instead.\n",
      "  expanded_dff = expanded_dff.applymap(convert_if_number)\n"
     ]
    },
    {
     "name": "stdout",
     "output_type": "stream",
     "text": [
      "Saved: E:\\KreupAI\\DAta\\ownplayerstat\\Real Betis vs Celta Vigo.csv\n"
     ]
    },
    {
     "name": "stderr",
     "output_type": "stream",
     "text": [
      "C:\\Users\\kevin\\AppData\\Local\\Temp\\ipykernel_23208\\70385047.py:89: FutureWarning: DataFrame.applymap has been deprecated. Use DataFrame.map instead.\n",
      "  expanded_dff = expanded_dff.applymap(convert_if_number)\n"
     ]
    },
    {
     "name": "stdout",
     "output_type": "stream",
     "text": [
      "Saved: E:\\KreupAI\\DAta\\ownplayerstat\\Real Betis vs Deportivo Alaves.csv\n"
     ]
    },
    {
     "name": "stderr",
     "output_type": "stream",
     "text": [
      "C:\\Users\\kevin\\AppData\\Local\\Temp\\ipykernel_23208\\70385047.py:89: FutureWarning: DataFrame.applymap has been deprecated. Use DataFrame.map instead.\n",
      "  expanded_dff = expanded_dff.applymap(convert_if_number)\n"
     ]
    },
    {
     "name": "stdout",
     "output_type": "stream",
     "text": [
      "Saved: E:\\KreupAI\\DAta\\ownplayerstat\\Real Betis vs Espanyol.csv\n"
     ]
    },
    {
     "name": "stderr",
     "output_type": "stream",
     "text": [
      "C:\\Users\\kevin\\AppData\\Local\\Temp\\ipykernel_23208\\70385047.py:89: FutureWarning: DataFrame.applymap has been deprecated. Use DataFrame.map instead.\n",
      "  expanded_dff = expanded_dff.applymap(convert_if_number)\n"
     ]
    },
    {
     "name": "stdout",
     "output_type": "stream",
     "text": [
      "Saved: E:\\KreupAI\\DAta\\ownplayerstat\\Real Betis vs Getafe.csv\n"
     ]
    },
    {
     "name": "stderr",
     "output_type": "stream",
     "text": [
      "C:\\Users\\kevin\\AppData\\Local\\Temp\\ipykernel_23208\\70385047.py:89: FutureWarning: DataFrame.applymap has been deprecated. Use DataFrame.map instead.\n",
      "  expanded_dff = expanded_dff.applymap(convert_if_number)\n"
     ]
    },
    {
     "name": "stdout",
     "output_type": "stream",
     "text": [
      "Saved: E:\\KreupAI\\DAta\\ownplayerstat\\Real Betis vs Girona.csv\n"
     ]
    },
    {
     "name": "stderr",
     "output_type": "stream",
     "text": [
      "C:\\Users\\kevin\\AppData\\Local\\Temp\\ipykernel_23208\\70385047.py:89: FutureWarning: DataFrame.applymap has been deprecated. Use DataFrame.map instead.\n",
      "  expanded_dff = expanded_dff.applymap(convert_if_number)\n"
     ]
    },
    {
     "name": "stdout",
     "output_type": "stream",
     "text": [
      "Saved: E:\\KreupAI\\DAta\\ownplayerstat\\Real Betis vs Las Palmas.csv\n"
     ]
    },
    {
     "name": "stderr",
     "output_type": "stream",
     "text": [
      "C:\\Users\\kevin\\AppData\\Local\\Temp\\ipykernel_23208\\70385047.py:89: FutureWarning: DataFrame.applymap has been deprecated. Use DataFrame.map instead.\n",
      "  expanded_dff = expanded_dff.applymap(convert_if_number)\n"
     ]
    },
    {
     "name": "stdout",
     "output_type": "stream",
     "text": [
      "Saved: E:\\KreupAI\\DAta\\ownplayerstat\\Real Betis vs Leganes.csv\n"
     ]
    },
    {
     "name": "stderr",
     "output_type": "stream",
     "text": [
      "C:\\Users\\kevin\\AppData\\Local\\Temp\\ipykernel_23208\\70385047.py:89: FutureWarning: DataFrame.applymap has been deprecated. Use DataFrame.map instead.\n",
      "  expanded_dff = expanded_dff.applymap(convert_if_number)\n"
     ]
    },
    {
     "name": "stdout",
     "output_type": "stream",
     "text": [
      "Saved: E:\\KreupAI\\DAta\\ownplayerstat\\Real Betis vs Mallorca.csv\n"
     ]
    },
    {
     "name": "stderr",
     "output_type": "stream",
     "text": [
      "C:\\Users\\kevin\\AppData\\Local\\Temp\\ipykernel_23208\\70385047.py:89: FutureWarning: DataFrame.applymap has been deprecated. Use DataFrame.map instead.\n",
      "  expanded_dff = expanded_dff.applymap(convert_if_number)\n"
     ]
    },
    {
     "name": "stdout",
     "output_type": "stream",
     "text": [
      "Saved: E:\\KreupAI\\DAta\\ownplayerstat\\Real Betis vs Osasuna.csv\n"
     ]
    },
    {
     "name": "stderr",
     "output_type": "stream",
     "text": [
      "C:\\Users\\kevin\\AppData\\Local\\Temp\\ipykernel_23208\\70385047.py:89: FutureWarning: DataFrame.applymap has been deprecated. Use DataFrame.map instead.\n",
      "  expanded_dff = expanded_dff.applymap(convert_if_number)\n"
     ]
    },
    {
     "name": "stdout",
     "output_type": "stream",
     "text": [
      "Saved: E:\\KreupAI\\DAta\\ownplayerstat\\Real Betis vs Rayo Vallecano.csv\n"
     ]
    },
    {
     "name": "stderr",
     "output_type": "stream",
     "text": [
      "C:\\Users\\kevin\\AppData\\Local\\Temp\\ipykernel_23208\\70385047.py:89: FutureWarning: DataFrame.applymap has been deprecated. Use DataFrame.map instead.\n",
      "  expanded_dff = expanded_dff.applymap(convert_if_number)\n"
     ]
    },
    {
     "name": "stdout",
     "output_type": "stream",
     "text": [
      "Saved: E:\\KreupAI\\DAta\\ownplayerstat\\Real Betis vs Real Madrid.csv\n"
     ]
    },
    {
     "name": "stderr",
     "output_type": "stream",
     "text": [
      "C:\\Users\\kevin\\AppData\\Local\\Temp\\ipykernel_23208\\70385047.py:89: FutureWarning: DataFrame.applymap has been deprecated. Use DataFrame.map instead.\n",
      "  expanded_dff = expanded_dff.applymap(convert_if_number)\n"
     ]
    },
    {
     "name": "stdout",
     "output_type": "stream",
     "text": [
      "Saved: E:\\KreupAI\\DAta\\ownplayerstat\\Real Betis vs Real Sociedad.csv\n"
     ]
    },
    {
     "name": "stderr",
     "output_type": "stream",
     "text": [
      "C:\\Users\\kevin\\AppData\\Local\\Temp\\ipykernel_23208\\70385047.py:89: FutureWarning: DataFrame.applymap has been deprecated. Use DataFrame.map instead.\n",
      "  expanded_dff = expanded_dff.applymap(convert_if_number)\n"
     ]
    },
    {
     "name": "stdout",
     "output_type": "stream",
     "text": [
      "Saved: E:\\KreupAI\\DAta\\ownplayerstat\\Real Betis vs Real Valladolid.csv\n"
     ]
    },
    {
     "name": "stderr",
     "output_type": "stream",
     "text": [
      "C:\\Users\\kevin\\AppData\\Local\\Temp\\ipykernel_23208\\70385047.py:89: FutureWarning: DataFrame.applymap has been deprecated. Use DataFrame.map instead.\n",
      "  expanded_dff = expanded_dff.applymap(convert_if_number)\n"
     ]
    },
    {
     "name": "stdout",
     "output_type": "stream",
     "text": [
      "Saved: E:\\KreupAI\\DAta\\ownplayerstat\\Real Betis vs Sevilla.csv\n"
     ]
    },
    {
     "name": "stderr",
     "output_type": "stream",
     "text": [
      "C:\\Users\\kevin\\AppData\\Local\\Temp\\ipykernel_23208\\70385047.py:89: FutureWarning: DataFrame.applymap has been deprecated. Use DataFrame.map instead.\n",
      "  expanded_dff = expanded_dff.applymap(convert_if_number)\n"
     ]
    },
    {
     "name": "stdout",
     "output_type": "stream",
     "text": [
      "Saved: E:\\KreupAI\\DAta\\ownplayerstat\\Real Betis vs Valencia.csv\n"
     ]
    },
    {
     "name": "stderr",
     "output_type": "stream",
     "text": [
      "C:\\Users\\kevin\\AppData\\Local\\Temp\\ipykernel_23208\\70385047.py:89: FutureWarning: DataFrame.applymap has been deprecated. Use DataFrame.map instead.\n",
      "  expanded_dff = expanded_dff.applymap(convert_if_number)\n"
     ]
    },
    {
     "name": "stdout",
     "output_type": "stream",
     "text": [
      "Saved: E:\\KreupAI\\DAta\\ownplayerstat\\Real Betis vs Villarreal.csv\n"
     ]
    },
    {
     "name": "stderr",
     "output_type": "stream",
     "text": [
      "C:\\Users\\kevin\\AppData\\Local\\Temp\\ipykernel_23208\\70385047.py:89: FutureWarning: DataFrame.applymap has been deprecated. Use DataFrame.map instead.\n",
      "  expanded_dff = expanded_dff.applymap(convert_if_number)\n"
     ]
    },
    {
     "name": "stdout",
     "output_type": "stream",
     "text": [
      "Saved: E:\\KreupAI\\DAta\\ownplayerstat\\Real Madrid vs Athletic Club.csv\n"
     ]
    },
    {
     "name": "stderr",
     "output_type": "stream",
     "text": [
      "C:\\Users\\kevin\\AppData\\Local\\Temp\\ipykernel_23208\\70385047.py:89: FutureWarning: DataFrame.applymap has been deprecated. Use DataFrame.map instead.\n",
      "  expanded_dff = expanded_dff.applymap(convert_if_number)\n"
     ]
    },
    {
     "name": "stdout",
     "output_type": "stream",
     "text": [
      "Saved: E:\\KreupAI\\DAta\\ownplayerstat\\Real Madrid vs Atletico.csv\n"
     ]
    },
    {
     "name": "stderr",
     "output_type": "stream",
     "text": [
      "C:\\Users\\kevin\\AppData\\Local\\Temp\\ipykernel_23208\\70385047.py:89: FutureWarning: DataFrame.applymap has been deprecated. Use DataFrame.map instead.\n",
      "  expanded_dff = expanded_dff.applymap(convert_if_number)\n"
     ]
    },
    {
     "name": "stdout",
     "output_type": "stream",
     "text": [
      "Saved: E:\\KreupAI\\DAta\\ownplayerstat\\Real Madrid vs Barcelona.csv\n"
     ]
    },
    {
     "name": "stderr",
     "output_type": "stream",
     "text": [
      "C:\\Users\\kevin\\AppData\\Local\\Temp\\ipykernel_23208\\70385047.py:89: FutureWarning: DataFrame.applymap has been deprecated. Use DataFrame.map instead.\n",
      "  expanded_dff = expanded_dff.applymap(convert_if_number)\n"
     ]
    },
    {
     "name": "stdout",
     "output_type": "stream",
     "text": [
      "Saved: E:\\KreupAI\\DAta\\ownplayerstat\\Real Madrid vs Celta Vigo.csv\n"
     ]
    },
    {
     "name": "stderr",
     "output_type": "stream",
     "text": [
      "C:\\Users\\kevin\\AppData\\Local\\Temp\\ipykernel_23208\\70385047.py:89: FutureWarning: DataFrame.applymap has been deprecated. Use DataFrame.map instead.\n",
      "  expanded_dff = expanded_dff.applymap(convert_if_number)\n"
     ]
    },
    {
     "name": "stdout",
     "output_type": "stream",
     "text": [
      "Saved: E:\\KreupAI\\DAta\\ownplayerstat\\Real Madrid vs Deportivo Alaves.csv\n"
     ]
    },
    {
     "name": "stderr",
     "output_type": "stream",
     "text": [
      "C:\\Users\\kevin\\AppData\\Local\\Temp\\ipykernel_23208\\70385047.py:89: FutureWarning: DataFrame.applymap has been deprecated. Use DataFrame.map instead.\n",
      "  expanded_dff = expanded_dff.applymap(convert_if_number)\n"
     ]
    },
    {
     "name": "stdout",
     "output_type": "stream",
     "text": [
      "Saved: E:\\KreupAI\\DAta\\ownplayerstat\\Real Madrid vs Espanyol.csv\n"
     ]
    },
    {
     "name": "stderr",
     "output_type": "stream",
     "text": [
      "C:\\Users\\kevin\\AppData\\Local\\Temp\\ipykernel_23208\\70385047.py:89: FutureWarning: DataFrame.applymap has been deprecated. Use DataFrame.map instead.\n",
      "  expanded_dff = expanded_dff.applymap(convert_if_number)\n"
     ]
    },
    {
     "name": "stdout",
     "output_type": "stream",
     "text": [
      "Saved: E:\\KreupAI\\DAta\\ownplayerstat\\Real Madrid vs Getafe.csv\n"
     ]
    },
    {
     "name": "stderr",
     "output_type": "stream",
     "text": [
      "C:\\Users\\kevin\\AppData\\Local\\Temp\\ipykernel_23208\\70385047.py:89: FutureWarning: DataFrame.applymap has been deprecated. Use DataFrame.map instead.\n",
      "  expanded_dff = expanded_dff.applymap(convert_if_number)\n"
     ]
    },
    {
     "name": "stdout",
     "output_type": "stream",
     "text": [
      "Saved: E:\\KreupAI\\DAta\\ownplayerstat\\Real Madrid vs Girona.csv\n"
     ]
    },
    {
     "name": "stderr",
     "output_type": "stream",
     "text": [
      "C:\\Users\\kevin\\AppData\\Local\\Temp\\ipykernel_23208\\70385047.py:89: FutureWarning: DataFrame.applymap has been deprecated. Use DataFrame.map instead.\n",
      "  expanded_dff = expanded_dff.applymap(convert_if_number)\n"
     ]
    },
    {
     "name": "stdout",
     "output_type": "stream",
     "text": [
      "Saved: E:\\KreupAI\\DAta\\ownplayerstat\\Real Madrid vs Las Palmas.csv\n"
     ]
    },
    {
     "name": "stderr",
     "output_type": "stream",
     "text": [
      "C:\\Users\\kevin\\AppData\\Local\\Temp\\ipykernel_23208\\70385047.py:89: FutureWarning: DataFrame.applymap has been deprecated. Use DataFrame.map instead.\n",
      "  expanded_dff = expanded_dff.applymap(convert_if_number)\n"
     ]
    },
    {
     "name": "stdout",
     "output_type": "stream",
     "text": [
      "Saved: E:\\KreupAI\\DAta\\ownplayerstat\\Real Madrid vs Leganes.csv\n"
     ]
    },
    {
     "name": "stderr",
     "output_type": "stream",
     "text": [
      "C:\\Users\\kevin\\AppData\\Local\\Temp\\ipykernel_23208\\70385047.py:89: FutureWarning: DataFrame.applymap has been deprecated. Use DataFrame.map instead.\n",
      "  expanded_dff = expanded_dff.applymap(convert_if_number)\n"
     ]
    },
    {
     "name": "stdout",
     "output_type": "stream",
     "text": [
      "Saved: E:\\KreupAI\\DAta\\ownplayerstat\\Real Madrid vs Mallorca.csv\n"
     ]
    },
    {
     "name": "stderr",
     "output_type": "stream",
     "text": [
      "C:\\Users\\kevin\\AppData\\Local\\Temp\\ipykernel_23208\\70385047.py:89: FutureWarning: DataFrame.applymap has been deprecated. Use DataFrame.map instead.\n",
      "  expanded_dff = expanded_dff.applymap(convert_if_number)\n"
     ]
    },
    {
     "name": "stdout",
     "output_type": "stream",
     "text": [
      "Saved: E:\\KreupAI\\DAta\\ownplayerstat\\Real Madrid vs Osasuna.csv\n"
     ]
    },
    {
     "name": "stderr",
     "output_type": "stream",
     "text": [
      "C:\\Users\\kevin\\AppData\\Local\\Temp\\ipykernel_23208\\70385047.py:89: FutureWarning: DataFrame.applymap has been deprecated. Use DataFrame.map instead.\n",
      "  expanded_dff = expanded_dff.applymap(convert_if_number)\n"
     ]
    },
    {
     "name": "stdout",
     "output_type": "stream",
     "text": [
      "Saved: E:\\KreupAI\\DAta\\ownplayerstat\\Real Madrid vs Rayo Vallecano.csv\n"
     ]
    },
    {
     "name": "stderr",
     "output_type": "stream",
     "text": [
      "C:\\Users\\kevin\\AppData\\Local\\Temp\\ipykernel_23208\\70385047.py:89: FutureWarning: DataFrame.applymap has been deprecated. Use DataFrame.map instead.\n",
      "  expanded_dff = expanded_dff.applymap(convert_if_number)\n"
     ]
    },
    {
     "name": "stdout",
     "output_type": "stream",
     "text": [
      "Saved: E:\\KreupAI\\DAta\\ownplayerstat\\Real Madrid vs Real Betis.csv\n"
     ]
    },
    {
     "name": "stderr",
     "output_type": "stream",
     "text": [
      "C:\\Users\\kevin\\AppData\\Local\\Temp\\ipykernel_23208\\70385047.py:89: FutureWarning: DataFrame.applymap has been deprecated. Use DataFrame.map instead.\n",
      "  expanded_dff = expanded_dff.applymap(convert_if_number)\n"
     ]
    },
    {
     "name": "stdout",
     "output_type": "stream",
     "text": [
      "Saved: E:\\KreupAI\\DAta\\ownplayerstat\\Real Madrid vs Real Sociedad.csv\n"
     ]
    },
    {
     "name": "stderr",
     "output_type": "stream",
     "text": [
      "C:\\Users\\kevin\\AppData\\Local\\Temp\\ipykernel_23208\\70385047.py:89: FutureWarning: DataFrame.applymap has been deprecated. Use DataFrame.map instead.\n",
      "  expanded_dff = expanded_dff.applymap(convert_if_number)\n"
     ]
    },
    {
     "name": "stdout",
     "output_type": "stream",
     "text": [
      "Saved: E:\\KreupAI\\DAta\\ownplayerstat\\Real Madrid vs Real Valladolid.csv\n"
     ]
    },
    {
     "name": "stderr",
     "output_type": "stream",
     "text": [
      "C:\\Users\\kevin\\AppData\\Local\\Temp\\ipykernel_23208\\70385047.py:89: FutureWarning: DataFrame.applymap has been deprecated. Use DataFrame.map instead.\n",
      "  expanded_dff = expanded_dff.applymap(convert_if_number)\n"
     ]
    },
    {
     "name": "stdout",
     "output_type": "stream",
     "text": [
      "Saved: E:\\KreupAI\\DAta\\ownplayerstat\\Real Madrid vs Sevilla.csv\n"
     ]
    },
    {
     "name": "stderr",
     "output_type": "stream",
     "text": [
      "C:\\Users\\kevin\\AppData\\Local\\Temp\\ipykernel_23208\\70385047.py:89: FutureWarning: DataFrame.applymap has been deprecated. Use DataFrame.map instead.\n",
      "  expanded_dff = expanded_dff.applymap(convert_if_number)\n"
     ]
    },
    {
     "name": "stdout",
     "output_type": "stream",
     "text": [
      "Saved: E:\\KreupAI\\DAta\\ownplayerstat\\Real Madrid vs Valencia.csv\n"
     ]
    },
    {
     "name": "stderr",
     "output_type": "stream",
     "text": [
      "C:\\Users\\kevin\\AppData\\Local\\Temp\\ipykernel_23208\\70385047.py:89: FutureWarning: DataFrame.applymap has been deprecated. Use DataFrame.map instead.\n",
      "  expanded_dff = expanded_dff.applymap(convert_if_number)\n"
     ]
    },
    {
     "name": "stdout",
     "output_type": "stream",
     "text": [
      "Saved: E:\\KreupAI\\DAta\\ownplayerstat\\Real Madrid vs Villarreal.csv\n"
     ]
    },
    {
     "name": "stderr",
     "output_type": "stream",
     "text": [
      "C:\\Users\\kevin\\AppData\\Local\\Temp\\ipykernel_23208\\70385047.py:89: FutureWarning: DataFrame.applymap has been deprecated. Use DataFrame.map instead.\n",
      "  expanded_dff = expanded_dff.applymap(convert_if_number)\n"
     ]
    },
    {
     "name": "stdout",
     "output_type": "stream",
     "text": [
      "Saved: E:\\KreupAI\\DAta\\ownplayerstat\\Real Sociedad vs Athletic Club.csv\n"
     ]
    },
    {
     "name": "stderr",
     "output_type": "stream",
     "text": [
      "C:\\Users\\kevin\\AppData\\Local\\Temp\\ipykernel_23208\\70385047.py:89: FutureWarning: DataFrame.applymap has been deprecated. Use DataFrame.map instead.\n",
      "  expanded_dff = expanded_dff.applymap(convert_if_number)\n"
     ]
    },
    {
     "name": "stdout",
     "output_type": "stream",
     "text": [
      "Saved: E:\\KreupAI\\DAta\\ownplayerstat\\Real Sociedad vs Atletico.csv\n"
     ]
    },
    {
     "name": "stderr",
     "output_type": "stream",
     "text": [
      "C:\\Users\\kevin\\AppData\\Local\\Temp\\ipykernel_23208\\70385047.py:89: FutureWarning: DataFrame.applymap has been deprecated. Use DataFrame.map instead.\n",
      "  expanded_dff = expanded_dff.applymap(convert_if_number)\n"
     ]
    },
    {
     "name": "stdout",
     "output_type": "stream",
     "text": [
      "Saved: E:\\KreupAI\\DAta\\ownplayerstat\\Real Sociedad vs Barcelona.csv\n"
     ]
    },
    {
     "name": "stderr",
     "output_type": "stream",
     "text": [
      "C:\\Users\\kevin\\AppData\\Local\\Temp\\ipykernel_23208\\70385047.py:89: FutureWarning: DataFrame.applymap has been deprecated. Use DataFrame.map instead.\n",
      "  expanded_dff = expanded_dff.applymap(convert_if_number)\n"
     ]
    },
    {
     "name": "stdout",
     "output_type": "stream",
     "text": [
      "Saved: E:\\KreupAI\\DAta\\ownplayerstat\\Real Sociedad vs Celta Vigo.csv\n"
     ]
    },
    {
     "name": "stderr",
     "output_type": "stream",
     "text": [
      "C:\\Users\\kevin\\AppData\\Local\\Temp\\ipykernel_23208\\70385047.py:89: FutureWarning: DataFrame.applymap has been deprecated. Use DataFrame.map instead.\n",
      "  expanded_dff = expanded_dff.applymap(convert_if_number)\n"
     ]
    },
    {
     "name": "stdout",
     "output_type": "stream",
     "text": [
      "Saved: E:\\KreupAI\\DAta\\ownplayerstat\\Real Sociedad vs Deportivo Alaves.csv\n"
     ]
    },
    {
     "name": "stderr",
     "output_type": "stream",
     "text": [
      "C:\\Users\\kevin\\AppData\\Local\\Temp\\ipykernel_23208\\70385047.py:89: FutureWarning: DataFrame.applymap has been deprecated. Use DataFrame.map instead.\n",
      "  expanded_dff = expanded_dff.applymap(convert_if_number)\n"
     ]
    },
    {
     "name": "stdout",
     "output_type": "stream",
     "text": [
      "Saved: E:\\KreupAI\\DAta\\ownplayerstat\\Real Sociedad vs Espanyol.csv\n"
     ]
    },
    {
     "name": "stderr",
     "output_type": "stream",
     "text": [
      "C:\\Users\\kevin\\AppData\\Local\\Temp\\ipykernel_23208\\70385047.py:89: FutureWarning: DataFrame.applymap has been deprecated. Use DataFrame.map instead.\n",
      "  expanded_dff = expanded_dff.applymap(convert_if_number)\n"
     ]
    },
    {
     "name": "stdout",
     "output_type": "stream",
     "text": [
      "Saved: E:\\KreupAI\\DAta\\ownplayerstat\\Real Sociedad vs Getafe.csv\n"
     ]
    },
    {
     "name": "stderr",
     "output_type": "stream",
     "text": [
      "C:\\Users\\kevin\\AppData\\Local\\Temp\\ipykernel_23208\\70385047.py:89: FutureWarning: DataFrame.applymap has been deprecated. Use DataFrame.map instead.\n",
      "  expanded_dff = expanded_dff.applymap(convert_if_number)\n"
     ]
    },
    {
     "name": "stdout",
     "output_type": "stream",
     "text": [
      "Saved: E:\\KreupAI\\DAta\\ownplayerstat\\Real Sociedad vs Girona.csv\n"
     ]
    },
    {
     "name": "stderr",
     "output_type": "stream",
     "text": [
      "C:\\Users\\kevin\\AppData\\Local\\Temp\\ipykernel_23208\\70385047.py:89: FutureWarning: DataFrame.applymap has been deprecated. Use DataFrame.map instead.\n",
      "  expanded_dff = expanded_dff.applymap(convert_if_number)\n"
     ]
    },
    {
     "name": "stdout",
     "output_type": "stream",
     "text": [
      "Saved: E:\\KreupAI\\DAta\\ownplayerstat\\Real Sociedad vs Las Palmas.csv\n"
     ]
    },
    {
     "name": "stderr",
     "output_type": "stream",
     "text": [
      "C:\\Users\\kevin\\AppData\\Local\\Temp\\ipykernel_23208\\70385047.py:89: FutureWarning: DataFrame.applymap has been deprecated. Use DataFrame.map instead.\n",
      "  expanded_dff = expanded_dff.applymap(convert_if_number)\n"
     ]
    },
    {
     "name": "stdout",
     "output_type": "stream",
     "text": [
      "Saved: E:\\KreupAI\\DAta\\ownplayerstat\\Real Sociedad vs Leganes.csv\n"
     ]
    },
    {
     "name": "stderr",
     "output_type": "stream",
     "text": [
      "C:\\Users\\kevin\\AppData\\Local\\Temp\\ipykernel_23208\\70385047.py:89: FutureWarning: DataFrame.applymap has been deprecated. Use DataFrame.map instead.\n",
      "  expanded_dff = expanded_dff.applymap(convert_if_number)\n"
     ]
    },
    {
     "name": "stdout",
     "output_type": "stream",
     "text": [
      "Saved: E:\\KreupAI\\DAta\\ownplayerstat\\Real Sociedad vs Mallorca.csv\n"
     ]
    },
    {
     "name": "stderr",
     "output_type": "stream",
     "text": [
      "C:\\Users\\kevin\\AppData\\Local\\Temp\\ipykernel_23208\\70385047.py:89: FutureWarning: DataFrame.applymap has been deprecated. Use DataFrame.map instead.\n",
      "  expanded_dff = expanded_dff.applymap(convert_if_number)\n"
     ]
    },
    {
     "name": "stdout",
     "output_type": "stream",
     "text": [
      "Saved: E:\\KreupAI\\DAta\\ownplayerstat\\Real Sociedad vs Osasuna.csv\n"
     ]
    },
    {
     "name": "stderr",
     "output_type": "stream",
     "text": [
      "C:\\Users\\kevin\\AppData\\Local\\Temp\\ipykernel_23208\\70385047.py:89: FutureWarning: DataFrame.applymap has been deprecated. Use DataFrame.map instead.\n",
      "  expanded_dff = expanded_dff.applymap(convert_if_number)\n"
     ]
    },
    {
     "name": "stdout",
     "output_type": "stream",
     "text": [
      "Saved: E:\\KreupAI\\DAta\\ownplayerstat\\Real Sociedad vs Rayo Vallecano.csv\n"
     ]
    },
    {
     "name": "stderr",
     "output_type": "stream",
     "text": [
      "C:\\Users\\kevin\\AppData\\Local\\Temp\\ipykernel_23208\\70385047.py:89: FutureWarning: DataFrame.applymap has been deprecated. Use DataFrame.map instead.\n",
      "  expanded_dff = expanded_dff.applymap(convert_if_number)\n"
     ]
    },
    {
     "name": "stdout",
     "output_type": "stream",
     "text": [
      "Saved: E:\\KreupAI\\DAta\\ownplayerstat\\Real Sociedad vs Real Betis.csv\n"
     ]
    },
    {
     "name": "stderr",
     "output_type": "stream",
     "text": [
      "C:\\Users\\kevin\\AppData\\Local\\Temp\\ipykernel_23208\\70385047.py:89: FutureWarning: DataFrame.applymap has been deprecated. Use DataFrame.map instead.\n",
      "  expanded_dff = expanded_dff.applymap(convert_if_number)\n"
     ]
    },
    {
     "name": "stdout",
     "output_type": "stream",
     "text": [
      "Saved: E:\\KreupAI\\DAta\\ownplayerstat\\Real Sociedad vs Real Madrid.csv\n"
     ]
    },
    {
     "name": "stderr",
     "output_type": "stream",
     "text": [
      "C:\\Users\\kevin\\AppData\\Local\\Temp\\ipykernel_23208\\70385047.py:89: FutureWarning: DataFrame.applymap has been deprecated. Use DataFrame.map instead.\n",
      "  expanded_dff = expanded_dff.applymap(convert_if_number)\n"
     ]
    },
    {
     "name": "stdout",
     "output_type": "stream",
     "text": [
      "Saved: E:\\KreupAI\\DAta\\ownplayerstat\\Real Sociedad vs Real Valladolid.csv\n"
     ]
    },
    {
     "name": "stderr",
     "output_type": "stream",
     "text": [
      "C:\\Users\\kevin\\AppData\\Local\\Temp\\ipykernel_23208\\70385047.py:89: FutureWarning: DataFrame.applymap has been deprecated. Use DataFrame.map instead.\n",
      "  expanded_dff = expanded_dff.applymap(convert_if_number)\n"
     ]
    },
    {
     "name": "stdout",
     "output_type": "stream",
     "text": [
      "Saved: E:\\KreupAI\\DAta\\ownplayerstat\\Real Sociedad vs Sevilla.csv\n"
     ]
    },
    {
     "name": "stderr",
     "output_type": "stream",
     "text": [
      "C:\\Users\\kevin\\AppData\\Local\\Temp\\ipykernel_23208\\70385047.py:89: FutureWarning: DataFrame.applymap has been deprecated. Use DataFrame.map instead.\n",
      "  expanded_dff = expanded_dff.applymap(convert_if_number)\n"
     ]
    },
    {
     "name": "stdout",
     "output_type": "stream",
     "text": [
      "Saved: E:\\KreupAI\\DAta\\ownplayerstat\\Real Sociedad vs Valencia.csv\n"
     ]
    },
    {
     "name": "stderr",
     "output_type": "stream",
     "text": [
      "C:\\Users\\kevin\\AppData\\Local\\Temp\\ipykernel_23208\\70385047.py:89: FutureWarning: DataFrame.applymap has been deprecated. Use DataFrame.map instead.\n",
      "  expanded_dff = expanded_dff.applymap(convert_if_number)\n"
     ]
    },
    {
     "name": "stdout",
     "output_type": "stream",
     "text": [
      "Saved: E:\\KreupAI\\DAta\\ownplayerstat\\Real Sociedad vs Villarreal.csv\n"
     ]
    },
    {
     "name": "stderr",
     "output_type": "stream",
     "text": [
      "C:\\Users\\kevin\\AppData\\Local\\Temp\\ipykernel_23208\\70385047.py:89: FutureWarning: DataFrame.applymap has been deprecated. Use DataFrame.map instead.\n",
      "  expanded_dff = expanded_dff.applymap(convert_if_number)\n"
     ]
    },
    {
     "name": "stdout",
     "output_type": "stream",
     "text": [
      "Saved: E:\\KreupAI\\DAta\\ownplayerstat\\Real Valladolid vs Athletic Club.csv\n"
     ]
    },
    {
     "name": "stderr",
     "output_type": "stream",
     "text": [
      "C:\\Users\\kevin\\AppData\\Local\\Temp\\ipykernel_23208\\70385047.py:89: FutureWarning: DataFrame.applymap has been deprecated. Use DataFrame.map instead.\n",
      "  expanded_dff = expanded_dff.applymap(convert_if_number)\n"
     ]
    },
    {
     "name": "stdout",
     "output_type": "stream",
     "text": [
      "Saved: E:\\KreupAI\\DAta\\ownplayerstat\\Real Valladolid vs Atletico.csv\n"
     ]
    },
    {
     "name": "stderr",
     "output_type": "stream",
     "text": [
      "C:\\Users\\kevin\\AppData\\Local\\Temp\\ipykernel_23208\\70385047.py:89: FutureWarning: DataFrame.applymap has been deprecated. Use DataFrame.map instead.\n",
      "  expanded_dff = expanded_dff.applymap(convert_if_number)\n"
     ]
    },
    {
     "name": "stdout",
     "output_type": "stream",
     "text": [
      "Saved: E:\\KreupAI\\DAta\\ownplayerstat\\Real Valladolid vs Barcelona.csv\n"
     ]
    },
    {
     "name": "stderr",
     "output_type": "stream",
     "text": [
      "C:\\Users\\kevin\\AppData\\Local\\Temp\\ipykernel_23208\\70385047.py:89: FutureWarning: DataFrame.applymap has been deprecated. Use DataFrame.map instead.\n",
      "  expanded_dff = expanded_dff.applymap(convert_if_number)\n"
     ]
    },
    {
     "name": "stdout",
     "output_type": "stream",
     "text": [
      "Saved: E:\\KreupAI\\DAta\\ownplayerstat\\Real Valladolid vs Celta Vigo.csv\n"
     ]
    },
    {
     "name": "stderr",
     "output_type": "stream",
     "text": [
      "C:\\Users\\kevin\\AppData\\Local\\Temp\\ipykernel_23208\\70385047.py:89: FutureWarning: DataFrame.applymap has been deprecated. Use DataFrame.map instead.\n",
      "  expanded_dff = expanded_dff.applymap(convert_if_number)\n"
     ]
    },
    {
     "name": "stdout",
     "output_type": "stream",
     "text": [
      "Saved: E:\\KreupAI\\DAta\\ownplayerstat\\Real Valladolid vs Deportivo Alaves.csv\n"
     ]
    },
    {
     "name": "stderr",
     "output_type": "stream",
     "text": [
      "C:\\Users\\kevin\\AppData\\Local\\Temp\\ipykernel_23208\\70385047.py:89: FutureWarning: DataFrame.applymap has been deprecated. Use DataFrame.map instead.\n",
      "  expanded_dff = expanded_dff.applymap(convert_if_number)\n"
     ]
    },
    {
     "name": "stdout",
     "output_type": "stream",
     "text": [
      "Saved: E:\\KreupAI\\DAta\\ownplayerstat\\Real Valladolid vs Espanyol.csv\n"
     ]
    },
    {
     "name": "stderr",
     "output_type": "stream",
     "text": [
      "C:\\Users\\kevin\\AppData\\Local\\Temp\\ipykernel_23208\\70385047.py:89: FutureWarning: DataFrame.applymap has been deprecated. Use DataFrame.map instead.\n",
      "  expanded_dff = expanded_dff.applymap(convert_if_number)\n"
     ]
    },
    {
     "name": "stdout",
     "output_type": "stream",
     "text": [
      "Saved: E:\\KreupAI\\DAta\\ownplayerstat\\Real Valladolid vs Getafe.csv\n"
     ]
    },
    {
     "name": "stderr",
     "output_type": "stream",
     "text": [
      "C:\\Users\\kevin\\AppData\\Local\\Temp\\ipykernel_23208\\70385047.py:89: FutureWarning: DataFrame.applymap has been deprecated. Use DataFrame.map instead.\n",
      "  expanded_dff = expanded_dff.applymap(convert_if_number)\n"
     ]
    },
    {
     "name": "stdout",
     "output_type": "stream",
     "text": [
      "Saved: E:\\KreupAI\\DAta\\ownplayerstat\\Real Valladolid vs Girona.csv\n"
     ]
    },
    {
     "name": "stderr",
     "output_type": "stream",
     "text": [
      "C:\\Users\\kevin\\AppData\\Local\\Temp\\ipykernel_23208\\70385047.py:89: FutureWarning: DataFrame.applymap has been deprecated. Use DataFrame.map instead.\n",
      "  expanded_dff = expanded_dff.applymap(convert_if_number)\n"
     ]
    },
    {
     "name": "stdout",
     "output_type": "stream",
     "text": [
      "Saved: E:\\KreupAI\\DAta\\ownplayerstat\\Real Valladolid vs Las Palmas.csv\n"
     ]
    },
    {
     "name": "stderr",
     "output_type": "stream",
     "text": [
      "C:\\Users\\kevin\\AppData\\Local\\Temp\\ipykernel_23208\\70385047.py:89: FutureWarning: DataFrame.applymap has been deprecated. Use DataFrame.map instead.\n",
      "  expanded_dff = expanded_dff.applymap(convert_if_number)\n"
     ]
    },
    {
     "name": "stdout",
     "output_type": "stream",
     "text": [
      "Saved: E:\\KreupAI\\DAta\\ownplayerstat\\Real Valladolid vs Leganes.csv\n"
     ]
    },
    {
     "name": "stderr",
     "output_type": "stream",
     "text": [
      "C:\\Users\\kevin\\AppData\\Local\\Temp\\ipykernel_23208\\70385047.py:89: FutureWarning: DataFrame.applymap has been deprecated. Use DataFrame.map instead.\n",
      "  expanded_dff = expanded_dff.applymap(convert_if_number)\n"
     ]
    },
    {
     "name": "stdout",
     "output_type": "stream",
     "text": [
      "Saved: E:\\KreupAI\\DAta\\ownplayerstat\\Real Valladolid vs Mallorca.csv\n"
     ]
    },
    {
     "name": "stderr",
     "output_type": "stream",
     "text": [
      "C:\\Users\\kevin\\AppData\\Local\\Temp\\ipykernel_23208\\70385047.py:89: FutureWarning: DataFrame.applymap has been deprecated. Use DataFrame.map instead.\n",
      "  expanded_dff = expanded_dff.applymap(convert_if_number)\n"
     ]
    },
    {
     "name": "stdout",
     "output_type": "stream",
     "text": [
      "Saved: E:\\KreupAI\\DAta\\ownplayerstat\\Real Valladolid vs Osasuna.csv\n"
     ]
    },
    {
     "name": "stderr",
     "output_type": "stream",
     "text": [
      "C:\\Users\\kevin\\AppData\\Local\\Temp\\ipykernel_23208\\70385047.py:89: FutureWarning: DataFrame.applymap has been deprecated. Use DataFrame.map instead.\n",
      "  expanded_dff = expanded_dff.applymap(convert_if_number)\n"
     ]
    },
    {
     "name": "stdout",
     "output_type": "stream",
     "text": [
      "Saved: E:\\KreupAI\\DAta\\ownplayerstat\\Real Valladolid vs Rayo Vallecano.csv\n"
     ]
    },
    {
     "name": "stderr",
     "output_type": "stream",
     "text": [
      "C:\\Users\\kevin\\AppData\\Local\\Temp\\ipykernel_23208\\70385047.py:89: FutureWarning: DataFrame.applymap has been deprecated. Use DataFrame.map instead.\n",
      "  expanded_dff = expanded_dff.applymap(convert_if_number)\n"
     ]
    },
    {
     "name": "stdout",
     "output_type": "stream",
     "text": [
      "Saved: E:\\KreupAI\\DAta\\ownplayerstat\\Real Valladolid vs Real Betis.csv\n"
     ]
    },
    {
     "name": "stderr",
     "output_type": "stream",
     "text": [
      "C:\\Users\\kevin\\AppData\\Local\\Temp\\ipykernel_23208\\70385047.py:89: FutureWarning: DataFrame.applymap has been deprecated. Use DataFrame.map instead.\n",
      "  expanded_dff = expanded_dff.applymap(convert_if_number)\n"
     ]
    },
    {
     "name": "stdout",
     "output_type": "stream",
     "text": [
      "Saved: E:\\KreupAI\\DAta\\ownplayerstat\\Real Valladolid vs Real Madrid.csv\n"
     ]
    },
    {
     "name": "stderr",
     "output_type": "stream",
     "text": [
      "C:\\Users\\kevin\\AppData\\Local\\Temp\\ipykernel_23208\\70385047.py:89: FutureWarning: DataFrame.applymap has been deprecated. Use DataFrame.map instead.\n",
      "  expanded_dff = expanded_dff.applymap(convert_if_number)\n"
     ]
    },
    {
     "name": "stdout",
     "output_type": "stream",
     "text": [
      "Saved: E:\\KreupAI\\DAta\\ownplayerstat\\Real Valladolid vs Real Sociedad.csv\n"
     ]
    },
    {
     "name": "stderr",
     "output_type": "stream",
     "text": [
      "C:\\Users\\kevin\\AppData\\Local\\Temp\\ipykernel_23208\\70385047.py:89: FutureWarning: DataFrame.applymap has been deprecated. Use DataFrame.map instead.\n",
      "  expanded_dff = expanded_dff.applymap(convert_if_number)\n"
     ]
    },
    {
     "name": "stdout",
     "output_type": "stream",
     "text": [
      "Saved: E:\\KreupAI\\DAta\\ownplayerstat\\Real Valladolid vs Sevilla.csv\n"
     ]
    },
    {
     "name": "stderr",
     "output_type": "stream",
     "text": [
      "C:\\Users\\kevin\\AppData\\Local\\Temp\\ipykernel_23208\\70385047.py:89: FutureWarning: DataFrame.applymap has been deprecated. Use DataFrame.map instead.\n",
      "  expanded_dff = expanded_dff.applymap(convert_if_number)\n"
     ]
    },
    {
     "name": "stdout",
     "output_type": "stream",
     "text": [
      "Saved: E:\\KreupAI\\DAta\\ownplayerstat\\Real Valladolid vs Valencia.csv\n"
     ]
    },
    {
     "name": "stderr",
     "output_type": "stream",
     "text": [
      "C:\\Users\\kevin\\AppData\\Local\\Temp\\ipykernel_23208\\70385047.py:89: FutureWarning: DataFrame.applymap has been deprecated. Use DataFrame.map instead.\n",
      "  expanded_dff = expanded_dff.applymap(convert_if_number)\n"
     ]
    },
    {
     "name": "stdout",
     "output_type": "stream",
     "text": [
      "Saved: E:\\KreupAI\\DAta\\ownplayerstat\\Real Valladolid vs Villarreal.csv\n"
     ]
    },
    {
     "name": "stderr",
     "output_type": "stream",
     "text": [
      "C:\\Users\\kevin\\AppData\\Local\\Temp\\ipykernel_23208\\70385047.py:89: FutureWarning: DataFrame.applymap has been deprecated. Use DataFrame.map instead.\n",
      "  expanded_dff = expanded_dff.applymap(convert_if_number)\n"
     ]
    },
    {
     "name": "stdout",
     "output_type": "stream",
     "text": [
      "Saved: E:\\KreupAI\\DAta\\ownplayerstat\\Sevilla vs Athletic Club.csv\n"
     ]
    },
    {
     "name": "stderr",
     "output_type": "stream",
     "text": [
      "C:\\Users\\kevin\\AppData\\Local\\Temp\\ipykernel_23208\\70385047.py:89: FutureWarning: DataFrame.applymap has been deprecated. Use DataFrame.map instead.\n",
      "  expanded_dff = expanded_dff.applymap(convert_if_number)\n"
     ]
    },
    {
     "name": "stdout",
     "output_type": "stream",
     "text": [
      "Saved: E:\\KreupAI\\DAta\\ownplayerstat\\Sevilla vs Atletico.csv\n"
     ]
    },
    {
     "name": "stderr",
     "output_type": "stream",
     "text": [
      "C:\\Users\\kevin\\AppData\\Local\\Temp\\ipykernel_23208\\70385047.py:89: FutureWarning: DataFrame.applymap has been deprecated. Use DataFrame.map instead.\n",
      "  expanded_dff = expanded_dff.applymap(convert_if_number)\n"
     ]
    },
    {
     "name": "stdout",
     "output_type": "stream",
     "text": [
      "Saved: E:\\KreupAI\\DAta\\ownplayerstat\\Sevilla vs Barcelona.csv\n"
     ]
    },
    {
     "name": "stderr",
     "output_type": "stream",
     "text": [
      "C:\\Users\\kevin\\AppData\\Local\\Temp\\ipykernel_23208\\70385047.py:89: FutureWarning: DataFrame.applymap has been deprecated. Use DataFrame.map instead.\n",
      "  expanded_dff = expanded_dff.applymap(convert_if_number)\n"
     ]
    },
    {
     "name": "stdout",
     "output_type": "stream",
     "text": [
      "Saved: E:\\KreupAI\\DAta\\ownplayerstat\\Sevilla vs Celta Vigo.csv\n"
     ]
    },
    {
     "name": "stderr",
     "output_type": "stream",
     "text": [
      "C:\\Users\\kevin\\AppData\\Local\\Temp\\ipykernel_23208\\70385047.py:89: FutureWarning: DataFrame.applymap has been deprecated. Use DataFrame.map instead.\n",
      "  expanded_dff = expanded_dff.applymap(convert_if_number)\n"
     ]
    },
    {
     "name": "stdout",
     "output_type": "stream",
     "text": [
      "Saved: E:\\KreupAI\\DAta\\ownplayerstat\\Sevilla vs Deportivo Alaves.csv\n"
     ]
    },
    {
     "name": "stderr",
     "output_type": "stream",
     "text": [
      "C:\\Users\\kevin\\AppData\\Local\\Temp\\ipykernel_23208\\70385047.py:89: FutureWarning: DataFrame.applymap has been deprecated. Use DataFrame.map instead.\n",
      "  expanded_dff = expanded_dff.applymap(convert_if_number)\n"
     ]
    },
    {
     "name": "stdout",
     "output_type": "stream",
     "text": [
      "Saved: E:\\KreupAI\\DAta\\ownplayerstat\\Sevilla vs Espanyol.csv\n"
     ]
    },
    {
     "name": "stderr",
     "output_type": "stream",
     "text": [
      "C:\\Users\\kevin\\AppData\\Local\\Temp\\ipykernel_23208\\70385047.py:89: FutureWarning: DataFrame.applymap has been deprecated. Use DataFrame.map instead.\n",
      "  expanded_dff = expanded_dff.applymap(convert_if_number)\n"
     ]
    },
    {
     "name": "stdout",
     "output_type": "stream",
     "text": [
      "Saved: E:\\KreupAI\\DAta\\ownplayerstat\\Sevilla vs Getafe.csv\n"
     ]
    },
    {
     "name": "stderr",
     "output_type": "stream",
     "text": [
      "C:\\Users\\kevin\\AppData\\Local\\Temp\\ipykernel_23208\\70385047.py:89: FutureWarning: DataFrame.applymap has been deprecated. Use DataFrame.map instead.\n",
      "  expanded_dff = expanded_dff.applymap(convert_if_number)\n"
     ]
    },
    {
     "name": "stdout",
     "output_type": "stream",
     "text": [
      "Saved: E:\\KreupAI\\DAta\\ownplayerstat\\Sevilla vs Girona.csv\n"
     ]
    },
    {
     "name": "stderr",
     "output_type": "stream",
     "text": [
      "C:\\Users\\kevin\\AppData\\Local\\Temp\\ipykernel_23208\\70385047.py:89: FutureWarning: DataFrame.applymap has been deprecated. Use DataFrame.map instead.\n",
      "  expanded_dff = expanded_dff.applymap(convert_if_number)\n"
     ]
    },
    {
     "name": "stdout",
     "output_type": "stream",
     "text": [
      "Saved: E:\\KreupAI\\DAta\\ownplayerstat\\Sevilla vs Las Palmas.csv\n"
     ]
    },
    {
     "name": "stderr",
     "output_type": "stream",
     "text": [
      "C:\\Users\\kevin\\AppData\\Local\\Temp\\ipykernel_23208\\70385047.py:89: FutureWarning: DataFrame.applymap has been deprecated. Use DataFrame.map instead.\n",
      "  expanded_dff = expanded_dff.applymap(convert_if_number)\n"
     ]
    },
    {
     "name": "stdout",
     "output_type": "stream",
     "text": [
      "Saved: E:\\KreupAI\\DAta\\ownplayerstat\\Sevilla vs Leganes.csv\n"
     ]
    },
    {
     "name": "stderr",
     "output_type": "stream",
     "text": [
      "C:\\Users\\kevin\\AppData\\Local\\Temp\\ipykernel_23208\\70385047.py:89: FutureWarning: DataFrame.applymap has been deprecated. Use DataFrame.map instead.\n",
      "  expanded_dff = expanded_dff.applymap(convert_if_number)\n"
     ]
    },
    {
     "name": "stdout",
     "output_type": "stream",
     "text": [
      "Saved: E:\\KreupAI\\DAta\\ownplayerstat\\Sevilla vs Mallorca.csv\n"
     ]
    },
    {
     "name": "stderr",
     "output_type": "stream",
     "text": [
      "C:\\Users\\kevin\\AppData\\Local\\Temp\\ipykernel_23208\\70385047.py:89: FutureWarning: DataFrame.applymap has been deprecated. Use DataFrame.map instead.\n",
      "  expanded_dff = expanded_dff.applymap(convert_if_number)\n"
     ]
    },
    {
     "name": "stdout",
     "output_type": "stream",
     "text": [
      "Saved: E:\\KreupAI\\DAta\\ownplayerstat\\Sevilla vs Osasuna.csv\n"
     ]
    },
    {
     "name": "stderr",
     "output_type": "stream",
     "text": [
      "C:\\Users\\kevin\\AppData\\Local\\Temp\\ipykernel_23208\\70385047.py:89: FutureWarning: DataFrame.applymap has been deprecated. Use DataFrame.map instead.\n",
      "  expanded_dff = expanded_dff.applymap(convert_if_number)\n"
     ]
    },
    {
     "name": "stdout",
     "output_type": "stream",
     "text": [
      "Saved: E:\\KreupAI\\DAta\\ownplayerstat\\Sevilla vs Rayo Vallecano.csv\n"
     ]
    },
    {
     "name": "stderr",
     "output_type": "stream",
     "text": [
      "C:\\Users\\kevin\\AppData\\Local\\Temp\\ipykernel_23208\\70385047.py:89: FutureWarning: DataFrame.applymap has been deprecated. Use DataFrame.map instead.\n",
      "  expanded_dff = expanded_dff.applymap(convert_if_number)\n"
     ]
    },
    {
     "name": "stdout",
     "output_type": "stream",
     "text": [
      "Saved: E:\\KreupAI\\DAta\\ownplayerstat\\Sevilla vs Real Betis.csv\n"
     ]
    },
    {
     "name": "stderr",
     "output_type": "stream",
     "text": [
      "C:\\Users\\kevin\\AppData\\Local\\Temp\\ipykernel_23208\\70385047.py:89: FutureWarning: DataFrame.applymap has been deprecated. Use DataFrame.map instead.\n",
      "  expanded_dff = expanded_dff.applymap(convert_if_number)\n"
     ]
    },
    {
     "name": "stdout",
     "output_type": "stream",
     "text": [
      "Saved: E:\\KreupAI\\DAta\\ownplayerstat\\Sevilla vs Real Madrid.csv\n"
     ]
    },
    {
     "name": "stderr",
     "output_type": "stream",
     "text": [
      "C:\\Users\\kevin\\AppData\\Local\\Temp\\ipykernel_23208\\70385047.py:89: FutureWarning: DataFrame.applymap has been deprecated. Use DataFrame.map instead.\n",
      "  expanded_dff = expanded_dff.applymap(convert_if_number)\n"
     ]
    },
    {
     "name": "stdout",
     "output_type": "stream",
     "text": [
      "Saved: E:\\KreupAI\\DAta\\ownplayerstat\\Sevilla vs Real Sociedad.csv\n"
     ]
    },
    {
     "name": "stderr",
     "output_type": "stream",
     "text": [
      "C:\\Users\\kevin\\AppData\\Local\\Temp\\ipykernel_23208\\70385047.py:89: FutureWarning: DataFrame.applymap has been deprecated. Use DataFrame.map instead.\n",
      "  expanded_dff = expanded_dff.applymap(convert_if_number)\n"
     ]
    },
    {
     "name": "stdout",
     "output_type": "stream",
     "text": [
      "Saved: E:\\KreupAI\\DAta\\ownplayerstat\\Sevilla vs Real Valladolid.csv\n"
     ]
    },
    {
     "name": "stderr",
     "output_type": "stream",
     "text": [
      "C:\\Users\\kevin\\AppData\\Local\\Temp\\ipykernel_23208\\70385047.py:89: FutureWarning: DataFrame.applymap has been deprecated. Use DataFrame.map instead.\n",
      "  expanded_dff = expanded_dff.applymap(convert_if_number)\n"
     ]
    },
    {
     "name": "stdout",
     "output_type": "stream",
     "text": [
      "Saved: E:\\KreupAI\\DAta\\ownplayerstat\\Sevilla vs Valencia.csv\n"
     ]
    },
    {
     "name": "stderr",
     "output_type": "stream",
     "text": [
      "C:\\Users\\kevin\\AppData\\Local\\Temp\\ipykernel_23208\\70385047.py:89: FutureWarning: DataFrame.applymap has been deprecated. Use DataFrame.map instead.\n",
      "  expanded_dff = expanded_dff.applymap(convert_if_number)\n"
     ]
    },
    {
     "name": "stdout",
     "output_type": "stream",
     "text": [
      "Saved: E:\\KreupAI\\DAta\\ownplayerstat\\Sevilla vs Villarreal.csv\n"
     ]
    },
    {
     "name": "stderr",
     "output_type": "stream",
     "text": [
      "C:\\Users\\kevin\\AppData\\Local\\Temp\\ipykernel_23208\\70385047.py:89: FutureWarning: DataFrame.applymap has been deprecated. Use DataFrame.map instead.\n",
      "  expanded_dff = expanded_dff.applymap(convert_if_number)\n"
     ]
    },
    {
     "name": "stdout",
     "output_type": "stream",
     "text": [
      "Saved: E:\\KreupAI\\DAta\\ownplayerstat\\Valencia vs Athletic Club.csv\n"
     ]
    },
    {
     "name": "stderr",
     "output_type": "stream",
     "text": [
      "C:\\Users\\kevin\\AppData\\Local\\Temp\\ipykernel_23208\\70385047.py:89: FutureWarning: DataFrame.applymap has been deprecated. Use DataFrame.map instead.\n",
      "  expanded_dff = expanded_dff.applymap(convert_if_number)\n"
     ]
    },
    {
     "name": "stdout",
     "output_type": "stream",
     "text": [
      "Saved: E:\\KreupAI\\DAta\\ownplayerstat\\Valencia vs Atletico.csv\n"
     ]
    },
    {
     "name": "stderr",
     "output_type": "stream",
     "text": [
      "C:\\Users\\kevin\\AppData\\Local\\Temp\\ipykernel_23208\\70385047.py:89: FutureWarning: DataFrame.applymap has been deprecated. Use DataFrame.map instead.\n",
      "  expanded_dff = expanded_dff.applymap(convert_if_number)\n"
     ]
    },
    {
     "name": "stdout",
     "output_type": "stream",
     "text": [
      "Saved: E:\\KreupAI\\DAta\\ownplayerstat\\Valencia vs Barcelona.csv\n"
     ]
    },
    {
     "name": "stderr",
     "output_type": "stream",
     "text": [
      "C:\\Users\\kevin\\AppData\\Local\\Temp\\ipykernel_23208\\70385047.py:89: FutureWarning: DataFrame.applymap has been deprecated. Use DataFrame.map instead.\n",
      "  expanded_dff = expanded_dff.applymap(convert_if_number)\n"
     ]
    },
    {
     "name": "stdout",
     "output_type": "stream",
     "text": [
      "Saved: E:\\KreupAI\\DAta\\ownplayerstat\\Valencia vs Celta Vigo.csv\n"
     ]
    },
    {
     "name": "stderr",
     "output_type": "stream",
     "text": [
      "C:\\Users\\kevin\\AppData\\Local\\Temp\\ipykernel_23208\\70385047.py:89: FutureWarning: DataFrame.applymap has been deprecated. Use DataFrame.map instead.\n",
      "  expanded_dff = expanded_dff.applymap(convert_if_number)\n"
     ]
    },
    {
     "name": "stdout",
     "output_type": "stream",
     "text": [
      "Saved: E:\\KreupAI\\DAta\\ownplayerstat\\Valencia vs Deportivo Alaves.csv\n"
     ]
    },
    {
     "name": "stderr",
     "output_type": "stream",
     "text": [
      "C:\\Users\\kevin\\AppData\\Local\\Temp\\ipykernel_23208\\70385047.py:89: FutureWarning: DataFrame.applymap has been deprecated. Use DataFrame.map instead.\n",
      "  expanded_dff = expanded_dff.applymap(convert_if_number)\n"
     ]
    },
    {
     "name": "stdout",
     "output_type": "stream",
     "text": [
      "Saved: E:\\KreupAI\\DAta\\ownplayerstat\\Valencia vs Espanyol.csv\n"
     ]
    },
    {
     "name": "stderr",
     "output_type": "stream",
     "text": [
      "C:\\Users\\kevin\\AppData\\Local\\Temp\\ipykernel_23208\\70385047.py:89: FutureWarning: DataFrame.applymap has been deprecated. Use DataFrame.map instead.\n",
      "  expanded_dff = expanded_dff.applymap(convert_if_number)\n"
     ]
    },
    {
     "name": "stdout",
     "output_type": "stream",
     "text": [
      "Saved: E:\\KreupAI\\DAta\\ownplayerstat\\Valencia vs Getafe.csv\n"
     ]
    },
    {
     "name": "stderr",
     "output_type": "stream",
     "text": [
      "C:\\Users\\kevin\\AppData\\Local\\Temp\\ipykernel_23208\\70385047.py:89: FutureWarning: DataFrame.applymap has been deprecated. Use DataFrame.map instead.\n",
      "  expanded_dff = expanded_dff.applymap(convert_if_number)\n"
     ]
    },
    {
     "name": "stdout",
     "output_type": "stream",
     "text": [
      "Saved: E:\\KreupAI\\DAta\\ownplayerstat\\Valencia vs Girona.csv\n"
     ]
    },
    {
     "name": "stderr",
     "output_type": "stream",
     "text": [
      "C:\\Users\\kevin\\AppData\\Local\\Temp\\ipykernel_23208\\70385047.py:89: FutureWarning: DataFrame.applymap has been deprecated. Use DataFrame.map instead.\n",
      "  expanded_dff = expanded_dff.applymap(convert_if_number)\n"
     ]
    },
    {
     "name": "stdout",
     "output_type": "stream",
     "text": [
      "Saved: E:\\KreupAI\\DAta\\ownplayerstat\\Valencia vs Las Palmas.csv\n"
     ]
    },
    {
     "name": "stderr",
     "output_type": "stream",
     "text": [
      "C:\\Users\\kevin\\AppData\\Local\\Temp\\ipykernel_23208\\70385047.py:89: FutureWarning: DataFrame.applymap has been deprecated. Use DataFrame.map instead.\n",
      "  expanded_dff = expanded_dff.applymap(convert_if_number)\n"
     ]
    },
    {
     "name": "stdout",
     "output_type": "stream",
     "text": [
      "Saved: E:\\KreupAI\\DAta\\ownplayerstat\\Valencia vs Leganes.csv\n"
     ]
    },
    {
     "name": "stderr",
     "output_type": "stream",
     "text": [
      "C:\\Users\\kevin\\AppData\\Local\\Temp\\ipykernel_23208\\70385047.py:89: FutureWarning: DataFrame.applymap has been deprecated. Use DataFrame.map instead.\n",
      "  expanded_dff = expanded_dff.applymap(convert_if_number)\n"
     ]
    },
    {
     "name": "stdout",
     "output_type": "stream",
     "text": [
      "Saved: E:\\KreupAI\\DAta\\ownplayerstat\\Valencia vs Mallorca.csv\n"
     ]
    },
    {
     "name": "stderr",
     "output_type": "stream",
     "text": [
      "C:\\Users\\kevin\\AppData\\Local\\Temp\\ipykernel_23208\\70385047.py:89: FutureWarning: DataFrame.applymap has been deprecated. Use DataFrame.map instead.\n",
      "  expanded_dff = expanded_dff.applymap(convert_if_number)\n"
     ]
    },
    {
     "name": "stdout",
     "output_type": "stream",
     "text": [
      "Saved: E:\\KreupAI\\DAta\\ownplayerstat\\Valencia vs Osasuna.csv\n"
     ]
    },
    {
     "name": "stderr",
     "output_type": "stream",
     "text": [
      "C:\\Users\\kevin\\AppData\\Local\\Temp\\ipykernel_23208\\70385047.py:89: FutureWarning: DataFrame.applymap has been deprecated. Use DataFrame.map instead.\n",
      "  expanded_dff = expanded_dff.applymap(convert_if_number)\n"
     ]
    },
    {
     "name": "stdout",
     "output_type": "stream",
     "text": [
      "Saved: E:\\KreupAI\\DAta\\ownplayerstat\\Valencia vs Rayo Vallecano.csv\n"
     ]
    },
    {
     "name": "stderr",
     "output_type": "stream",
     "text": [
      "C:\\Users\\kevin\\AppData\\Local\\Temp\\ipykernel_23208\\70385047.py:89: FutureWarning: DataFrame.applymap has been deprecated. Use DataFrame.map instead.\n",
      "  expanded_dff = expanded_dff.applymap(convert_if_number)\n"
     ]
    },
    {
     "name": "stdout",
     "output_type": "stream",
     "text": [
      "Saved: E:\\KreupAI\\DAta\\ownplayerstat\\Valencia vs Real Betis.csv\n"
     ]
    },
    {
     "name": "stderr",
     "output_type": "stream",
     "text": [
      "C:\\Users\\kevin\\AppData\\Local\\Temp\\ipykernel_23208\\70385047.py:89: FutureWarning: DataFrame.applymap has been deprecated. Use DataFrame.map instead.\n",
      "  expanded_dff = expanded_dff.applymap(convert_if_number)\n"
     ]
    },
    {
     "name": "stdout",
     "output_type": "stream",
     "text": [
      "Saved: E:\\KreupAI\\DAta\\ownplayerstat\\Valencia vs Real Madrid.csv\n"
     ]
    },
    {
     "name": "stderr",
     "output_type": "stream",
     "text": [
      "C:\\Users\\kevin\\AppData\\Local\\Temp\\ipykernel_23208\\70385047.py:89: FutureWarning: DataFrame.applymap has been deprecated. Use DataFrame.map instead.\n",
      "  expanded_dff = expanded_dff.applymap(convert_if_number)\n"
     ]
    },
    {
     "name": "stdout",
     "output_type": "stream",
     "text": [
      "Saved: E:\\KreupAI\\DAta\\ownplayerstat\\Valencia vs Real Sociedad.csv\n"
     ]
    },
    {
     "name": "stderr",
     "output_type": "stream",
     "text": [
      "C:\\Users\\kevin\\AppData\\Local\\Temp\\ipykernel_23208\\70385047.py:89: FutureWarning: DataFrame.applymap has been deprecated. Use DataFrame.map instead.\n",
      "  expanded_dff = expanded_dff.applymap(convert_if_number)\n"
     ]
    },
    {
     "name": "stdout",
     "output_type": "stream",
     "text": [
      "Saved: E:\\KreupAI\\DAta\\ownplayerstat\\Valencia vs Real Valladolid.csv\n"
     ]
    },
    {
     "name": "stderr",
     "output_type": "stream",
     "text": [
      "C:\\Users\\kevin\\AppData\\Local\\Temp\\ipykernel_23208\\70385047.py:89: FutureWarning: DataFrame.applymap has been deprecated. Use DataFrame.map instead.\n",
      "  expanded_dff = expanded_dff.applymap(convert_if_number)\n"
     ]
    },
    {
     "name": "stdout",
     "output_type": "stream",
     "text": [
      "Saved: E:\\KreupAI\\DAta\\ownplayerstat\\Valencia vs Sevilla.csv\n"
     ]
    },
    {
     "name": "stderr",
     "output_type": "stream",
     "text": [
      "C:\\Users\\kevin\\AppData\\Local\\Temp\\ipykernel_23208\\70385047.py:89: FutureWarning: DataFrame.applymap has been deprecated. Use DataFrame.map instead.\n",
      "  expanded_dff = expanded_dff.applymap(convert_if_number)\n"
     ]
    },
    {
     "name": "stdout",
     "output_type": "stream",
     "text": [
      "Saved: E:\\KreupAI\\DAta\\ownplayerstat\\Valencia vs Villarreal.csv\n"
     ]
    },
    {
     "name": "stderr",
     "output_type": "stream",
     "text": [
      "C:\\Users\\kevin\\AppData\\Local\\Temp\\ipykernel_23208\\70385047.py:89: FutureWarning: DataFrame.applymap has been deprecated. Use DataFrame.map instead.\n",
      "  expanded_dff = expanded_dff.applymap(convert_if_number)\n"
     ]
    },
    {
     "name": "stdout",
     "output_type": "stream",
     "text": [
      "Saved: E:\\KreupAI\\DAta\\ownplayerstat\\Villarreal vs Athletic Club.csv\n"
     ]
    },
    {
     "name": "stderr",
     "output_type": "stream",
     "text": [
      "C:\\Users\\kevin\\AppData\\Local\\Temp\\ipykernel_23208\\70385047.py:89: FutureWarning: DataFrame.applymap has been deprecated. Use DataFrame.map instead.\n",
      "  expanded_dff = expanded_dff.applymap(convert_if_number)\n"
     ]
    },
    {
     "name": "stdout",
     "output_type": "stream",
     "text": [
      "Saved: E:\\KreupAI\\DAta\\ownplayerstat\\Villarreal vs Atletico.csv\n"
     ]
    },
    {
     "name": "stderr",
     "output_type": "stream",
     "text": [
      "C:\\Users\\kevin\\AppData\\Local\\Temp\\ipykernel_23208\\70385047.py:89: FutureWarning: DataFrame.applymap has been deprecated. Use DataFrame.map instead.\n",
      "  expanded_dff = expanded_dff.applymap(convert_if_number)\n"
     ]
    },
    {
     "name": "stdout",
     "output_type": "stream",
     "text": [
      "Saved: E:\\KreupAI\\DAta\\ownplayerstat\\Villarreal vs Barcelona.csv\n"
     ]
    },
    {
     "name": "stderr",
     "output_type": "stream",
     "text": [
      "C:\\Users\\kevin\\AppData\\Local\\Temp\\ipykernel_23208\\70385047.py:89: FutureWarning: DataFrame.applymap has been deprecated. Use DataFrame.map instead.\n",
      "  expanded_dff = expanded_dff.applymap(convert_if_number)\n"
     ]
    },
    {
     "name": "stdout",
     "output_type": "stream",
     "text": [
      "Saved: E:\\KreupAI\\DAta\\ownplayerstat\\Villarreal vs Celta Vigo.csv\n"
     ]
    },
    {
     "name": "stderr",
     "output_type": "stream",
     "text": [
      "C:\\Users\\kevin\\AppData\\Local\\Temp\\ipykernel_23208\\70385047.py:89: FutureWarning: DataFrame.applymap has been deprecated. Use DataFrame.map instead.\n",
      "  expanded_dff = expanded_dff.applymap(convert_if_number)\n"
     ]
    },
    {
     "name": "stdout",
     "output_type": "stream",
     "text": [
      "Saved: E:\\KreupAI\\DAta\\ownplayerstat\\Villarreal vs Deportivo Alaves.csv\n"
     ]
    },
    {
     "name": "stderr",
     "output_type": "stream",
     "text": [
      "C:\\Users\\kevin\\AppData\\Local\\Temp\\ipykernel_23208\\70385047.py:89: FutureWarning: DataFrame.applymap has been deprecated. Use DataFrame.map instead.\n",
      "  expanded_dff = expanded_dff.applymap(convert_if_number)\n"
     ]
    },
    {
     "name": "stdout",
     "output_type": "stream",
     "text": [
      "Saved: E:\\KreupAI\\DAta\\ownplayerstat\\Villarreal vs Espanyol.csv\n"
     ]
    },
    {
     "name": "stderr",
     "output_type": "stream",
     "text": [
      "C:\\Users\\kevin\\AppData\\Local\\Temp\\ipykernel_23208\\70385047.py:89: FutureWarning: DataFrame.applymap has been deprecated. Use DataFrame.map instead.\n",
      "  expanded_dff = expanded_dff.applymap(convert_if_number)\n"
     ]
    },
    {
     "name": "stdout",
     "output_type": "stream",
     "text": [
      "Saved: E:\\KreupAI\\DAta\\ownplayerstat\\Villarreal vs Getafe.csv\n"
     ]
    },
    {
     "name": "stderr",
     "output_type": "stream",
     "text": [
      "C:\\Users\\kevin\\AppData\\Local\\Temp\\ipykernel_23208\\70385047.py:89: FutureWarning: DataFrame.applymap has been deprecated. Use DataFrame.map instead.\n",
      "  expanded_dff = expanded_dff.applymap(convert_if_number)\n"
     ]
    },
    {
     "name": "stdout",
     "output_type": "stream",
     "text": [
      "Saved: E:\\KreupAI\\DAta\\ownplayerstat\\Villarreal vs Girona.csv\n"
     ]
    },
    {
     "name": "stderr",
     "output_type": "stream",
     "text": [
      "C:\\Users\\kevin\\AppData\\Local\\Temp\\ipykernel_23208\\70385047.py:89: FutureWarning: DataFrame.applymap has been deprecated. Use DataFrame.map instead.\n",
      "  expanded_dff = expanded_dff.applymap(convert_if_number)\n"
     ]
    },
    {
     "name": "stdout",
     "output_type": "stream",
     "text": [
      "Saved: E:\\KreupAI\\DAta\\ownplayerstat\\Villarreal vs Las Palmas.csv\n"
     ]
    },
    {
     "name": "stderr",
     "output_type": "stream",
     "text": [
      "C:\\Users\\kevin\\AppData\\Local\\Temp\\ipykernel_23208\\70385047.py:89: FutureWarning: DataFrame.applymap has been deprecated. Use DataFrame.map instead.\n",
      "  expanded_dff = expanded_dff.applymap(convert_if_number)\n"
     ]
    },
    {
     "name": "stdout",
     "output_type": "stream",
     "text": [
      "Saved: E:\\KreupAI\\DAta\\ownplayerstat\\Villarreal vs Leganes.csv\n"
     ]
    },
    {
     "name": "stderr",
     "output_type": "stream",
     "text": [
      "C:\\Users\\kevin\\AppData\\Local\\Temp\\ipykernel_23208\\70385047.py:89: FutureWarning: DataFrame.applymap has been deprecated. Use DataFrame.map instead.\n",
      "  expanded_dff = expanded_dff.applymap(convert_if_number)\n"
     ]
    },
    {
     "name": "stdout",
     "output_type": "stream",
     "text": [
      "Saved: E:\\KreupAI\\DAta\\ownplayerstat\\Villarreal vs Mallorca.csv\n"
     ]
    },
    {
     "name": "stderr",
     "output_type": "stream",
     "text": [
      "C:\\Users\\kevin\\AppData\\Local\\Temp\\ipykernel_23208\\70385047.py:89: FutureWarning: DataFrame.applymap has been deprecated. Use DataFrame.map instead.\n",
      "  expanded_dff = expanded_dff.applymap(convert_if_number)\n"
     ]
    },
    {
     "name": "stdout",
     "output_type": "stream",
     "text": [
      "Saved: E:\\KreupAI\\DAta\\ownplayerstat\\Villarreal vs Osasuna.csv\n"
     ]
    },
    {
     "name": "stderr",
     "output_type": "stream",
     "text": [
      "C:\\Users\\kevin\\AppData\\Local\\Temp\\ipykernel_23208\\70385047.py:89: FutureWarning: DataFrame.applymap has been deprecated. Use DataFrame.map instead.\n",
      "  expanded_dff = expanded_dff.applymap(convert_if_number)\n"
     ]
    },
    {
     "name": "stdout",
     "output_type": "stream",
     "text": [
      "Saved: E:\\KreupAI\\DAta\\ownplayerstat\\Villarreal vs Rayo Vallecano.csv\n"
     ]
    },
    {
     "name": "stderr",
     "output_type": "stream",
     "text": [
      "C:\\Users\\kevin\\AppData\\Local\\Temp\\ipykernel_23208\\70385047.py:89: FutureWarning: DataFrame.applymap has been deprecated. Use DataFrame.map instead.\n",
      "  expanded_dff = expanded_dff.applymap(convert_if_number)\n"
     ]
    },
    {
     "name": "stdout",
     "output_type": "stream",
     "text": [
      "Saved: E:\\KreupAI\\DAta\\ownplayerstat\\Villarreal vs Real Betis.csv\n"
     ]
    },
    {
     "name": "stderr",
     "output_type": "stream",
     "text": [
      "C:\\Users\\kevin\\AppData\\Local\\Temp\\ipykernel_23208\\70385047.py:89: FutureWarning: DataFrame.applymap has been deprecated. Use DataFrame.map instead.\n",
      "  expanded_dff = expanded_dff.applymap(convert_if_number)\n"
     ]
    },
    {
     "name": "stdout",
     "output_type": "stream",
     "text": [
      "Saved: E:\\KreupAI\\DAta\\ownplayerstat\\Villarreal vs Real Madrid.csv\n"
     ]
    },
    {
     "name": "stderr",
     "output_type": "stream",
     "text": [
      "C:\\Users\\kevin\\AppData\\Local\\Temp\\ipykernel_23208\\70385047.py:89: FutureWarning: DataFrame.applymap has been deprecated. Use DataFrame.map instead.\n",
      "  expanded_dff = expanded_dff.applymap(convert_if_number)\n"
     ]
    },
    {
     "name": "stdout",
     "output_type": "stream",
     "text": [
      "Saved: E:\\KreupAI\\DAta\\ownplayerstat\\Villarreal vs Real Sociedad.csv\n"
     ]
    },
    {
     "name": "stderr",
     "output_type": "stream",
     "text": [
      "C:\\Users\\kevin\\AppData\\Local\\Temp\\ipykernel_23208\\70385047.py:89: FutureWarning: DataFrame.applymap has been deprecated. Use DataFrame.map instead.\n",
      "  expanded_dff = expanded_dff.applymap(convert_if_number)\n"
     ]
    },
    {
     "name": "stdout",
     "output_type": "stream",
     "text": [
      "Saved: E:\\KreupAI\\DAta\\ownplayerstat\\Villarreal vs Real Valladolid.csv\n"
     ]
    },
    {
     "name": "stderr",
     "output_type": "stream",
     "text": [
      "C:\\Users\\kevin\\AppData\\Local\\Temp\\ipykernel_23208\\70385047.py:89: FutureWarning: DataFrame.applymap has been deprecated. Use DataFrame.map instead.\n",
      "  expanded_dff = expanded_dff.applymap(convert_if_number)\n"
     ]
    },
    {
     "name": "stdout",
     "output_type": "stream",
     "text": [
      "Saved: E:\\KreupAI\\DAta\\ownplayerstat\\Villarreal vs Sevilla.csv\n"
     ]
    },
    {
     "name": "stderr",
     "output_type": "stream",
     "text": [
      "C:\\Users\\kevin\\AppData\\Local\\Temp\\ipykernel_23208\\70385047.py:89: FutureWarning: DataFrame.applymap has been deprecated. Use DataFrame.map instead.\n",
      "  expanded_dff = expanded_dff.applymap(convert_if_number)\n"
     ]
    },
    {
     "name": "stdout",
     "output_type": "stream",
     "text": [
      "Saved: E:\\KreupAI\\DAta\\ownplayerstat\\Villarreal vs Valencia.csv\n"
     ]
    }
   ],
   "source": [
    "import pandas as pd\n",
    "import os\n",
    "import ast, json\n",
    "import math\n",
    "\n",
    "# === CONFIGURATION ===\n",
    "events_dir = r\"E:\\KreupAI\\DAta\\Event\\24-25\"\n",
    "stats_dir = r\"E:\\KreupAI\\DAta\\PlayerStat\\24-25\"  # PlayerStat folder or CSV files\n",
    "output_dir = r\"E:\\KreupAI\\DAta\\ownplayerstat\"\n",
    "full_time = 90\n",
    "\n",
    "os.makedirs(output_dir, exist_ok=True)\n",
    "\n",
    "# --- Helper to parse qualifiers ---\n",
    "def parse_qualifiers(q):\n",
    "    if pd.isna(q):\n",
    "        return {}\n",
    "    if isinstance(q, str):\n",
    "        s = q.strip()\n",
    "        if s == \"\":\n",
    "            return {}\n",
    "        try:\n",
    "            q = ast.literal_eval(s)\n",
    "        except Exception:\n",
    "            try:\n",
    "                q = json.loads(s)\n",
    "            except Exception:\n",
    "                return {}\n",
    "    if isinstance(q, dict):\n",
    "        q = [q]\n",
    "    if not isinstance(q, list):\n",
    "        return {}\n",
    "\n",
    "    out = {}\n",
    "    for item in q:\n",
    "        if not isinstance(item, dict):\n",
    "            continue\n",
    "        name = None\n",
    "        t = item.get('type')\n",
    "        if isinstance(t, dict):\n",
    "            name = t.get('displayName')\n",
    "        if not name:\n",
    "            name = item.get('displayName') or item.get('name')\n",
    "        if not name:\n",
    "            continue\n",
    "\n",
    "        value = item.get('value', 1)\n",
    "        if value is None or (isinstance(value, str) and value.strip() == \"\"):\n",
    "            value = 1\n",
    "        if isinstance(value, (list, dict)):\n",
    "            value = str(value)\n",
    "        if isinstance(value, str):\n",
    "            try:\n",
    "                f = float(value)\n",
    "                value = int(f) if math.isclose(f, int(f)) else f\n",
    "            except Exception:\n",
    "                pass\n",
    "        if name not in out:\n",
    "            out[name] = value\n",
    "    return out\n",
    "\n",
    "# --- Process each match file ---\n",
    "for file in os.listdir(events_dir):\n",
    "    if not file.endswith(\".csv\"):\n",
    "        continue\n",
    "\n",
    "    match_name = os.path.splitext(file)[0]\n",
    "    event_path = os.path.join(events_dir, file)\n",
    "    playerstat_path = os.path.join(r\"E:\\KreupAI\\DAta\\PlayerStat\\24-25\", file)\n",
    "\n",
    "    if not os.path.exists(playerstat_path):\n",
    "        print(f\"Skipping {match_name}: corresponding PlayerStat file not found.\")\n",
    "        continue\n",
    "\n",
    "    # === Read Event Data ===\n",
    "    dff = pd.read_csv(event_path)\n",
    "    expanded = dff['qualifiers'].apply(parse_qualifiers)\n",
    "    expanded_dff = pd.json_normalize(expanded)\n",
    "\n",
    "    def convert_if_number(x):\n",
    "        try:\n",
    "            if pd.isna(x):\n",
    "                return x\n",
    "            f = float(x)\n",
    "            return int(f) if math.isclose(f, int(f)) else f\n",
    "        except Exception:\n",
    "            return x\n",
    "\n",
    "    expanded_dff = expanded_dff.applymap(convert_if_number)\n",
    "    dff = pd.concat([dff, expanded_dff], axis=1)\n",
    "\n",
    "    # === Ensure required columns ===\n",
    "    columns = [\n",
    "        \"id\",\"eventId\",\"datetime\",\"minute\",\"expandedMinute\",\"second\",\"period\",\n",
    "        \"teamId\",\"teamName\",\"oppositionTeamName\",\"ishome\",\"x\",\"y\",\"endX\",\"endY\",\n",
    "        \"type\",\"outcomeType\",\"isTouch\",\"isShot\",\"playerId\",\"name\",\"shirtNo\",\"JerseyNumber\",\n",
    "        \"position\",\"PlayerPosition\",\"isFirstEleven\",\"isGoal\",\"OwnGoal\",\"Yellow\",\"VoidYellowCard\",\n",
    "        \"SecondYellow\",\"Red\",\"Longball\",\"Cross\",\"Foul\",\"FreekickTaken\",\"ShotAssist\",\"KeyPass\",\n",
    "        \"IndividualPlay\",\"RegularPlay\",\"DivingSave\",\"KeeperSaveObox\",\"KeeperSaveInTheBox\",\n",
    "        \"KeeperThrow\",\"Blocked\",\"CornerTaken\",\"HighClaim\",\"Throughball\",\"LeadingToAttempt\",\n",
    "        \"LeadingToGoal\",\"Penalty\",\"PlayerPosition\",\"IntentionalAssist\",\"IntentionalGoalAssist\",\n",
    "        \"GoalKick\",\"FromCorner\",\"BigChanceCreated\",\"BigChance\",\"FastBreak\",\"LeadingToAttempt\",\n",
    "        \"OneOnOne\",\"SetPiece\",\"KeeperSaved\",\"KeeperSaveInSixYard\",\"OutfielderBlock\"\n",
    "    ]\n",
    "    for col in columns:\n",
    "        if col not in dff.columns:\n",
    "            dff[col] = 0\n",
    "    dff = dff[columns]\n",
    "\n",
    "    # === Build stats_df ===\n",
    "    player_keys = dff[['name','teamId','teamName','shirtNo','position','playerId','ishome','datetime']].drop_duplicates()\n",
    "    player_keys = player_keys.dropna(subset=['name']).reset_index(drop=True)\n",
    "\n",
    "    rows = []\n",
    "    for _, r in player_keys.iterrows():\n",
    "        name, team_id, team_name, shirt, position, pid, ishome, timestamp = (\n",
    "            r['name'], r['teamId'], r['teamName'], r['shirtNo'], r['position'], r['playerId'], r['ishome'], r['datetime']\n",
    "        )\n",
    "        pe = dff[(dff['name']==name)&(dff['teamId']==team_id)&(dff['shirtNo']==shirt)]\n",
    "        touches = (pe['isTouch']==True).sum()\n",
    "        shots = (pe['isShot']==True).sum()\n",
    "        goals = ((pe['type']=='Goal')&(pe['OwnGoal']!=1)).sum()\n",
    "        pengoals = ((pe['type']=='Goal')&(pe['Penalty']==1)).sum()\n",
    "        missedpens = ((pe['type']!='Goal')&(pe['Penalty']==1)).sum()\n",
    "        assists = (pe['IntentionalGoalAssist']==1).sum()\n",
    "        keypass = (pe['KeyPass']==1).sum()\n",
    "        bcc = (pe['BigChanceCreated']==1).sum()\n",
    "        disp = (pe['type']=='Dispossessed').sum()\n",
    "        passatt = (pe['type']=='Pass').sum()\n",
    "        succpass = ((pe['type']=='Pass')&(pe['outcomeType']=='Successful')).sum()\n",
    "        dribbles = (pe['type']=='TakeOn').sum()\n",
    "        succdrib = ((pe['type']=='TakeOn')&(pe['outcomeType']=='Successful')).sum()\n",
    "        errors = (pe['type']=='Error').sum()\n",
    "        crossesatt = ((pe['Cross']==1)&(pe['type']=='Pass')).sum()\n",
    "        succcross = ((pe['type']=='Pass')&(pe['Cross']==1)&(pe['outcomeType']=='Successful')).sum()\n",
    "        longballatt = ((pe['Longball']==1)&(pe['type']=='Pass')).sum()\n",
    "        succlongball = ((pe['type']=='Pass')&(pe['Longball']==1)&(pe['outcomeType']=='Successful')).sum()\n",
    "        throughballatt = ((pe['Throughball']==1)&(pe['type']=='Pass')).sum()\n",
    "        succthroughball = ((pe['type']=='Pass')&(pe['Throughball']==1)&(pe['outcomeType']=='Successful')).sum()\n",
    "        tackles = (pe['type']=='Tackle').sum()\n",
    "        succtackles = ((pe['type']=='Tackle')&(pe['outcomeType']=='Unsuccessful')).sum()\n",
    "        interceptions = (pe['type']=='Interception').sum()\n",
    "        clearances = (pe['type']=='Clearance').sum()\n",
    "        fouls = ((pe['type']=='Foul')&(pe['outcomeType']=='Unsuccessful')).sum()\n",
    "        fouled = ((pe['type']=='Foul')&(pe['outcomeType']=='Successful')).sum()\n",
    "        blockedshots = ((pe['type']=='Save')&(pe['OutfielderBlock']==1)).sum()\n",
    "\n",
    "        subs_on_vals = pe.loc[pe['type']=='SubstitutionOn','minute']\n",
    "        subs_off_vals = pe.loc[pe['type']=='SubstitutionOff','minute']\n",
    "        subs_on_min = subs_on_vals.min() if not subs_on_vals.empty else None\n",
    "        subs_off_min = subs_off_vals.min() if not subs_off_vals.empty else None\n",
    "\n",
    "        if pd.notna(subs_on_min):\n",
    "            start = int(subs_on_min)\n",
    "            if start >= full_time:\n",
    "                mins = 1\n",
    "            else:\n",
    "                end = int(subs_off_min) if pd.notna(subs_off_min) else full_time\n",
    "                end = min(end, full_time)\n",
    "                mins = end - start\n",
    "                if mins < 1:\n",
    "                    mins = 1\n",
    "        elif pe['isFirstEleven'].any():\n",
    "            end = int(subs_off_min) if pd.notna(subs_off_min) else full_time\n",
    "            end = min(end, full_time)\n",
    "            mins = end\n",
    "            if mins < 0:\n",
    "                mins = 0\n",
    "        else:\n",
    "            mins = 0\n",
    "\n",
    "        rows.append({\n",
    "            'playerId': int(pid),\n",
    "            'name': name,\n",
    "            'teamId': int(team_id),\n",
    "            'teamName': team_name,\n",
    "            'ishome': ishome,\n",
    "            'shirtNo': int(shirt),\n",
    "            'position': position,\n",
    "            'timestamp': timestamp,\n",
    "            'minutes_played': int(mins),\n",
    "            'shots': shots,\n",
    "            'goals': goals,\n",
    "            'assists': assists,\n",
    "            'keypass': keypass,\n",
    "            'bcc': bcc,\n",
    "            'Touches': touches,\n",
    "            'dribbles': dribbles,\n",
    "            'disp': disp,\n",
    "            'succdrib': succdrib,\n",
    "            'Passatt': int(passatt),\n",
    "            'succPass': int(succpass),\n",
    "            'Crossesatt': int(crossesatt),\n",
    "            'succCross': int(succcross),\n",
    "            'Longballatt': int(longballatt),\n",
    "            'succLongball': int(succlongball),\n",
    "            'Throughballatt': int(throughballatt),\n",
    "            'succThroughball': int(succthroughball),\n",
    "            'TotTackles': int(tackles),\n",
    "            'succTackles': int(succtackles),\n",
    "            'Interceptions': int(interceptions),\n",
    "            'Clearances': clearances,\n",
    "            'blockedshots': blockedshots,\n",
    "            'Fouls': fouls,\n",
    "            'Fouled': fouled\n",
    "        })\n",
    "\n",
    "    stats_df = pd.DataFrame(rows).sort_values(['teamName','minutes_played'], ascending=[True,False]).reset_index(drop=True)\n",
    "\n",
    "    # === Merge with PlayerStat ===\n",
    "    df_stats = pd.read_csv(playerstat_path)\n",
    "    merged_df = pd.merge(stats_df, df_stats[['playerId','isManOfTheMatch','age','rating']], on='playerId', how='left')\n",
    "    merged_df['isManOfTheMatch'] = merged_df['isManOfTheMatch'].apply(lambda x: 1 if x is True else 0)\n",
    "    merged_df['matchname']=match_name\n",
    "    merged_df['season']='2024-25'\n",
    "\n",
    "    # === Save Output ===\n",
    "    output_file = os.path.join(output_dir, f\"{match_name}.csv\")\n",
    "    merged_df.to_csv(output_file, index=False)\n",
    "    print(f\"Saved: {output_file}\")\n"
   ]
  },
  {
   "cell_type": "code",
   "execution_count": null,
   "id": "32996ee6-2c13-4ddf-b381-c0136abb9802",
   "metadata": {},
   "outputs": [],
   "source": []
  }
 ],
 "metadata": {
  "kernelspec": {
   "display_name": "Python 3 (ipykernel)",
   "language": "python",
   "name": "python3"
  },
  "language_info": {
   "codemirror_mode": {
    "name": "ipython",
    "version": 3
   },
   "file_extension": ".py",
   "mimetype": "text/x-python",
   "name": "python",
   "nbconvert_exporter": "python",
   "pygments_lexer": "ipython3",
   "version": "3.12.4"
  }
 },
 "nbformat": 4,
 "nbformat_minor": 5
}
